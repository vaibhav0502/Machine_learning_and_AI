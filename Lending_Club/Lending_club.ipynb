{
 "cells": [
  {
   "cell_type": "markdown",
   "metadata": {},
   "source": [
    "## Problem Statement\n",
    "\n",
    "Lending loans to ‘risky’ applicants is the largest source of financial loss (called credit loss). The credit loss is the amount of money lost by the lender when the borrower refuses to pay or runs away with the money owed. In other words, borrowers who default cause the largest amount of loss to the lenders.\n",
    "\n",
    "### Business Understanding\n",
    "Lending Club is the largest online loan marketplace, facilitating personal loans, business loans, and financing of medical procedures. Borrowers can easily access lower interest rate loans through a fast online interface.\n"
   ]
  },
  {
   "cell_type": "code",
   "execution_count": 87,
   "metadata": {},
   "outputs": [],
   "source": [
    "import pandas as pd\n",
    "import numpy as np\n",
    "import matplotlib.pyplot as plt\n",
    "import seaborn as sns\n",
    "import warnings\n",
    "warnings.filterwarnings(\"ignore\")\n",
    "\n",
    "pd.options.display.max_rows = 500"
   ]
  },
  {
   "cell_type": "code",
   "execution_count": 88,
   "metadata": {},
   "outputs": [],
   "source": [
    "loan_data = pd.read_csv('loan.csv', encoding = \"ISO-8859-1\", low_memory=False)"
   ]
  },
  {
   "cell_type": "code",
   "execution_count": 89,
   "metadata": {},
   "outputs": [
    {
     "data": {
      "text/plain": [
       "(39717, 111)"
      ]
     },
     "execution_count": 89,
     "metadata": {},
     "output_type": "execute_result"
    }
   ],
   "source": [
    "loan_data.shape"
   ]
  },
  {
   "cell_type": "code",
   "execution_count": 90,
   "metadata": {},
   "outputs": [
    {
     "name": "stdout",
     "output_type": "stream",
     "text": [
      "<class 'pandas.core.frame.DataFrame'>\n",
      "RangeIndex: 39717 entries, 0 to 39716\n",
      "Columns: 111 entries, id to total_il_high_credit_limit\n",
      "dtypes: float64(74), int64(13), object(24)\n",
      "memory usage: 33.6+ MB\n"
     ]
    }
   ],
   "source": [
    "loan_data.info()"
   ]
  },
  {
   "cell_type": "markdown",
   "metadata": {},
   "source": [
    "## Data Understanding"
   ]
  },
  {
   "cell_type": "code",
   "execution_count": 91,
   "metadata": {},
   "outputs": [
    {
     "data": {
      "text/html": [
       "<div>\n",
       "<style scoped>\n",
       "    .dataframe tbody tr th:only-of-type {\n",
       "        vertical-align: middle;\n",
       "    }\n",
       "\n",
       "    .dataframe tbody tr th {\n",
       "        vertical-align: top;\n",
       "    }\n",
       "\n",
       "    .dataframe thead th {\n",
       "        text-align: right;\n",
       "    }\n",
       "</style>\n",
       "<table border=\"1\" class=\"dataframe\">\n",
       "  <thead>\n",
       "    <tr style=\"text-align: right;\">\n",
       "      <th></th>\n",
       "      <th>id</th>\n",
       "      <th>member_id</th>\n",
       "      <th>loan_amnt</th>\n",
       "      <th>funded_amnt</th>\n",
       "      <th>funded_amnt_inv</th>\n",
       "      <th>term</th>\n",
       "      <th>int_rate</th>\n",
       "      <th>installment</th>\n",
       "      <th>grade</th>\n",
       "      <th>sub_grade</th>\n",
       "      <th>...</th>\n",
       "      <th>num_tl_90g_dpd_24m</th>\n",
       "      <th>num_tl_op_past_12m</th>\n",
       "      <th>pct_tl_nvr_dlq</th>\n",
       "      <th>percent_bc_gt_75</th>\n",
       "      <th>pub_rec_bankruptcies</th>\n",
       "      <th>tax_liens</th>\n",
       "      <th>tot_hi_cred_lim</th>\n",
       "      <th>total_bal_ex_mort</th>\n",
       "      <th>total_bc_limit</th>\n",
       "      <th>total_il_high_credit_limit</th>\n",
       "    </tr>\n",
       "  </thead>\n",
       "  <tbody>\n",
       "    <tr>\n",
       "      <td>0</td>\n",
       "      <td>1077501</td>\n",
       "      <td>1296599</td>\n",
       "      <td>5000</td>\n",
       "      <td>5000</td>\n",
       "      <td>4975.0</td>\n",
       "      <td>36 months</td>\n",
       "      <td>10.65%</td>\n",
       "      <td>162.87</td>\n",
       "      <td>B</td>\n",
       "      <td>B2</td>\n",
       "      <td>...</td>\n",
       "      <td>NaN</td>\n",
       "      <td>NaN</td>\n",
       "      <td>NaN</td>\n",
       "      <td>NaN</td>\n",
       "      <td>0.0</td>\n",
       "      <td>0.0</td>\n",
       "      <td>NaN</td>\n",
       "      <td>NaN</td>\n",
       "      <td>NaN</td>\n",
       "      <td>NaN</td>\n",
       "    </tr>\n",
       "    <tr>\n",
       "      <td>1</td>\n",
       "      <td>1077430</td>\n",
       "      <td>1314167</td>\n",
       "      <td>2500</td>\n",
       "      <td>2500</td>\n",
       "      <td>2500.0</td>\n",
       "      <td>60 months</td>\n",
       "      <td>15.27%</td>\n",
       "      <td>59.83</td>\n",
       "      <td>C</td>\n",
       "      <td>C4</td>\n",
       "      <td>...</td>\n",
       "      <td>NaN</td>\n",
       "      <td>NaN</td>\n",
       "      <td>NaN</td>\n",
       "      <td>NaN</td>\n",
       "      <td>0.0</td>\n",
       "      <td>0.0</td>\n",
       "      <td>NaN</td>\n",
       "      <td>NaN</td>\n",
       "      <td>NaN</td>\n",
       "      <td>NaN</td>\n",
       "    </tr>\n",
       "    <tr>\n",
       "      <td>2</td>\n",
       "      <td>1077175</td>\n",
       "      <td>1313524</td>\n",
       "      <td>2400</td>\n",
       "      <td>2400</td>\n",
       "      <td>2400.0</td>\n",
       "      <td>36 months</td>\n",
       "      <td>15.96%</td>\n",
       "      <td>84.33</td>\n",
       "      <td>C</td>\n",
       "      <td>C5</td>\n",
       "      <td>...</td>\n",
       "      <td>NaN</td>\n",
       "      <td>NaN</td>\n",
       "      <td>NaN</td>\n",
       "      <td>NaN</td>\n",
       "      <td>0.0</td>\n",
       "      <td>0.0</td>\n",
       "      <td>NaN</td>\n",
       "      <td>NaN</td>\n",
       "      <td>NaN</td>\n",
       "      <td>NaN</td>\n",
       "    </tr>\n",
       "    <tr>\n",
       "      <td>3</td>\n",
       "      <td>1076863</td>\n",
       "      <td>1277178</td>\n",
       "      <td>10000</td>\n",
       "      <td>10000</td>\n",
       "      <td>10000.0</td>\n",
       "      <td>36 months</td>\n",
       "      <td>13.49%</td>\n",
       "      <td>339.31</td>\n",
       "      <td>C</td>\n",
       "      <td>C1</td>\n",
       "      <td>...</td>\n",
       "      <td>NaN</td>\n",
       "      <td>NaN</td>\n",
       "      <td>NaN</td>\n",
       "      <td>NaN</td>\n",
       "      <td>0.0</td>\n",
       "      <td>0.0</td>\n",
       "      <td>NaN</td>\n",
       "      <td>NaN</td>\n",
       "      <td>NaN</td>\n",
       "      <td>NaN</td>\n",
       "    </tr>\n",
       "    <tr>\n",
       "      <td>4</td>\n",
       "      <td>1075358</td>\n",
       "      <td>1311748</td>\n",
       "      <td>3000</td>\n",
       "      <td>3000</td>\n",
       "      <td>3000.0</td>\n",
       "      <td>60 months</td>\n",
       "      <td>12.69%</td>\n",
       "      <td>67.79</td>\n",
       "      <td>B</td>\n",
       "      <td>B5</td>\n",
       "      <td>...</td>\n",
       "      <td>NaN</td>\n",
       "      <td>NaN</td>\n",
       "      <td>NaN</td>\n",
       "      <td>NaN</td>\n",
       "      <td>0.0</td>\n",
       "      <td>0.0</td>\n",
       "      <td>NaN</td>\n",
       "      <td>NaN</td>\n",
       "      <td>NaN</td>\n",
       "      <td>NaN</td>\n",
       "    </tr>\n",
       "  </tbody>\n",
       "</table>\n",
       "<p>5 rows × 111 columns</p>\n",
       "</div>"
      ],
      "text/plain": [
       "        id  member_id  loan_amnt  funded_amnt  funded_amnt_inv        term  \\\n",
       "0  1077501    1296599       5000         5000           4975.0   36 months   \n",
       "1  1077430    1314167       2500         2500           2500.0   60 months   \n",
       "2  1077175    1313524       2400         2400           2400.0   36 months   \n",
       "3  1076863    1277178      10000        10000          10000.0   36 months   \n",
       "4  1075358    1311748       3000         3000           3000.0   60 months   \n",
       "\n",
       "  int_rate  installment grade sub_grade  ... num_tl_90g_dpd_24m  \\\n",
       "0   10.65%       162.87     B        B2  ...                NaN   \n",
       "1   15.27%        59.83     C        C4  ...                NaN   \n",
       "2   15.96%        84.33     C        C5  ...                NaN   \n",
       "3   13.49%       339.31     C        C1  ...                NaN   \n",
       "4   12.69%        67.79     B        B5  ...                NaN   \n",
       "\n",
       "  num_tl_op_past_12m pct_tl_nvr_dlq  percent_bc_gt_75 pub_rec_bankruptcies  \\\n",
       "0                NaN            NaN               NaN                  0.0   \n",
       "1                NaN            NaN               NaN                  0.0   \n",
       "2                NaN            NaN               NaN                  0.0   \n",
       "3                NaN            NaN               NaN                  0.0   \n",
       "4                NaN            NaN               NaN                  0.0   \n",
       "\n",
       "  tax_liens tot_hi_cred_lim total_bal_ex_mort total_bc_limit  \\\n",
       "0       0.0             NaN               NaN            NaN   \n",
       "1       0.0             NaN               NaN            NaN   \n",
       "2       0.0             NaN               NaN            NaN   \n",
       "3       0.0             NaN               NaN            NaN   \n",
       "4       0.0             NaN               NaN            NaN   \n",
       "\n",
       "  total_il_high_credit_limit  \n",
       "0                        NaN  \n",
       "1                        NaN  \n",
       "2                        NaN  \n",
       "3                        NaN  \n",
       "4                        NaN  \n",
       "\n",
       "[5 rows x 111 columns]"
      ]
     },
     "execution_count": 91,
     "metadata": {},
     "output_type": "execute_result"
    }
   ],
   "source": [
    "loan_data.head()"
   ]
  },
  {
   "cell_type": "code",
   "execution_count": 92,
   "metadata": {},
   "outputs": [],
   "source": [
    "# Function to get value_counts of any column\n",
    "def get_value_counts(col, df_data):\n",
    "    count = df_data[col].value_counts()\n",
    "    return count"
   ]
  },
  {
   "cell_type": "markdown",
   "metadata": {},
   "source": [
    "## Data cleaning"
   ]
  },
  {
   "cell_type": "code",
   "execution_count": 93,
   "metadata": {
    "scrolled": true
   },
   "outputs": [
    {
     "data": {
      "text/html": [
       "<div>\n",
       "<style scoped>\n",
       "    .dataframe tbody tr th:only-of-type {\n",
       "        vertical-align: middle;\n",
       "    }\n",
       "\n",
       "    .dataframe tbody tr th {\n",
       "        vertical-align: top;\n",
       "    }\n",
       "\n",
       "    .dataframe thead th {\n",
       "        text-align: right;\n",
       "    }\n",
       "</style>\n",
       "<table border=\"1\" class=\"dataframe\">\n",
       "  <thead>\n",
       "    <tr style=\"text-align: right;\">\n",
       "      <th></th>\n",
       "      <th>id</th>\n",
       "      <th>member_id</th>\n",
       "      <th>loan_amnt</th>\n",
       "      <th>funded_amnt</th>\n",
       "      <th>funded_amnt_inv</th>\n",
       "      <th>term</th>\n",
       "      <th>int_rate</th>\n",
       "      <th>installment</th>\n",
       "      <th>grade</th>\n",
       "      <th>sub_grade</th>\n",
       "      <th>...</th>\n",
       "      <th>num_tl_90g_dpd_24m</th>\n",
       "      <th>num_tl_op_past_12m</th>\n",
       "      <th>pct_tl_nvr_dlq</th>\n",
       "      <th>percent_bc_gt_75</th>\n",
       "      <th>pub_rec_bankruptcies</th>\n",
       "      <th>tax_liens</th>\n",
       "      <th>tot_hi_cred_lim</th>\n",
       "      <th>total_bal_ex_mort</th>\n",
       "      <th>total_bc_limit</th>\n",
       "      <th>total_il_high_credit_limit</th>\n",
       "    </tr>\n",
       "  </thead>\n",
       "  <tbody>\n",
       "  </tbody>\n",
       "</table>\n",
       "<p>0 rows × 111 columns</p>\n",
       "</div>"
      ],
      "text/plain": [
       "Empty DataFrame\n",
       "Columns: [id, member_id, loan_amnt, funded_amnt, funded_amnt_inv, term, int_rate, installment, grade, sub_grade, emp_title, emp_length, home_ownership, annual_inc, verification_status, issue_d, loan_status, pymnt_plan, url, desc, purpose, title, zip_code, addr_state, dti, delinq_2yrs, earliest_cr_line, inq_last_6mths, mths_since_last_delinq, mths_since_last_record, open_acc, pub_rec, revol_bal, revol_util, total_acc, initial_list_status, out_prncp, out_prncp_inv, total_pymnt, total_pymnt_inv, total_rec_prncp, total_rec_int, total_rec_late_fee, recoveries, collection_recovery_fee, last_pymnt_d, last_pymnt_amnt, next_pymnt_d, last_credit_pull_d, collections_12_mths_ex_med, mths_since_last_major_derog, policy_code, application_type, annual_inc_joint, dti_joint, verification_status_joint, acc_now_delinq, tot_coll_amt, tot_cur_bal, open_acc_6m, open_il_6m, open_il_12m, open_il_24m, mths_since_rcnt_il, total_bal_il, il_util, open_rv_12m, open_rv_24m, max_bal_bc, all_util, total_rev_hi_lim, inq_fi, total_cu_tl, inq_last_12m, acc_open_past_24mths, avg_cur_bal, bc_open_to_buy, bc_util, chargeoff_within_12_mths, delinq_amnt, mo_sin_old_il_acct, mo_sin_old_rev_tl_op, mo_sin_rcnt_rev_tl_op, mo_sin_rcnt_tl, mort_acc, mths_since_recent_bc, mths_since_recent_bc_dlq, mths_since_recent_inq, mths_since_recent_revol_delinq, num_accts_ever_120_pd, num_actv_bc_tl, num_actv_rev_tl, num_bc_sats, num_bc_tl, num_il_tl, num_op_rev_tl, num_rev_accts, num_rev_tl_bal_gt_0, num_sats, num_tl_120dpd_2m, ...]\n",
       "Index: []\n",
       "\n",
       "[0 rows x 111 columns]"
      ]
     },
     "execution_count": 93,
     "metadata": {},
     "output_type": "execute_result"
    }
   ],
   "source": [
    "# Check for duplicate rows in dataset based on id column\n",
    "loan_data[loan_data.duplicated(['id', 'member_id'])]"
   ]
  },
  {
   "cell_type": "code",
   "execution_count": 94,
   "metadata": {},
   "outputs": [],
   "source": [
    "# Function to get missing values percentage\n",
    "def miss_values(df_miss):\n",
    "    return round(100*df_miss.isnull().sum()/len(df_miss), 2)"
   ]
  },
  {
   "cell_type": "code",
   "execution_count": 95,
   "metadata": {},
   "outputs": [
    {
     "name": "stdout",
     "output_type": "stream",
     "text": [
      "Column count 54\n"
     ]
    },
    {
     "data": {
      "text/plain": [
       "total_il_high_credit_limit        100.00\n",
       "mo_sin_old_rev_tl_op              100.00\n",
       "bc_util                           100.00\n",
       "bc_open_to_buy                    100.00\n",
       "avg_cur_bal                       100.00\n",
       "acc_open_past_24mths              100.00\n",
       "inq_last_12m                      100.00\n",
       "total_cu_tl                       100.00\n",
       "inq_fi                            100.00\n",
       "total_rev_hi_lim                  100.00\n",
       "all_util                          100.00\n",
       "max_bal_bc                        100.00\n",
       "open_rv_24m                       100.00\n",
       "open_rv_12m                       100.00\n",
       "il_util                           100.00\n",
       "total_bal_il                      100.00\n",
       "mths_since_rcnt_il                100.00\n",
       "open_il_24m                       100.00\n",
       "open_il_12m                       100.00\n",
       "open_il_6m                        100.00\n",
       "open_acc_6m                       100.00\n",
       "tot_cur_bal                       100.00\n",
       "tot_coll_amt                      100.00\n",
       "total_bc_limit                    100.00\n",
       "dti_joint                         100.00\n",
       "annual_inc_joint                  100.00\n",
       "mths_since_last_major_derog       100.00\n",
       "mo_sin_old_il_acct                100.00\n",
       "verification_status_joint         100.00\n",
       "mo_sin_rcnt_rev_tl_op             100.00\n",
       "num_il_tl                         100.00\n",
       "mo_sin_rcnt_tl                    100.00\n",
       "total_bal_ex_mort                 100.00\n",
       "tot_hi_cred_lim                   100.00\n",
       "percent_bc_gt_75                  100.00\n",
       "pct_tl_nvr_dlq                    100.00\n",
       "num_tl_90g_dpd_24m                100.00\n",
       "num_tl_30dpd                      100.00\n",
       "num_tl_120dpd_2m                  100.00\n",
       "num_sats                          100.00\n",
       "num_rev_tl_bal_gt_0               100.00\n",
       "num_rev_accts                     100.00\n",
       "num_op_rev_tl                     100.00\n",
       "num_tl_op_past_12m                100.00\n",
       "num_bc_tl                         100.00\n",
       "mort_acc                          100.00\n",
       "num_actv_rev_tl                   100.00\n",
       "num_actv_bc_tl                    100.00\n",
       "num_accts_ever_120_pd             100.00\n",
       "mths_since_recent_revol_delinq    100.00\n",
       "mths_since_recent_inq             100.00\n",
       "mths_since_recent_bc_dlq          100.00\n",
       "mths_since_recent_bc              100.00\n",
       "num_bc_sats                       100.00\n",
       "next_pymnt_d                       97.13\n",
       "mths_since_last_record             92.99\n",
       "mths_since_last_delinq             64.66\n",
       "desc                               32.58\n",
       "emp_title                           6.19\n",
       "emp_length                          2.71\n",
       "pub_rec_bankruptcies                1.75\n",
       "last_pymnt_d                        0.18\n",
       "chargeoff_within_12_mths            0.14\n",
       "collections_12_mths_ex_med          0.14\n",
       "revol_util                          0.13\n",
       "tax_liens                           0.10\n",
       "title                               0.03\n",
       "last_credit_pull_d                  0.01\n",
       "url                                 0.00\n",
       "pymnt_plan                          0.00\n",
       "loan_status                         0.00\n",
       "verification_status                 0.00\n",
       "purpose                             0.00\n",
       "issue_d                             0.00\n",
       "funded_amnt                         0.00\n",
       "annual_inc                          0.00\n",
       "home_ownership                      0.00\n",
       "sub_grade                           0.00\n",
       "grade                               0.00\n",
       "installment                         0.00\n",
       "int_rate                            0.00\n",
       "term                                0.00\n",
       "funded_amnt_inv                     0.00\n",
       "addr_state                          0.00\n",
       "loan_amnt                           0.00\n",
       "member_id                           0.00\n",
       "zip_code                            0.00\n",
       "total_rec_prncp                     0.00\n",
       "dti                                 0.00\n",
       "total_pymnt_inv                     0.00\n",
       "delinq_amnt                         0.00\n",
       "acc_now_delinq                      0.00\n",
       "application_type                    0.00\n",
       "policy_code                         0.00\n",
       "last_pymnt_amnt                     0.00\n",
       "collection_recovery_fee             0.00\n",
       "recoveries                          0.00\n",
       "total_rec_late_fee                  0.00\n",
       "total_rec_int                       0.00\n",
       "total_pymnt                         0.00\n",
       "delinq_2yrs                         0.00\n",
       "out_prncp_inv                       0.00\n",
       "out_prncp                           0.00\n",
       "initial_list_status                 0.00\n",
       "total_acc                           0.00\n",
       "revol_bal                           0.00\n",
       "pub_rec                             0.00\n",
       "open_acc                            0.00\n",
       "inq_last_6mths                      0.00\n",
       "earliest_cr_line                    0.00\n",
       "id                                  0.00\n",
       "dtype: float64"
      ]
     },
     "execution_count": 95,
     "metadata": {},
     "output_type": "execute_result"
    }
   ],
   "source": [
    "# Check how many rows have all missing values\n",
    "print(\"Column count\", loan_data.isnull().all().sum())\n",
    "missing_data = miss_values(loan_data)\n",
    "missing_data.sort_values(ascending=False)"
   ]
  },
  {
   "cell_type": "code",
   "execution_count": 96,
   "metadata": {},
   "outputs": [
    {
     "name": "stdout",
     "output_type": "stream",
     "text": [
      "68 Columns with more than 0% missing values\n",
      "58 Columns with more than 10% missing values\n",
      "58 Columns with more than 20% missing values\n",
      "58 Columns with more than 30% missing values\n",
      "57 Columns with more than 40% missing values\n",
      "57 Columns with more than 50% missing values\n",
      "57 Columns with more than 60% missing values\n",
      "56 Columns with more than 70% missing values\n",
      "56 Columns with more than 80% missing values\n",
      "56 Columns with more than 90% missing values\n",
      "54 Columns with 100% missing values\n"
     ]
    }
   ],
   "source": [
    "for i in range(0,100,10):\n",
    "    per = len(missing_data.loc[missing_data > i])\n",
    "    print(f\"{per} Columns with more than {i}% missing values\")\n",
    "per = len(missing_data.loc[missing_data == 100])\n",
    "print(f\"{per} Columns with 100% missing values\")"
   ]
  },
  {
   "cell_type": "markdown",
   "metadata": {},
   "source": [
    "So there are **```54 columns```** with **```100% missing values```** So these columns won't help in analysis. We can drop such columns."
   ]
  },
  {
   "cell_type": "code",
   "execution_count": 97,
   "metadata": {},
   "outputs": [
    {
     "data": {
      "text/plain": [
       "(39717, 54)"
      ]
     },
     "execution_count": 97,
     "metadata": {},
     "output_type": "execute_result"
    }
   ],
   "source": [
    "columns_with_missing_values = list(missing_data[missing_data >= 50].index)\n",
    "loan_data.drop(columns_with_missing_values, axis=1, inplace=True)\n",
    "loan_data.shape"
   ]
  },
  {
   "cell_type": "code",
   "execution_count": 98,
   "metadata": {
    "scrolled": true
   },
   "outputs": [
    {
     "data": {
      "text/plain": [
       "tax_liens                         1\n",
       "delinq_amnt                       1\n",
       "chargeoff_within_12_mths          1\n",
       "acc_now_delinq                    1\n",
       "application_type                  1\n",
       "policy_code                       1\n",
       "initial_list_status               1\n",
       "collections_12_mths_ex_med        1\n",
       "pymnt_plan                        1\n",
       "term                              2\n",
       "pub_rec_bankruptcies              3\n",
       "verification_status               3\n",
       "loan_status                       3\n",
       "pub_rec                           5\n",
       "home_ownership                    5\n",
       "grade                             7\n",
       "inq_last_6mths                    9\n",
       "emp_length                       11\n",
       "delinq_2yrs                      11\n",
       "purpose                          14\n",
       "sub_grade                        35\n",
       "open_acc                         40\n",
       "addr_state                       50\n",
       "issue_d                          55\n",
       "total_acc                        82\n",
       "last_pymnt_d                    101\n",
       "last_credit_pull_d              106\n",
       "int_rate                        371\n",
       "earliest_cr_line                526\n",
       "zip_code                        823\n",
       "loan_amnt                       885\n",
       "funded_amnt                    1041\n",
       "revol_util                     1089\n",
       "out_prncp                      1137\n",
       "out_prncp_inv                  1138\n",
       "total_rec_late_fee             1356\n",
       "collection_recovery_fee        2616\n",
       "dti                            2868\n",
       "recoveries                     4040\n",
       "annual_inc                     5318\n",
       "total_rec_prncp                7976\n",
       "funded_amnt_inv                8205\n",
       "installment                   15383\n",
       "title                         19615\n",
       "revol_bal                     21711\n",
       "desc                          26527\n",
       "emp_title                     28820\n",
       "last_pymnt_amnt               34930\n",
       "total_rec_int                 35148\n",
       "total_pymnt_inv               37518\n",
       "total_pymnt                   37850\n",
       "url                           39717\n",
       "member_id                     39717\n",
       "id                            39717\n",
       "dtype: int64"
      ]
     },
     "execution_count": 98,
     "metadata": {},
     "output_type": "execute_result"
    }
   ],
   "source": [
    "# Check number of unique values from all columns\n",
    "unique_column_data = loan_data.nunique().sort_values()\n",
    "unique_column_data"
   ]
  },
  {
   "cell_type": "code",
   "execution_count": 99,
   "metadata": {},
   "outputs": [
    {
     "data": {
      "text/plain": [
       "['tax_liens',\n",
       " 'delinq_amnt',\n",
       " 'chargeoff_within_12_mths',\n",
       " 'acc_now_delinq',\n",
       " 'application_type',\n",
       " 'policy_code',\n",
       " 'initial_list_status',\n",
       " 'collections_12_mths_ex_med',\n",
       " 'pymnt_plan']"
      ]
     },
     "execution_count": 99,
     "metadata": {},
     "output_type": "execute_result"
    }
   ],
   "source": [
    "# List of columns with only one unique value\n",
    "col_list = list(unique_column_data[unique_column_data == 1].index)\n",
    "col_list"
   ]
  },
  {
   "cell_type": "markdown",
   "metadata": {},
   "source": [
    "These are few columns having only one unique values. So these columns won't help in analysis.\n",
    "\n",
    "Some other columns which are no longer useful.\n",
    "\n",
    "**```1.id```** Unique id given to loan, doesn't help to analysis\n",
    "\n",
    "**```2.member_id```** Unique id given to loan, doesn't help to analysis\n",
    "\n",
    "**```3.url```** URL for LC page with listing page, which has mothing to do with loan\n",
    "\n",
    "**```4.desc```** Loan description provided by borrower\n",
    "\n",
    "**```5.zip_code```** First 3 numbers of zip code are given, doesn't help to analysis\n",
    "\n",
    "**```6.emp_title```** Job description provided by borrower\n",
    "    \n",
    "**```7.funded_amnt```** Value for this column is equivalent to column loan_amnt.\n",
    "\n",
    "\n",
    "**Drop above columns from dataframe**"
   ]
  },
  {
   "cell_type": "code",
   "execution_count": 100,
   "metadata": {},
   "outputs": [],
   "source": [
    "# Cutomer behaviour columns\n",
    "redundant_col = ['funded_amnt', 'url', 'desc', 'zip_code', 'id', 'member_id', 'emp_title']\n",
    "col_list.extend(redundant_col)"
   ]
  },
  {
   "cell_type": "code",
   "execution_count": 101,
   "metadata": {},
   "outputs": [
    {
     "data": {
      "text/plain": [
       "(39717, 38)"
      ]
     },
     "execution_count": 101,
     "metadata": {},
     "output_type": "execute_result"
    }
   ],
   "source": [
    "# Drop all redundant columns\n",
    "loan_data.drop(col_list, axis=1, inplace=True)\n",
    "loan_data.shape"
   ]
  },
  {
   "cell_type": "markdown",
   "metadata": {},
   "source": [
    "#### We have few more cutomer behavioural columns. We can drop these columns\n",
    "\n",
    "**```delinq_2yr```**\n",
    "\n",
    "**```earliest_cr_line```**\n",
    "\n",
    "**```inq_last_6mths```**\n",
    "\n",
    "**```open_acc```**\n",
    "\n",
    "**```pub_rec```**\n",
    "\n",
    "**```revol_bal```**\n",
    "\n",
    "**```revol_util```**\n",
    "\n",
    "**```total_acc```**\n",
    "\n",
    "**```out_prncp```**\n",
    "\n",
    "**```out_prncp_inv```**\n",
    "\n",
    "**```total_pymnt```**\n",
    "\n",
    "**```total_pymnt_inv```**\n",
    "\n",
    "**```total_rec_prncp```**\n",
    "\n",
    "**```total_rec_int```**\n",
    "\n",
    "**```total_rec_late_fee```**\n",
    "\n",
    "**```recoveries```**\n",
    "\n",
    "**```collection_recovery_fee```**\n",
    "\n",
    "**```last_pymnt_d```**\n",
    "\n",
    "**```last_pymnt_amnt```**\n",
    "\n",
    "**```last_credit_pull_d```**\n",
    "\n",
    "**```application_type```**\n"
   ]
  },
  {
   "cell_type": "code",
   "execution_count": 102,
   "metadata": {},
   "outputs": [],
   "source": [
    "col_list_drop = ['delinq_2yrs', 'earliest_cr_line', 'inq_last_6mths', 'open_acc', 'pub_rec', 'revol_bal', \n",
    "                 'revol_util', 'total_acc', 'out_prncp', 'out_prncp_inv', 'total_pymnt', 'total_pymnt_inv', \n",
    "                 'total_rec_prncp', 'total_rec_int', 'total_rec_late_fee', 'recoveries', 'collection_recovery_fee', \n",
    "                 'last_pymnt_d', 'last_pymnt_amnt', 'last_credit_pull_d', 'title']"
   ]
  },
  {
   "cell_type": "code",
   "execution_count": 103,
   "metadata": {},
   "outputs": [
    {
     "data": {
      "text/plain": [
       "(39717, 17)"
      ]
     },
     "execution_count": 103,
     "metadata": {},
     "output_type": "execute_result"
    }
   ],
   "source": [
    "# Cutomer behaviour columns\n",
    "loan_data.drop(col_list_drop, axis=1, inplace=True)\n",
    "loan_data.shape"
   ]
  },
  {
   "cell_type": "code",
   "execution_count": 104,
   "metadata": {},
   "outputs": [
    {
     "data": {
      "text/plain": [
       "emp_length              2.71\n",
       "pub_rec_bankruptcies    1.75\n",
       "dtype: float64"
      ]
     },
     "execution_count": 104,
     "metadata": {},
     "output_type": "execute_result"
    }
   ],
   "source": [
    "# List of rows containing null values\n",
    "remaining_miss_data = miss_values(loan_data)\n",
    "remaining_miss_data[remaining_miss_data!=0]"
   ]
  },
  {
   "cell_type": "markdown",
   "metadata": {},
   "source": [
    "**Drop rows with NULL values from dataframe**"
   ]
  },
  {
   "cell_type": "markdown",
   "metadata": {},
   "source": [
    "**```pub_rec_bankruptcies```** column has **1.75% i.e 697** records of missing data. It gives information about number of bankruptcies.\n",
    "\n",
    "1.75% of data is negligible as compare to overall dataset. We decided to drop those rows so, we don't get any bias data."
   ]
  },
  {
   "cell_type": "code",
   "execution_count": 105,
   "metadata": {},
   "outputs": [
    {
     "data": {
      "text/plain": [
       "697"
      ]
     },
     "execution_count": 105,
     "metadata": {},
     "output_type": "execute_result"
    }
   ],
   "source": [
    "loan_data['pub_rec_bankruptcies'].isnull().sum()"
   ]
  },
  {
   "cell_type": "code",
   "execution_count": 106,
   "metadata": {},
   "outputs": [
    {
     "data": {
      "text/plain": [
       "0.0    37339\n",
       "1.0     1674\n",
       "2.0        7\n",
       "Name: pub_rec_bankruptcies, dtype: int64"
      ]
     },
     "execution_count": 106,
     "metadata": {},
     "output_type": "execute_result"
    }
   ],
   "source": [
    "get_value_counts('pub_rec_bankruptcies', loan_data)"
   ]
  },
  {
   "cell_type": "code",
   "execution_count": 107,
   "metadata": {},
   "outputs": [
    {
     "data": {
      "text/plain": [
       "(39020, 17)"
      ]
     },
     "execution_count": 107,
     "metadata": {},
     "output_type": "execute_result"
    }
   ],
   "source": [
    "# Drop rows containing null values from pub_rec_bankruptcies columns\n",
    "loan_data = loan_data[~loan_data['pub_rec_bankruptcies'].isnull()]\n",
    "loan_data.shape"
   ]
  },
  {
   "cell_type": "markdown",
   "metadata": {},
   "source": [
    "**```emp_length```** column has 1075 records of missing data. It gives information about borrower's employment length in years."
   ]
  },
  {
   "cell_type": "code",
   "execution_count": 108,
   "metadata": {},
   "outputs": [
    {
     "data": {
      "text/plain": [
       "1075"
      ]
     },
     "execution_count": 108,
     "metadata": {},
     "output_type": "execute_result"
    }
   ],
   "source": [
    "loan_data['emp_length'].isnull().sum()"
   ]
  },
  {
   "cell_type": "code",
   "execution_count": 109,
   "metadata": {},
   "outputs": [
    {
     "data": {
      "text/plain": [
       "10+ years    8760\n",
       "< 1 year     4416\n",
       "2 years      4304\n",
       "3 years      4034\n",
       "4 years      3391\n",
       "5 years      3249\n",
       "1 year       3148\n",
       "6 years      2197\n",
       "7 years      1751\n",
       "8 years      1454\n",
       "9 years      1241\n",
       "Name: emp_length, dtype: int64"
      ]
     },
     "execution_count": 109,
     "metadata": {},
     "output_type": "execute_result"
    }
   ],
   "source": [
    "get_value_counts('emp_length', loan_data)"
   ]
  },
  {
   "cell_type": "code",
   "execution_count": 110,
   "metadata": {},
   "outputs": [
    {
     "data": {
      "text/plain": [
       "(37945, 17)"
      ]
     },
     "execution_count": 110,
     "metadata": {},
     "output_type": "execute_result"
    }
   ],
   "source": [
    "# Drop rows containing null values from emp_length columns\n",
    "loan_data = loan_data[~loan_data['emp_length'].isnull()]\n",
    "loan_data.shape"
   ]
  },
  {
   "cell_type": "markdown",
   "metadata": {},
   "source": [
    "## Pie chart for loan status"
   ]
  },
  {
   "cell_type": "code",
   "execution_count": 111,
   "metadata": {},
   "outputs": [
    {
     "data": {
      "text/plain": [
       "<matplotlib.axes._subplots.AxesSubplot at 0x1f9c87e9ec8>"
      ]
     },
     "execution_count": 111,
     "metadata": {},
     "output_type": "execute_result"
    },
    {
     "data": {
      "image/png": "[encoded data removed]",
      "text/plain": [
       "<Figure size 432x288 with 1 Axes>"
      ]
     },
     "metadata": {},
     "output_type": "display_data"
    }
   ],
   "source": [
    "loan_data.groupby('loan_status').loan_status.count().plot(kind='pie',autopct='%1.1f%%')"
   ]
  },
  {
   "cell_type": "markdown",
   "metadata": {},
   "source": [
    "Here we have around 2.9% of customer with status ```Current```. We can drop such rows."
   ]
  },
  {
   "cell_type": "code",
   "execution_count": 112,
   "metadata": {},
   "outputs": [],
   "source": [
    "# Drop with status Current\n",
    "loan_data = loan_data[~(loan_data['loan_status'] == 'Current')]"
   ]
  },
  {
   "cell_type": "code",
   "execution_count": 113,
   "metadata": {},
   "outputs": [
    {
     "data": {
      "text/html": [
       "<div>\n",
       "<style scoped>\n",
       "    .dataframe tbody tr th:only-of-type {\n",
       "        vertical-align: middle;\n",
       "    }\n",
       "\n",
       "    .dataframe tbody tr th {\n",
       "        vertical-align: top;\n",
       "    }\n",
       "\n",
       "    .dataframe thead th {\n",
       "        text-align: right;\n",
       "    }\n",
       "</style>\n",
       "<table border=\"1\" class=\"dataframe\">\n",
       "  <thead>\n",
       "    <tr style=\"text-align: right;\">\n",
       "      <th></th>\n",
       "      <th>loan_amnt</th>\n",
       "      <th>funded_amnt_inv</th>\n",
       "      <th>term</th>\n",
       "      <th>int_rate</th>\n",
       "      <th>installment</th>\n",
       "      <th>grade</th>\n",
       "      <th>sub_grade</th>\n",
       "      <th>emp_length</th>\n",
       "      <th>home_ownership</th>\n",
       "      <th>annual_inc</th>\n",
       "      <th>verification_status</th>\n",
       "      <th>issue_d</th>\n",
       "      <th>loan_status</th>\n",
       "      <th>purpose</th>\n",
       "      <th>addr_state</th>\n",
       "      <th>dti</th>\n",
       "      <th>pub_rec_bankruptcies</th>\n",
       "    </tr>\n",
       "  </thead>\n",
       "  <tbody>\n",
       "    <tr>\n",
       "      <td>0</td>\n",
       "      <td>5000</td>\n",
       "      <td>4975.0</td>\n",
       "      <td>36 months</td>\n",
       "      <td>10.65%</td>\n",
       "      <td>162.87</td>\n",
       "      <td>B</td>\n",
       "      <td>B2</td>\n",
       "      <td>10+ years</td>\n",
       "      <td>RENT</td>\n",
       "      <td>24000.0</td>\n",
       "      <td>Verified</td>\n",
       "      <td>Dec-11</td>\n",
       "      <td>Fully Paid</td>\n",
       "      <td>credit_card</td>\n",
       "      <td>AZ</td>\n",
       "      <td>27.65</td>\n",
       "      <td>0.0</td>\n",
       "    </tr>\n",
       "    <tr>\n",
       "      <td>1</td>\n",
       "      <td>2500</td>\n",
       "      <td>2500.0</td>\n",
       "      <td>60 months</td>\n",
       "      <td>15.27%</td>\n",
       "      <td>59.83</td>\n",
       "      <td>C</td>\n",
       "      <td>C4</td>\n",
       "      <td>&lt; 1 year</td>\n",
       "      <td>RENT</td>\n",
       "      <td>30000.0</td>\n",
       "      <td>Source Verified</td>\n",
       "      <td>Dec-11</td>\n",
       "      <td>Charged Off</td>\n",
       "      <td>car</td>\n",
       "      <td>GA</td>\n",
       "      <td>1.00</td>\n",
       "      <td>0.0</td>\n",
       "    </tr>\n",
       "    <tr>\n",
       "      <td>2</td>\n",
       "      <td>2400</td>\n",
       "      <td>2400.0</td>\n",
       "      <td>36 months</td>\n",
       "      <td>15.96%</td>\n",
       "      <td>84.33</td>\n",
       "      <td>C</td>\n",
       "      <td>C5</td>\n",
       "      <td>10+ years</td>\n",
       "      <td>RENT</td>\n",
       "      <td>12252.0</td>\n",
       "      <td>Not Verified</td>\n",
       "      <td>Dec-11</td>\n",
       "      <td>Fully Paid</td>\n",
       "      <td>small_business</td>\n",
       "      <td>IL</td>\n",
       "      <td>8.72</td>\n",
       "      <td>0.0</td>\n",
       "    </tr>\n",
       "    <tr>\n",
       "      <td>3</td>\n",
       "      <td>10000</td>\n",
       "      <td>10000.0</td>\n",
       "      <td>36 months</td>\n",
       "      <td>13.49%</td>\n",
       "      <td>339.31</td>\n",
       "      <td>C</td>\n",
       "      <td>C1</td>\n",
       "      <td>10+ years</td>\n",
       "      <td>RENT</td>\n",
       "      <td>49200.0</td>\n",
       "      <td>Source Verified</td>\n",
       "      <td>Dec-11</td>\n",
       "      <td>Fully Paid</td>\n",
       "      <td>other</td>\n",
       "      <td>CA</td>\n",
       "      <td>20.00</td>\n",
       "      <td>0.0</td>\n",
       "    </tr>\n",
       "    <tr>\n",
       "      <td>5</td>\n",
       "      <td>5000</td>\n",
       "      <td>5000.0</td>\n",
       "      <td>36 months</td>\n",
       "      <td>7.90%</td>\n",
       "      <td>156.46</td>\n",
       "      <td>A</td>\n",
       "      <td>A4</td>\n",
       "      <td>3 years</td>\n",
       "      <td>RENT</td>\n",
       "      <td>36000.0</td>\n",
       "      <td>Source Verified</td>\n",
       "      <td>Dec-11</td>\n",
       "      <td>Fully Paid</td>\n",
       "      <td>wedding</td>\n",
       "      <td>AZ</td>\n",
       "      <td>11.20</td>\n",
       "      <td>0.0</td>\n",
       "    </tr>\n",
       "  </tbody>\n",
       "</table>\n",
       "</div>"
      ],
      "text/plain": [
       "   loan_amnt  funded_amnt_inv        term int_rate  installment grade  \\\n",
       "0       5000           4975.0   36 months   10.65%       162.87     B   \n",
       "1       2500           2500.0   60 months   15.27%        59.83     C   \n",
       "2       2400           2400.0   36 months   15.96%        84.33     C   \n",
       "3      10000          10000.0   36 months   13.49%       339.31     C   \n",
       "5       5000           5000.0   36 months    7.90%       156.46     A   \n",
       "\n",
       "  sub_grade emp_length home_ownership  annual_inc verification_status issue_d  \\\n",
       "0        B2  10+ years           RENT     24000.0            Verified  Dec-11   \n",
       "1        C4   < 1 year           RENT     30000.0     Source Verified  Dec-11   \n",
       "2        C5  10+ years           RENT     12252.0        Not Verified  Dec-11   \n",
       "3        C1  10+ years           RENT     49200.0     Source Verified  Dec-11   \n",
       "5        A4    3 years           RENT     36000.0     Source Verified  Dec-11   \n",
       "\n",
       "   loan_status         purpose addr_state    dti  pub_rec_bankruptcies  \n",
       "0   Fully Paid     credit_card         AZ  27.65                   0.0  \n",
       "1  Charged Off             car         GA   1.00                   0.0  \n",
       "2   Fully Paid  small_business         IL   8.72                   0.0  \n",
       "3   Fully Paid           other         CA  20.00                   0.0  \n",
       "5   Fully Paid         wedding         AZ  11.20                   0.0  "
      ]
     },
     "execution_count": 113,
     "metadata": {},
     "output_type": "execute_result"
    }
   ],
   "source": [
    "loan_data.head()"
   ]
  },
  {
   "cell_type": "markdown",
   "metadata": {},
   "source": [
    "### Derived columns for analysis"
   ]
  },
  {
   "cell_type": "markdown",
   "metadata": {},
   "source": [
    "#### Extract only percentage of int_rate and  revol_util column and remove %"
   ]
  },
  {
   "cell_type": "code",
   "execution_count": 114,
   "metadata": {},
   "outputs": [],
   "source": [
    "# Function to  remove % from  string of given column \n",
    "def remove_percentage_from_string(column_name):\n",
    "    loan_data[column_name].replace(\"%\", \"\", regex=True, inplace=True)\n",
    "    loan_data[column_name] = loan_data[column_name].astype('float64')"
   ]
  },
  {
   "cell_type": "code",
   "execution_count": 115,
   "metadata": {},
   "outputs": [],
   "source": [
    "# remove % from string of column int_rate\n",
    "remove_percentage_from_string('int_rate')\n",
    "\n",
    "# rename int_rate column as int_rate_percentage\n",
    "loan_data.rename(columns={\"int_rate\": \"int_rate_percentage\"}, inplace=True)\n"
   ]
  },
  {
   "cell_type": "markdown",
   "metadata": {},
   "source": [
    "Lets format **```emp_length```** column data\n",
    "\n",
    "- emp_length this column give information about employement length in years. Values are between  0 and 10 where 0 means less than one year and 10 means ten or more years.\n",
    "\n",
    "- Convert the column to values between 0 to 10"
   ]
  },
  {
   "cell_type": "code",
   "execution_count": 116,
   "metadata": {},
   "outputs": [
    {
     "data": {
      "text/plain": [
       "10+ years    8369\n",
       "< 1 year     4341\n",
       "2 years      4207\n",
       "3 years      3951\n",
       "4 years      3297\n",
       "5 years      3161\n",
       "1 year       3077\n",
       "6 years      2136\n",
       "7 years      1689\n",
       "8 years      1410\n",
       "9 years      1209\n",
       "Name: emp_length, dtype: int64"
      ]
     },
     "execution_count": 116,
     "metadata": {},
     "output_type": "execute_result"
    }
   ],
   "source": [
    "get_value_counts('emp_length', loan_data)"
   ]
  },
  {
   "cell_type": "code",
   "execution_count": 117,
   "metadata": {},
   "outputs": [],
   "source": [
    "dict_emp_length = {\n",
    "    '10+ years' : 10, '< 1 year' : 0, '2 years' : 2, '3 years' : 3, '4 years' : 4, '5 years' : 5, \n",
    "    '1 year' : 1, '6 years' : 6, '7 years' : 7, '8 years' : 8, '9 years': 9\n",
    "}"
   ]
  },
  {
   "cell_type": "code",
   "execution_count": 118,
   "metadata": {},
   "outputs": [],
   "source": [
    "# replace years from string\n",
    "loan_data = loan_data.replace({\"emp_length\": dict_emp_length})\n",
    "\n",
    "# rename emp_length column as emp_length_years\n",
    "loan_data.rename(columns={\"emp_length\": \"emp_length_years\"}, inplace=True)"
   ]
  },
  {
   "cell_type": "markdown",
   "metadata": {},
   "source": [
    "**```term```** column give information about the number of payments on the loan. Values are in months and can be either 36 or 60.\n",
    "Lets remove motnths string from given column"
   ]
  },
  {
   "cell_type": "code",
   "execution_count": 119,
   "metadata": {},
   "outputs": [
    {
     "data": {
      "text/plain": [
       " 36 months    27590\n",
       " 60 months     9257\n",
       "Name: term, dtype: int64"
      ]
     },
     "execution_count": 119,
     "metadata": {},
     "output_type": "execute_result"
    }
   ],
   "source": [
    "get_value_counts('term', loan_data)"
   ]
  },
  {
   "cell_type": "code",
   "execution_count": 120,
   "metadata": {},
   "outputs": [],
   "source": [
    "# remove months from string\n",
    "loan_data['term'] = loan_data.term.apply(lambda x: x.split()[0]).astype('float64')\n",
    "\n",
    "# rename term column as term_months\n",
    "loan_data.rename(columns={\"term\": \"term_months\"}, inplace=True)"
   ]
  },
  {
   "cell_type": "markdown",
   "metadata": {},
   "source": [
    "#### Derive month and year from date\n",
    "We have the following column with date information\n",
    "\n",
    "- ```issue_d:``` The month in which loan was funded\n",
    "\n",
    "Lets split date column into month and year column.\n"
   ]
  },
  {
   "cell_type": "code",
   "execution_count": 121,
   "metadata": {},
   "outputs": [],
   "source": [
    "# funtion to derive month and year as format of given 4 column is same\n",
    "def derive_month_year(column_name):\n",
    "    date_frame = pd.to_datetime(loan_data[column_name], format='%b-%y')\n",
    "    loan_data[f\"{column_name}_month\"] = date_frame.dt.month\n",
    "    loan_data[f\"{column_name}_year\"] = date_frame.dt.year"
   ]
  },
  {
   "cell_type": "code",
   "execution_count": 122,
   "metadata": {},
   "outputs": [],
   "source": [
    "derive_month_year('issue_d')"
   ]
  },
  {
   "cell_type": "markdown",
   "metadata": {},
   "source": [
    "### Update column datatype"
   ]
  },
  {
   "cell_type": "code",
   "execution_count": 123,
   "metadata": {},
   "outputs": [
    {
     "data": {
      "text/plain": [
       "loan_amnt                 int64\n",
       "funded_amnt_inv         float64\n",
       "term_months             float64\n",
       "int_rate_percentage     float64\n",
       "installment             float64\n",
       "grade                    object\n",
       "sub_grade                object\n",
       "emp_length_years          int64\n",
       "home_ownership           object\n",
       "annual_inc              float64\n",
       "verification_status      object\n",
       "issue_d                  object\n",
       "loan_status              object\n",
       "purpose                  object\n",
       "addr_state               object\n",
       "dti                     float64\n",
       "pub_rec_bankruptcies    float64\n",
       "issue_d_month             int64\n",
       "issue_d_year              int64\n",
       "dtype: object"
      ]
     },
     "execution_count": 123,
     "metadata": {},
     "output_type": "execute_result"
    }
   ],
   "source": [
    "loan_data.dtypes"
   ]
  },
  {
   "cell_type": "code",
   "execution_count": 124,
   "metadata": {},
   "outputs": [],
   "source": [
    "# convert following columns to category type\n",
    "column_to_category = ['grade', 'sub_grade', 'home_ownership', 'verification_status', 'loan_status', 'purpose', 'addr_state', 'pub_rec_bankruptcies']           \n",
    "loan_data[column_to_category] = loan_data[column_to_category].apply(lambda x: x.astype('category'))"
   ]
  },
  {
   "cell_type": "code",
   "execution_count": 125,
   "metadata": {},
   "outputs": [],
   "source": [
    "# convert following columns to float type\n",
    "column_to_float = list(loan_data.dtypes[loan_data.dtypes == 'int64'].index)\n",
    "loan_data[column_to_float] = loan_data[column_to_float].apply(lambda x: x.astype(np.float))"
   ]
  },
  {
   "cell_type": "code",
   "execution_count": 126,
   "metadata": {},
   "outputs": [],
   "source": [
    "# loan_data.to_csv('clean_loan.csv', encoding='utf-8', index=False)"
   ]
  },
  {
   "cell_type": "code",
   "execution_count": 127,
   "metadata": {},
   "outputs": [
    {
     "data": {
      "text/plain": [
       "(36847, 19)"
      ]
     },
     "execution_count": 127,
     "metadata": {},
     "output_type": "execute_result"
    }
   ],
   "source": [
    "# Dataframe after droping customer behavioural column and Columns with all missing data\n",
    "loan_data.shape"
   ]
  },
  {
   "cell_type": "code",
   "execution_count": 128,
   "metadata": {},
   "outputs": [],
   "source": [
    "df = loan_data"
   ]
  },
  {
   "cell_type": "markdown",
   "metadata": {},
   "source": [
    "## Univariate and Bivariate analysis"
   ]
  },
  {
   "cell_type": "code",
   "execution_count": 129,
   "metadata": {},
   "outputs": [
    {
     "data": {
      "image/png": "[encoded data removed]",
      "text/plain": [
       "<Figure size 720x360 with 1 Axes>"
      ]
     },
     "metadata": {
      "needs_background": "light"
     },
     "output_type": "display_data"
    }
   ],
   "source": [
    "plt.figure(figsize=(10, 5))\n",
    "sns.countplot(x='loan_status', data=df)\n",
    "plt.title('Overall Loan status count')\n",
    "plt.show()"
   ]
  },
  {
   "cell_type": "code",
   "execution_count": 130,
   "metadata": {},
   "outputs": [
    {
     "name": "stdout",
     "output_type": "stream",
     "text": [
      "loan_status\n",
      "Charged Off    14.0\n",
      "Fully Paid     86.0\n",
      "Name: loan_status, dtype: float64 2\n"
     ]
    },
    {
     "data": {
      "text/html": [
       "<div>\n",
       "<style scoped>\n",
       "    .dataframe tbody tr th:only-of-type {\n",
       "        vertical-align: middle;\n",
       "    }\n",
       "\n",
       "    .dataframe tbody tr th {\n",
       "        vertical-align: top;\n",
       "    }\n",
       "\n",
       "    .dataframe thead tr th {\n",
       "        text-align: left;\n",
       "    }\n",
       "\n",
       "    .dataframe thead tr:last-of-type th {\n",
       "        text-align: right;\n",
       "    }\n",
       "</style>\n",
       "<table border=\"1\" class=\"dataframe\">\n",
       "  <thead>\n",
       "    <tr>\n",
       "      <th></th>\n",
       "      <th>count</th>\n",
       "      <th>mean</th>\n",
       "    </tr>\n",
       "    <tr>\n",
       "      <th></th>\n",
       "      <th>loan_amnt</th>\n",
       "      <th>loan_amnt</th>\n",
       "    </tr>\n",
       "    <tr>\n",
       "      <th>loan_status</th>\n",
       "      <th></th>\n",
       "      <th></th>\n",
       "    </tr>\n",
       "  </thead>\n",
       "  <tbody>\n",
       "    <tr>\n",
       "      <td>Charged Off</td>\n",
       "      <td>5281</td>\n",
       "      <td>12236.347283</td>\n",
       "    </tr>\n",
       "    <tr>\n",
       "      <td>Fully Paid</td>\n",
       "      <td>31566</td>\n",
       "      <td>10958.130584</td>\n",
       "    </tr>\n",
       "  </tbody>\n",
       "</table>\n",
       "</div>"
      ],
      "text/plain": [
       "                count          mean\n",
       "            loan_amnt     loan_amnt\n",
       "loan_status                        \n",
       "Charged Off      5281  12236.347283\n",
       "Fully Paid      31566  10958.130584"
      ]
     },
     "execution_count": 130,
     "metadata": {},
     "output_type": "execute_result"
    }
   ],
   "source": [
    "print(round(df.groupby('loan_status')['loan_status'].count()/len(df['loan_status'])*100),2 )\n",
    "df.pivot_table(values = 'loan_amnt', index = ['loan_status'], aggfunc = ['count', 'mean'])"
   ]
  },
  {
   "cell_type": "markdown",
   "metadata": {},
   "source": [
    " ### Inference\n",
    " - Most of the loans are ```Fully Paid```\n",
    " - Around 14% loans are ```Charged Off``` (defaulters)"
   ]
  },
  {
   "cell_type": "code",
   "execution_count": 131,
   "metadata": {},
   "outputs": [
    {
     "data": {
      "text/plain": [
       "<matplotlib.axes._subplots.AxesSubplot at 0x1f9c6a32588>"
      ]
     },
     "execution_count": 131,
     "metadata": {},
     "output_type": "execute_result"
    },
    {
     "data": {
      "image/png": "[encoded data removed]",
      "text/plain": [
       "<Figure size 1080x216 with 1 Axes>"
      ]
     },
     "metadata": {
      "needs_background": "light"
     },
     "output_type": "display_data"
    }
   ],
   "source": [
    "plt.figure(figsize=(15, 3))\n",
    "sns.boxplot(x=df['annual_inc'], data=df)"
   ]
  },
  {
   "cell_type": "code",
   "execution_count": 132,
   "metadata": {},
   "outputs": [
    {
     "data": {
      "text/plain": [
       "60000.0"
      ]
     },
     "execution_count": 132,
     "metadata": {},
     "output_type": "execute_result"
    }
   ],
   "source": [
    "df.annual_inc.median()"
   ]
  },
  {
   "cell_type": "markdown",
   "metadata": {},
   "source": [
    "### Inference\n",
    "- Annual income of borrowers varies from 4000 (min) to 6,000,000 (max).\n",
    "- Median income is around 60000"
   ]
  },
  {
   "cell_type": "code",
   "execution_count": 133,
   "metadata": {},
   "outputs": [],
   "source": [
    "# This method plots a distribution of target column, and its boxplot against loan_status column\n",
    "def plot_distribution(dataframe, column, title):\n",
    "    plt.figure(figsize=(15,6))\n",
    "    plt.subplot(1, 2, 1)\n",
    "    p = sns.distplot(dataframe[column], bins=20)\n",
    "    plt.title(title)\n",
    "\n",
    "    plt.subplot(1, 2, 2)\n",
    "    sns.boxplot(x=dataframe[column], y=dataframe['loan_status'], data=dataframe)\n",
    "    plt.title(\"Boxplot\")\n",
    "    plt.show()"
   ]
  },
  {
   "cell_type": "markdown",
   "metadata": {},
   "source": [
    "## Loan amount distribution and Boxplot"
   ]
  },
  {
   "cell_type": "code",
   "execution_count": 134,
   "metadata": {},
   "outputs": [
    {
     "data": {
      "image/png": "[encoded data removed]",
      "text/plain": [
       "<Figure size 1080x432 with 2 Axes>"
      ]
     },
     "metadata": {
      "needs_background": "light"
     },
     "output_type": "display_data"
    }
   ],
   "source": [
    "plot_distribution(df, 'loan_amnt', 'Loan amount distribution')"
   ]
  },
  {
   "cell_type": "code",
   "execution_count": 135,
   "metadata": {},
   "outputs": [
    {
     "data": {
      "text/html": [
       "<div>\n",
       "<style scoped>\n",
       "    .dataframe tbody tr th:only-of-type {\n",
       "        vertical-align: middle;\n",
       "    }\n",
       "\n",
       "    .dataframe tbody tr th {\n",
       "        vertical-align: top;\n",
       "    }\n",
       "\n",
       "    .dataframe thead th {\n",
       "        text-align: right;\n",
       "    }\n",
       "</style>\n",
       "<table border=\"1\" class=\"dataframe\">\n",
       "  <thead>\n",
       "    <tr style=\"text-align: right;\">\n",
       "      <th></th>\n",
       "      <th>count</th>\n",
       "      <th>mean</th>\n",
       "      <th>std</th>\n",
       "      <th>min</th>\n",
       "      <th>25%</th>\n",
       "      <th>50%</th>\n",
       "      <th>75%</th>\n",
       "      <th>max</th>\n",
       "    </tr>\n",
       "    <tr>\n",
       "      <th>loan_status</th>\n",
       "      <th></th>\n",
       "      <th></th>\n",
       "      <th></th>\n",
       "      <th></th>\n",
       "      <th></th>\n",
       "      <th></th>\n",
       "      <th></th>\n",
       "      <th></th>\n",
       "    </tr>\n",
       "  </thead>\n",
       "  <tbody>\n",
       "    <tr>\n",
       "      <td>Charged Off</td>\n",
       "      <td>5281.0</td>\n",
       "      <td>12236.347283</td>\n",
       "      <td>8103.456528</td>\n",
       "      <td>1000.0</td>\n",
       "      <td>6000.0</td>\n",
       "      <td>10000.0</td>\n",
       "      <td>16950.0</td>\n",
       "      <td>35000.0</td>\n",
       "    </tr>\n",
       "    <tr>\n",
       "      <td>Fully Paid</td>\n",
       "      <td>31566.0</td>\n",
       "      <td>10958.130584</td>\n",
       "      <td>7223.977380</td>\n",
       "      <td>500.0</td>\n",
       "      <td>5400.0</td>\n",
       "      <td>9600.0</td>\n",
       "      <td>15000.0</td>\n",
       "      <td>35000.0</td>\n",
       "    </tr>\n",
       "  </tbody>\n",
       "</table>\n",
       "</div>"
      ],
      "text/plain": [
       "               count          mean          std     min     25%      50%  \\\n",
       "loan_status                                                                \n",
       "Charged Off   5281.0  12236.347283  8103.456528  1000.0  6000.0  10000.0   \n",
       "Fully Paid   31566.0  10958.130584  7223.977380   500.0  5400.0   9600.0   \n",
       "\n",
       "                 75%      max  \n",
       "loan_status                    \n",
       "Charged Off  16950.0  35000.0  \n",
       "Fully Paid   15000.0  35000.0  "
      ]
     },
     "execution_count": 135,
     "metadata": {},
     "output_type": "execute_result"
    }
   ],
   "source": [
    "df.groupby('loan_status')['loan_amnt'].describe()"
   ]
  },
  {
   "cell_type": "markdown",
   "metadata": {},
   "source": [
    "### Inference\n",
    "- The loan amount varies from 0 to 35,000\n",
    "- Most of the loan amounts are in the range of 0-15K\n"
   ]
  },
  {
   "cell_type": "markdown",
   "metadata": {},
   "source": [
    "## Interest rate percentage distribution and Boxplot"
   ]
  },
  {
   "cell_type": "code",
   "execution_count": 136,
   "metadata": {},
   "outputs": [
    {
     "data": {
      "image/png": "[encoded data removed]",
      "text/plain": [
       "<Figure size 1080x432 with 2 Axes>"
      ]
     },
     "metadata": {
      "needs_background": "light"
     },
     "output_type": "display_data"
    }
   ],
   "source": [
    "plot_distribution(df, 'int_rate_percentage', 'Interest rate percentage distribution')"
   ]
  },
  {
   "cell_type": "code",
   "execution_count": 137,
   "metadata": {},
   "outputs": [
    {
     "data": {
      "text/html": [
       "<div>\n",
       "<style scoped>\n",
       "    .dataframe tbody tr th:only-of-type {\n",
       "        vertical-align: middle;\n",
       "    }\n",
       "\n",
       "    .dataframe tbody tr th {\n",
       "        vertical-align: top;\n",
       "    }\n",
       "\n",
       "    .dataframe thead th {\n",
       "        text-align: right;\n",
       "    }\n",
       "</style>\n",
       "<table border=\"1\" class=\"dataframe\">\n",
       "  <thead>\n",
       "    <tr style=\"text-align: right;\">\n",
       "      <th></th>\n",
       "      <th>count</th>\n",
       "      <th>mean</th>\n",
       "      <th>std</th>\n",
       "      <th>min</th>\n",
       "      <th>25%</th>\n",
       "      <th>50%</th>\n",
       "      <th>75%</th>\n",
       "      <th>max</th>\n",
       "    </tr>\n",
       "    <tr>\n",
       "      <th>loan_status</th>\n",
       "      <th></th>\n",
       "      <th></th>\n",
       "      <th></th>\n",
       "      <th></th>\n",
       "      <th></th>\n",
       "      <th></th>\n",
       "      <th></th>\n",
       "      <th></th>\n",
       "    </tr>\n",
       "  </thead>\n",
       "  <tbody>\n",
       "    <tr>\n",
       "      <td>Charged Off</td>\n",
       "      <td>5281.0</td>\n",
       "      <td>13.932233</td>\n",
       "      <td>3.652394</td>\n",
       "      <td>5.42</td>\n",
       "      <td>11.49</td>\n",
       "      <td>13.79</td>\n",
       "      <td>16.45</td>\n",
       "      <td>24.40</td>\n",
       "    </tr>\n",
       "    <tr>\n",
       "      <td>Fully Paid</td>\n",
       "      <td>31566.0</td>\n",
       "      <td>11.663133</td>\n",
       "      <td>3.609582</td>\n",
       "      <td>5.42</td>\n",
       "      <td>8.59</td>\n",
       "      <td>11.49</td>\n",
       "      <td>14.09</td>\n",
       "      <td>24.11</td>\n",
       "    </tr>\n",
       "  </tbody>\n",
       "</table>\n",
       "</div>"
      ],
      "text/plain": [
       "               count       mean       std   min    25%    50%    75%    max\n",
       "loan_status                                                                \n",
       "Charged Off   5281.0  13.932233  3.652394  5.42  11.49  13.79  16.45  24.40\n",
       "Fully Paid   31566.0  11.663133  3.609582  5.42   8.59  11.49  14.09  24.11"
      ]
     },
     "execution_count": 137,
     "metadata": {},
     "output_type": "execute_result"
    }
   ],
   "source": [
    "df.groupby('loan_status')['int_rate_percentage'].describe()"
   ]
  },
  {
   "cell_type": "markdown",
   "metadata": {},
   "source": [
    "### Inference\n",
    "- Interest rate percentage varies from 5.42% to 24.40%\n",
    "- Average interest of Charged off (13.9%) is higher than Fully paid (11.6%)"
   ]
  },
  {
   "cell_type": "markdown",
   "metadata": {},
   "source": [
    "## Installment distribution and Boxplot"
   ]
  },
  {
   "cell_type": "code",
   "execution_count": 138,
   "metadata": {},
   "outputs": [
    {
     "data": {
      "image/png": "[encoded data removed]",
      "text/plain": [
       "<Figure size 1080x432 with 2 Axes>"
      ]
     },
     "metadata": {
      "needs_background": "light"
     },
     "output_type": "display_data"
    }
   ],
   "source": [
    "plot_distribution(df, 'installment', 'Installment distribution')"
   ]
  },
  {
   "cell_type": "code",
   "execution_count": 139,
   "metadata": {},
   "outputs": [
    {
     "data": {
      "text/html": [
       "<div>\n",
       "<style scoped>\n",
       "    .dataframe tbody tr th:only-of-type {\n",
       "        vertical-align: middle;\n",
       "    }\n",
       "\n",
       "    .dataframe tbody tr th {\n",
       "        vertical-align: top;\n",
       "    }\n",
       "\n",
       "    .dataframe thead th {\n",
       "        text-align: right;\n",
       "    }\n",
       "</style>\n",
       "<table border=\"1\" class=\"dataframe\">\n",
       "  <thead>\n",
       "    <tr style=\"text-align: right;\">\n",
       "      <th></th>\n",
       "      <th>count</th>\n",
       "      <th>mean</th>\n",
       "      <th>std</th>\n",
       "      <th>min</th>\n",
       "      <th>25%</th>\n",
       "      <th>50%</th>\n",
       "      <th>75%</th>\n",
       "      <th>max</th>\n",
       "    </tr>\n",
       "    <tr>\n",
       "      <th>loan_status</th>\n",
       "      <th></th>\n",
       "      <th></th>\n",
       "      <th></th>\n",
       "      <th></th>\n",
       "      <th></th>\n",
       "      <th></th>\n",
       "      <th></th>\n",
       "      <th></th>\n",
       "    </tr>\n",
       "  </thead>\n",
       "  <tbody>\n",
       "    <tr>\n",
       "      <td>Charged Off</td>\n",
       "      <td>5281.0</td>\n",
       "      <td>338.291574</td>\n",
       "      <td>216.140397</td>\n",
       "      <td>22.79</td>\n",
       "      <td>171.4400</td>\n",
       "      <td>296.72</td>\n",
       "      <td>459.600</td>\n",
       "      <td>1305.19</td>\n",
       "    </tr>\n",
       "    <tr>\n",
       "      <td>Fully Paid</td>\n",
       "      <td>31566.0</td>\n",
       "      <td>322.419822</td>\n",
       "      <td>207.564341</td>\n",
       "      <td>16.08</td>\n",
       "      <td>166.9025</td>\n",
       "      <td>277.98</td>\n",
       "      <td>424.225</td>\n",
       "      <td>1295.21</td>\n",
       "    </tr>\n",
       "  </tbody>\n",
       "</table>\n",
       "</div>"
      ],
      "text/plain": [
       "               count        mean         std    min       25%     50%  \\\n",
       "loan_status                                                             \n",
       "Charged Off   5281.0  338.291574  216.140397  22.79  171.4400  296.72   \n",
       "Fully Paid   31566.0  322.419822  207.564341  16.08  166.9025  277.98   \n",
       "\n",
       "                 75%      max  \n",
       "loan_status                    \n",
       "Charged Off  459.600  1305.19  \n",
       "Fully Paid   424.225  1295.21  "
      ]
     },
     "execution_count": 139,
     "metadata": {},
     "output_type": "execute_result"
    }
   ],
   "source": [
    "df.groupby('loan_status')['installment'].describe()"
   ]
  },
  {
   "cell_type": "markdown",
   "metadata": {},
   "source": [
    "### Inference\n",
    "- Charged Off\n",
    "    - Installment amount varies from 22 to 1305 for Charged Off\n",
    "    - Average installment amount is 339.51\n",
    "\n",
    "- Fully Paid\n",
    "    - Installment amount varies from 16 to 1295 for Charged Off\n",
    "    - Average installment amount is 322.61"
   ]
  },
  {
   "cell_type": "markdown",
   "metadata": {},
   "source": [
    "## dti distribution  and Boxplot"
   ]
  },
  {
   "cell_type": "code",
   "execution_count": 140,
   "metadata": {},
   "outputs": [
    {
     "data": {
      "image/png": "[encoded data removed]",
      "text/plain": [
       "<Figure size 1080x432 with 2 Axes>"
      ]
     },
     "metadata": {
      "needs_background": "light"
     },
     "output_type": "display_data"
    }
   ],
   "source": [
    "plot_distribution(df, 'dti', 'Loan amount distribution')"
   ]
  },
  {
   "cell_type": "code",
   "execution_count": 141,
   "metadata": {},
   "outputs": [
    {
     "data": {
      "text/html": [
       "<div>\n",
       "<style scoped>\n",
       "    .dataframe tbody tr th:only-of-type {\n",
       "        vertical-align: middle;\n",
       "    }\n",
       "\n",
       "    .dataframe tbody tr th {\n",
       "        vertical-align: top;\n",
       "    }\n",
       "\n",
       "    .dataframe thead th {\n",
       "        text-align: right;\n",
       "    }\n",
       "</style>\n",
       "<table border=\"1\" class=\"dataframe\">\n",
       "  <thead>\n",
       "    <tr style=\"text-align: right;\">\n",
       "      <th></th>\n",
       "      <th>count</th>\n",
       "      <th>mean</th>\n",
       "      <th>std</th>\n",
       "      <th>min</th>\n",
       "      <th>25%</th>\n",
       "      <th>50%</th>\n",
       "      <th>75%</th>\n",
       "      <th>max</th>\n",
       "    </tr>\n",
       "    <tr>\n",
       "      <th>loan_status</th>\n",
       "      <th></th>\n",
       "      <th></th>\n",
       "      <th></th>\n",
       "      <th></th>\n",
       "      <th></th>\n",
       "      <th></th>\n",
       "      <th></th>\n",
       "      <th></th>\n",
       "    </tr>\n",
       "  </thead>\n",
       "  <tbody>\n",
       "    <tr>\n",
       "      <td>Charged Off</td>\n",
       "      <td>5281.0</td>\n",
       "      <td>14.022721</td>\n",
       "      <td>6.559160</td>\n",
       "      <td>0.0</td>\n",
       "      <td>9.13</td>\n",
       "      <td>14.33</td>\n",
       "      <td>19.28</td>\n",
       "      <td>29.85</td>\n",
       "    </tr>\n",
       "    <tr>\n",
       "      <td>Fully Paid</td>\n",
       "      <td>31566.0</td>\n",
       "      <td>13.214632</td>\n",
       "      <td>6.659979</td>\n",
       "      <td>0.0</td>\n",
       "      <td>8.07</td>\n",
       "      <td>13.26</td>\n",
       "      <td>18.45</td>\n",
       "      <td>29.99</td>\n",
       "    </tr>\n",
       "  </tbody>\n",
       "</table>\n",
       "</div>"
      ],
      "text/plain": [
       "               count       mean       std  min   25%    50%    75%    max\n",
       "loan_status                                                              \n",
       "Charged Off   5281.0  14.022721  6.559160  0.0  9.13  14.33  19.28  29.85\n",
       "Fully Paid   31566.0  13.214632  6.659979  0.0  8.07  13.26  18.45  29.99"
      ]
     },
     "execution_count": 141,
     "metadata": {},
     "output_type": "execute_result"
    }
   ],
   "source": [
    "df.groupby('loan_status')['dti'].describe()"
   ]
  },
  {
   "cell_type": "markdown",
   "metadata": {},
   "source": [
    "### Inference\n",
    "- Charged Off\n",
    "    - dti amount varies from 0 to 29.85 for Charged Off\n",
    "    - Average dti is 14.05\n",
    "\n",
    "- Fully Paid\n",
    "    - dti amount varies from 0 to 29.99 for Fully paid\n",
    "    - Average dti is 13.21\n"
   ]
  },
  {
   "cell_type": "code",
   "execution_count": 142,
   "metadata": {},
   "outputs": [],
   "source": [
    "# Function to plat bar graph w.r.t given column\n",
    "def categoryBarPlot(df, columns, against, agg='count'):\n",
    "    rows = int(len(columns)/2)\n",
    "    for index, value in enumerate(columns, start=1):\n",
    "        plt.subplot(rows, 2, index)\n",
    "        ax = df.groupby(value)[against].agg(agg).plot.bar(color=sns.color_palette('husl', 16))\n",
    "        ax.set(title=f\"{str.title(value)} {agg} plot\")\n",
    "\n",
    "    plt.tight_layout()"
   ]
  },
  {
   "cell_type": "code",
   "execution_count": 143,
   "metadata": {},
   "outputs": [
    {
     "data": {
      "image/png": "[encoded data removed]",
      "text/plain": [
       "<Figure size 1080x720 with 4 Axes>"
      ]
     },
     "metadata": {
      "needs_background": "light"
     },
     "output_type": "display_data"
    }
   ],
   "source": [
    "column_to_category = ['term_months', 'grade', 'emp_length_years', 'purpose']\n",
    "plt.figure(figsize=(15,10))\n",
    "categoryBarPlot(df, column_to_category, 'loan_amnt')"
   ]
  },
  {
   "cell_type": "markdown",
   "metadata": {},
   "source": [
    "### Inference\n",
    "- Most of the loans are for 36 months\n",
    "- Most of the loans have grade of A and B,  i.e most of the loans are high graded loans.\n",
    "- Most of the employees applying for loan have experience more than 10 years.\n",
    "- Most of the loans are issued for the purpose of dept consolidation."
   ]
  },
  {
   "cell_type": "code",
   "execution_count": null,
   "metadata": {},
   "outputs": [],
   "source": []
  },
  {
   "cell_type": "code",
   "execution_count": 144,
   "metadata": {},
   "outputs": [
    {
     "data": {
      "image/png": "[encoded data removed]",
      "text/plain": [
       "<Figure size 1080x432 with 2 Axes>"
      ]
     },
     "metadata": {
      "needs_background": "light"
     },
     "output_type": "display_data"
    }
   ],
   "source": [
    "column_to_category = ['addr_state', 'home_ownership']\n",
    "plt.figure(figsize=(15,6))\n",
    "categoryBarPlot(df, column_to_category, 'loan_amnt')"
   ]
  },
  {
   "cell_type": "markdown",
   "metadata": {},
   "source": [
    "### Inference\n",
    "- Home ownership of most of the loan borrowers is RENT and MORTAGE\n",
    "- Most of the loans are from California(CA), following that is from New york(NY) and Florida(FL)"
   ]
  },
  {
   "cell_type": "markdown",
   "metadata": {},
   "source": [
    "## Loan issued year and month plot"
   ]
  },
  {
   "cell_type": "code",
   "execution_count": 145,
   "metadata": {},
   "outputs": [
    {
     "data": {
      "image/png": "[encoded data removed]",
      "text/plain": [
       "<Figure size 864x432 with 2 Axes>"
      ]
     },
     "metadata": {
      "needs_background": "light"
     },
     "output_type": "display_data"
    }
   ],
   "source": [
    "column_to_category = ['issue_d_year', 'issue_d_month']\n",
    "plt.figure(figsize=(12,6))\n",
    "categoryBarPlot(df, column_to_category, 'loan_amnt')"
   ]
  },
  {
   "cell_type": "markdown",
   "metadata": {},
   "source": [
    "- LC has been giving loans from year 2007 to 2011.\n",
    "- Most of the loans are given in ```2011``` year\n",
    "- Most of the loans are issued in December"
   ]
  },
  {
   "cell_type": "code",
   "execution_count": 146,
   "metadata": {},
   "outputs": [],
   "source": [
    "# Function to create bins\n",
    "def create_bins(df, column, bins, labels):\n",
    "    df[f'{column}_bins'] = pd.cut(df[column], bins=bins, labels=labels)\n",
    "\n",
    "# Function to calulcate percentage of defaulter and non-defaulter w.r.t given column\n",
    "def calculate_percentage_bin(df, on='loan_status', against=None):\n",
    "    grp = df.groupby([on,against])[against].count()\n",
    "    cnt = df.groupby(against)[against].count()\n",
    "    percentages = grp.unstack() * 100 / cnt.T\n",
    "    return percentages"
   ]
  },
  {
   "cell_type": "markdown",
   "metadata": {},
   "source": [
    "## Segmented Univariate analysis"
   ]
  },
  {
   "cell_type": "markdown",
   "metadata": {},
   "source": [
    "### Bins for loan_amnt"
   ]
  },
  {
   "cell_type": "code",
   "execution_count": 147,
   "metadata": {},
   "outputs": [],
   "source": [
    "# Derived categorical variable. Derive bin of Loan amount in interval of 5000\n",
    "bins=[x for x in range(0, 36000, 5000)]\n",
    "labels=[str(x)+'-'+str(x+5)+'k' for x in range (0, 35, 5)]\n",
    "create_bins(df, 'loan_amnt', bins, labels)"
   ]
  },
  {
   "cell_type": "code",
   "execution_count": 148,
   "metadata": {},
   "outputs": [
    {
     "data": {
      "text/html": [
       "<div>\n",
       "<style scoped>\n",
       "    .dataframe tbody tr th:only-of-type {\n",
       "        vertical-align: middle;\n",
       "    }\n",
       "\n",
       "    .dataframe tbody tr th {\n",
       "        vertical-align: top;\n",
       "    }\n",
       "\n",
       "    .dataframe thead th {\n",
       "        text-align: right;\n",
       "    }\n",
       "</style>\n",
       "<table border=\"1\" class=\"dataframe\">\n",
       "  <thead>\n",
       "    <tr style=\"text-align: right;\">\n",
       "      <th>loan_amnt_bins</th>\n",
       "      <th>0-5k</th>\n",
       "      <th>5-10k</th>\n",
       "      <th>10-15k</th>\n",
       "      <th>15-20k</th>\n",
       "      <th>20-25k</th>\n",
       "      <th>25-30k</th>\n",
       "      <th>30-35k</th>\n",
       "    </tr>\n",
       "    <tr>\n",
       "      <th>loan_status</th>\n",
       "      <th></th>\n",
       "      <th></th>\n",
       "      <th></th>\n",
       "      <th></th>\n",
       "      <th></th>\n",
       "      <th></th>\n",
       "      <th></th>\n",
       "    </tr>\n",
       "  </thead>\n",
       "  <tbody>\n",
       "    <tr>\n",
       "      <td>Charged Off</td>\n",
       "      <td>13.4952</td>\n",
       "      <td>12.637273</td>\n",
       "      <td>13.422999</td>\n",
       "      <td>17.151024</td>\n",
       "      <td>18.579235</td>\n",
       "      <td>20.520231</td>\n",
       "      <td>24.166667</td>\n",
       "    </tr>\n",
       "    <tr>\n",
       "      <td>Fully Paid</td>\n",
       "      <td>86.5048</td>\n",
       "      <td>87.362727</td>\n",
       "      <td>86.577001</td>\n",
       "      <td>82.848976</td>\n",
       "      <td>81.420765</td>\n",
       "      <td>79.479769</td>\n",
       "      <td>75.833333</td>\n",
       "    </tr>\n",
       "  </tbody>\n",
       "</table>\n",
       "</div>"
      ],
      "text/plain": [
       "loan_amnt_bins     0-5k      5-10k     10-15k     15-20k     20-25k  \\\n",
       "loan_status                                                           \n",
       "Charged Off     13.4952  12.637273  13.422999  17.151024  18.579235   \n",
       "Fully Paid      86.5048  87.362727  86.577001  82.848976  81.420765   \n",
       "\n",
       "loan_amnt_bins     25-30k     30-35k  \n",
       "loan_status                           \n",
       "Charged Off     20.520231  24.166667  \n",
       "Fully Paid      79.479769  75.833333  "
      ]
     },
     "execution_count": 148,
     "metadata": {},
     "output_type": "execute_result"
    }
   ],
   "source": [
    "# percentage of defaulter and non-defaulter w.r.t loan amount bins\n",
    "percentages = calculate_percentage_bin(df, on='loan_status', against='loan_amnt_bins')\n",
    "percentages"
   ]
  },
  {
   "cell_type": "code",
   "execution_count": 149,
   "metadata": {},
   "outputs": [
    {
     "data": {
      "image/png": "[encoded data removed]",
      "text/plain": [
       "<Figure size 720x360 with 1 Axes>"
      ]
     },
     "metadata": {
      "needs_background": "light"
     },
     "output_type": "display_data"
    }
   ],
   "source": [
    "plt.figure(figsize=(10, 5))\n",
    "ax = percentages.loc['Charged Off'].plot.bar(color=sns.color_palette('husl', 10))\n",
    "ax.set(xlabel=\"Loan amount in interval\", ylabel=\"Percentage of loan\")\n",
    "plt.show()"
   ]
  },
  {
   "cell_type": "markdown",
   "metadata": {},
   "source": [
    "### Inference\n",
    "- The percentage of charged off loans increases as loan amount interval increases. Most of the loans are below 20K amount.\n"
   ]
  },
  {
   "cell_type": "markdown",
   "metadata": {},
   "source": [
    "### Bins for income column"
   ]
  },
  {
   "cell_type": "code",
   "execution_count": 150,
   "metadata": {},
   "outputs": [
    {
     "data": {
      "text/plain": [
       "50-100k        17151\n",
       "25-50k         12162\n",
       "100-200k        4787\n",
       "10-25k          2130\n",
       "200-1000k        535\n",
       "0-10K             69\n",
       "1000k-6000k       13\n",
       "Name: annual_inc_bins, dtype: int64"
      ]
     },
     "execution_count": 150,
     "metadata": {},
     "output_type": "execute_result"
    }
   ],
   "source": [
    "# Derived categorical variable. Derive dti in interval of 5%\n",
    "bins=[0, 10000, 25000, 50000, 100000, 200000, 1000000, 6000000]\n",
    "labels=['0-10K', '10-25k', '25-50k', '50-100k', '100-200k', '200-1000k', '1000k-6000k']\n",
    "create_bins(df, 'annual_inc', bins, labels)\n",
    "\n",
    "df['annual_inc_bins'].value_counts()"
   ]
  },
  {
   "cell_type": "code",
   "execution_count": 151,
   "metadata": {},
   "outputs": [
    {
     "data": {
      "text/html": [
       "<div>\n",
       "<style scoped>\n",
       "    .dataframe tbody tr th:only-of-type {\n",
       "        vertical-align: middle;\n",
       "    }\n",
       "\n",
       "    .dataframe tbody tr th {\n",
       "        vertical-align: top;\n",
       "    }\n",
       "\n",
       "    .dataframe thead th {\n",
       "        text-align: right;\n",
       "    }\n",
       "</style>\n",
       "<table border=\"1\" class=\"dataframe\">\n",
       "  <thead>\n",
       "    <tr style=\"text-align: right;\">\n",
       "      <th>annual_inc_bins</th>\n",
       "      <th>0-10K</th>\n",
       "      <th>10-25k</th>\n",
       "      <th>25-50k</th>\n",
       "      <th>50-100k</th>\n",
       "      <th>100-200k</th>\n",
       "      <th>200-1000k</th>\n",
       "      <th>1000k-6000k</th>\n",
       "    </tr>\n",
       "    <tr>\n",
       "      <th>loan_status</th>\n",
       "      <th></th>\n",
       "      <th></th>\n",
       "      <th></th>\n",
       "      <th></th>\n",
       "      <th></th>\n",
       "      <th></th>\n",
       "      <th></th>\n",
       "    </tr>\n",
       "  </thead>\n",
       "  <tbody>\n",
       "    <tr>\n",
       "      <td>Charged Off</td>\n",
       "      <td>23.188406</td>\n",
       "      <td>18.497653</td>\n",
       "      <td>16.296662</td>\n",
       "      <td>13.515247</td>\n",
       "      <td>10.758304</td>\n",
       "      <td>10.280374</td>\n",
       "      <td>7.692308</td>\n",
       "    </tr>\n",
       "    <tr>\n",
       "      <td>Fully Paid</td>\n",
       "      <td>76.811594</td>\n",
       "      <td>81.502347</td>\n",
       "      <td>83.703338</td>\n",
       "      <td>86.484753</td>\n",
       "      <td>89.241696</td>\n",
       "      <td>89.719626</td>\n",
       "      <td>92.307692</td>\n",
       "    </tr>\n",
       "  </tbody>\n",
       "</table>\n",
       "</div>"
      ],
      "text/plain": [
       "annual_inc_bins      0-10K     10-25k     25-50k    50-100k   100-200k  \\\n",
       "loan_status                                                              \n",
       "Charged Off      23.188406  18.497653  16.296662  13.515247  10.758304   \n",
       "Fully Paid       76.811594  81.502347  83.703338  86.484753  89.241696   \n",
       "\n",
       "annual_inc_bins  200-1000k  1000k-6000k  \n",
       "loan_status                              \n",
       "Charged Off      10.280374     7.692308  \n",
       "Fully Paid       89.719626    92.307692  "
      ]
     },
     "execution_count": 151,
     "metadata": {},
     "output_type": "execute_result"
    }
   ],
   "source": [
    "# percentage of defaulter and non-defaulter w.r.t annual_income bins\n",
    "percentages = calculate_percentage_bin(df, on='loan_status', against='annual_inc_bins')\n",
    "percentages"
   ]
  },
  {
   "cell_type": "code",
   "execution_count": 152,
   "metadata": {},
   "outputs": [
    {
     "data": {
      "image/png": "[encoded data removed]",
      "text/plain": [
       "<Figure size 720x360 with 1 Axes>"
      ]
     },
     "metadata": {
      "needs_background": "light"
     },
     "output_type": "display_data"
    }
   ],
   "source": [
    "plt.figure(figsize=(10, 5))\n",
    "ax = percentages.loc['Charged Off'].plot.bar(color=sns.color_palette('husl', 10))\n",
    "ax.set(xlabel=\"Annual Income in interval\", ylabel=\"Percentage of bins\")\n",
    "plt.show()"
   ]
  },
  {
   "cell_type": "markdown",
   "metadata": {},
   "source": [
    "### Inference\n",
    "- Borrowers having Annual income in range of 0-10K has high rate of defaulter (23.18%), following that 10-25k and 25-50 has 18.49%, 13.51 respectively."
   ]
  },
  {
   "cell_type": "markdown",
   "metadata": {},
   "source": [
    "### Bins for dti column"
   ]
  },
  {
   "cell_type": "code",
   "execution_count": 153,
   "metadata": {},
   "outputs": [],
   "source": [
    "# Derived categorical variable. Derive dti in interval of 5%\n",
    "bins=[x for x in range(0, 35, 5)]\n",
    "labels=[str(x)+'-'+str(x+5)+'%' for x in range (0, 30, 5)]\n",
    "create_bins(df, 'dti', bins, labels)"
   ]
  },
  {
   "cell_type": "code",
   "execution_count": 154,
   "metadata": {},
   "outputs": [
    {
     "data": {
      "text/html": [
       "<div>\n",
       "<style scoped>\n",
       "    .dataframe tbody tr th:only-of-type {\n",
       "        vertical-align: middle;\n",
       "    }\n",
       "\n",
       "    .dataframe tbody tr th {\n",
       "        vertical-align: top;\n",
       "    }\n",
       "\n",
       "    .dataframe thead th {\n",
       "        text-align: right;\n",
       "    }\n",
       "</style>\n",
       "<table border=\"1\" class=\"dataframe\">\n",
       "  <thead>\n",
       "    <tr style=\"text-align: right;\">\n",
       "      <th>dti_bins</th>\n",
       "      <th>0-5%</th>\n",
       "      <th>5-10%</th>\n",
       "      <th>10-15%</th>\n",
       "      <th>15-20%</th>\n",
       "      <th>20-25%</th>\n",
       "      <th>25-30%</th>\n",
       "    </tr>\n",
       "    <tr>\n",
       "      <th>loan_status</th>\n",
       "      <th></th>\n",
       "      <th></th>\n",
       "      <th></th>\n",
       "      <th></th>\n",
       "      <th></th>\n",
       "      <th></th>\n",
       "    </tr>\n",
       "  </thead>\n",
       "  <tbody>\n",
       "    <tr>\n",
       "      <td>Charged Off</td>\n",
       "      <td>12.182852</td>\n",
       "      <td>12.5</td>\n",
       "      <td>14.299632</td>\n",
       "      <td>15.494622</td>\n",
       "      <td>16.598231</td>\n",
       "      <td>13.255034</td>\n",
       "    </tr>\n",
       "    <tr>\n",
       "      <td>Fully Paid</td>\n",
       "      <td>87.817148</td>\n",
       "      <td>87.5</td>\n",
       "      <td>85.700368</td>\n",
       "      <td>84.505378</td>\n",
       "      <td>83.401769</td>\n",
       "      <td>86.744966</td>\n",
       "    </tr>\n",
       "  </tbody>\n",
       "</table>\n",
       "</div>"
      ],
      "text/plain": [
       "dti_bins          0-5%  5-10%     10-15%     15-20%     20-25%     25-30%\n",
       "loan_status                                                              \n",
       "Charged Off  12.182852   12.5  14.299632  15.494622  16.598231  13.255034\n",
       "Fully Paid   87.817148   87.5  85.700368  84.505378  83.401769  86.744966"
      ]
     },
     "execution_count": 154,
     "metadata": {},
     "output_type": "execute_result"
    }
   ],
   "source": [
    "# percentage of defaulter and non-defaulter w.r.t dti bins\n",
    "percentages = calculate_percentage_bin(df, on='loan_status', against='dti_bins')\n",
    "percentages"
   ]
  },
  {
   "cell_type": "code",
   "execution_count": 155,
   "metadata": {},
   "outputs": [
    {
     "data": {
      "image/png": "[encoded data removed]",
      "text/plain": [
       "<Figure size 720x360 with 1 Axes>"
      ]
     },
     "metadata": {
      "needs_background": "light"
     },
     "output_type": "display_data"
    }
   ],
   "source": [
    "plt.figure(figsize=(10, 5))\n",
    "ax = percentages.loc['Charged Off'].plot.bar(color=sns.color_palette('husl', 10))\n",
    "ax.set(xlabel=\"dti in interval\", ylabel=\"Percentage of bins\")\n",
    "plt.show()"
   ]
  },
  {
   "cell_type": "markdown",
   "metadata": {},
   "source": [
    "### Inference\n",
    "- There is no much difference in the defaulters with respect dti percentage interval\n"
   ]
  },
  {
   "cell_type": "markdown",
   "metadata": {},
   "source": [
    "### Bins for installment per month income"
   ]
  },
  {
   "cell_type": "code",
   "execution_count": 156,
   "metadata": {},
   "outputs": [],
   "source": [
    "# derived new column --> installment_monthly_perc\n",
    "# convert annual income to monthly and calulate  percentage w.r.t  installment \n",
    "df['installment_monthly_perc'] = df['installment']/df['annual_inc'].apply(lambda x: x/12)*100"
   ]
  },
  {
   "cell_type": "code",
   "execution_count": 157,
   "metadata": {},
   "outputs": [],
   "source": [
    "# Derived categorical variable. Derive installment_monthly_perc in interval of 5%\n",
    "bins=[x for x in range(0, 35, 5)]\n",
    "labels=[str(x)+'-'+str(x+5)+'%' for x in range (0, 30, 5)]\n",
    "create_bins(df, 'installment_monthly_perc', bins, labels)"
   ]
  },
  {
   "cell_type": "code",
   "execution_count": 158,
   "metadata": {},
   "outputs": [
    {
     "data": {
      "text/plain": [
       "0-5%      15489\n",
       "5-10%     14694\n",
       "10-15%     5312\n",
       "15-20%     1191\n",
       "20-25%      144\n",
       "25-30%       17\n",
       "Name: installment_monthly_perc_bins, dtype: int64"
      ]
     },
     "execution_count": 158,
     "metadata": {},
     "output_type": "execute_result"
    }
   ],
   "source": [
    "df.installment_monthly_perc_bins.value_counts()"
   ]
  },
  {
   "cell_type": "code",
   "execution_count": 159,
   "metadata": {},
   "outputs": [
    {
     "data": {
      "text/html": [
       "<div>\n",
       "<style scoped>\n",
       "    .dataframe tbody tr th:only-of-type {\n",
       "        vertical-align: middle;\n",
       "    }\n",
       "\n",
       "    .dataframe tbody tr th {\n",
       "        vertical-align: top;\n",
       "    }\n",
       "\n",
       "    .dataframe thead th {\n",
       "        text-align: right;\n",
       "    }\n",
       "</style>\n",
       "<table border=\"1\" class=\"dataframe\">\n",
       "  <thead>\n",
       "    <tr style=\"text-align: right;\">\n",
       "      <th>installment_monthly_perc_bins</th>\n",
       "      <th>0-5%</th>\n",
       "      <th>5-10%</th>\n",
       "      <th>10-15%</th>\n",
       "      <th>15-20%</th>\n",
       "      <th>20-25%</th>\n",
       "      <th>25-30%</th>\n",
       "    </tr>\n",
       "    <tr>\n",
       "      <th>loan_status</th>\n",
       "      <th></th>\n",
       "      <th></th>\n",
       "      <th></th>\n",
       "      <th></th>\n",
       "      <th></th>\n",
       "      <th></th>\n",
       "    </tr>\n",
       "  </thead>\n",
       "  <tbody>\n",
       "    <tr>\n",
       "      <td>Charged Off</td>\n",
       "      <td>11.814836</td>\n",
       "      <td>14.604601</td>\n",
       "      <td>19.088855</td>\n",
       "      <td>21.662469</td>\n",
       "      <td>20.833333</td>\n",
       "      <td>17.647059</td>\n",
       "    </tr>\n",
       "    <tr>\n",
       "      <td>Fully Paid</td>\n",
       "      <td>88.185164</td>\n",
       "      <td>85.395399</td>\n",
       "      <td>80.911145</td>\n",
       "      <td>78.337531</td>\n",
       "      <td>79.166667</td>\n",
       "      <td>82.352941</td>\n",
       "    </tr>\n",
       "  </tbody>\n",
       "</table>\n",
       "</div>"
      ],
      "text/plain": [
       "installment_monthly_perc_bins       0-5%      5-10%     10-15%     15-20%  \\\n",
       "loan_status                                                                 \n",
       "Charged Off                    11.814836  14.604601  19.088855  21.662469   \n",
       "Fully Paid                     88.185164  85.395399  80.911145  78.337531   \n",
       "\n",
       "installment_monthly_perc_bins     20-25%     25-30%  \n",
       "loan_status                                          \n",
       "Charged Off                    20.833333  17.647059  \n",
       "Fully Paid                     79.166667  82.352941  "
      ]
     },
     "execution_count": 159,
     "metadata": {},
     "output_type": "execute_result"
    }
   ],
   "source": [
    "percentages = calculate_percentage_bin(df, on='loan_status', against='installment_monthly_perc_bins')\n",
    "percentages"
   ]
  },
  {
   "cell_type": "code",
   "execution_count": 160,
   "metadata": {},
   "outputs": [
    {
     "data": {
      "image/png": "[encoded data removed]",
      "text/plain": [
       "<Figure size 720x360 with 1 Axes>"
      ]
     },
     "metadata": {
      "needs_background": "light"
     },
     "output_type": "display_data"
    }
   ],
   "source": [
    "plt.figure(figsize=(10, 5))\n",
    "ax = percentages.loc['Charged Off'].plot.bar(color=sns.color_palette('husl', 10))\n",
    "ax.set(xlabel=\"Installments percentage in interval\", ylabel=\"Monthly installment percentage\")\n",
    "plt.show()"
   ]
  },
  {
   "cell_type": "markdown",
   "metadata": {},
   "source": [
    "### Defaulters w.r.t terms purpose"
   ]
  },
  {
   "cell_type": "code",
   "execution_count": 161,
   "metadata": {},
   "outputs": [
    {
     "data": {
      "text/html": [
       "<div>\n",
       "<style scoped>\n",
       "    .dataframe tbody tr th:only-of-type {\n",
       "        vertical-align: middle;\n",
       "    }\n",
       "\n",
       "    .dataframe tbody tr th {\n",
       "        vertical-align: top;\n",
       "    }\n",
       "\n",
       "    .dataframe thead th {\n",
       "        text-align: right;\n",
       "    }\n",
       "</style>\n",
       "<table border=\"1\" class=\"dataframe\">\n",
       "  <thead>\n",
       "    <tr style=\"text-align: right;\">\n",
       "      <th>purpose</th>\n",
       "      <th>car</th>\n",
       "      <th>credit_card</th>\n",
       "      <th>debt_consolidation</th>\n",
       "      <th>educational</th>\n",
       "      <th>home_improvement</th>\n",
       "      <th>house</th>\n",
       "      <th>major_purchase</th>\n",
       "      <th>medical</th>\n",
       "      <th>moving</th>\n",
       "      <th>other</th>\n",
       "      <th>renewable_energy</th>\n",
       "      <th>small_business</th>\n",
       "      <th>vacation</th>\n",
       "      <th>wedding</th>\n",
       "    </tr>\n",
       "    <tr>\n",
       "      <th>loan_status</th>\n",
       "      <th></th>\n",
       "      <th></th>\n",
       "      <th></th>\n",
       "      <th></th>\n",
       "      <th></th>\n",
       "      <th></th>\n",
       "      <th></th>\n",
       "      <th></th>\n",
       "      <th></th>\n",
       "      <th></th>\n",
       "      <th></th>\n",
       "      <th></th>\n",
       "      <th></th>\n",
       "      <th></th>\n",
       "    </tr>\n",
       "  </thead>\n",
       "  <tbody>\n",
       "    <tr>\n",
       "      <td>Charged Off</td>\n",
       "      <td>10.621943</td>\n",
       "      <td>10.456155</td>\n",
       "      <td>15.117349</td>\n",
       "      <td>16.38796</td>\n",
       "      <td>11.72817</td>\n",
       "      <td>16.618911</td>\n",
       "      <td>10.043668</td>\n",
       "      <td>15.455951</td>\n",
       "      <td>14.917127</td>\n",
       "      <td>16.13082</td>\n",
       "      <td>19.148936</td>\n",
       "      <td>26.795413</td>\n",
       "      <td>14.619883</td>\n",
       "      <td>9.955257</td>\n",
       "    </tr>\n",
       "    <tr>\n",
       "      <td>Fully Paid</td>\n",
       "      <td>89.378057</td>\n",
       "      <td>89.543845</td>\n",
       "      <td>84.882651</td>\n",
       "      <td>83.61204</td>\n",
       "      <td>88.27183</td>\n",
       "      <td>83.381089</td>\n",
       "      <td>89.956332</td>\n",
       "      <td>84.544049</td>\n",
       "      <td>85.082873</td>\n",
       "      <td>83.86918</td>\n",
       "      <td>80.851064</td>\n",
       "      <td>73.204587</td>\n",
       "      <td>85.380117</td>\n",
       "      <td>90.044743</td>\n",
       "    </tr>\n",
       "  </tbody>\n",
       "</table>\n",
       "</div>"
      ],
      "text/plain": [
       "purpose            car  credit_card  debt_consolidation  educational  \\\n",
       "loan_status                                                            \n",
       "Charged Off  10.621943    10.456155           15.117349     16.38796   \n",
       "Fully Paid   89.378057    89.543845           84.882651     83.61204   \n",
       "\n",
       "purpose      home_improvement      house  major_purchase    medical  \\\n",
       "loan_status                                                           \n",
       "Charged Off          11.72817  16.618911       10.043668  15.455951   \n",
       "Fully Paid           88.27183  83.381089       89.956332  84.544049   \n",
       "\n",
       "purpose         moving     other  renewable_energy  small_business   vacation  \\\n",
       "loan_status                                                                     \n",
       "Charged Off  14.917127  16.13082         19.148936       26.795413  14.619883   \n",
       "Fully Paid   85.082873  83.86918         80.851064       73.204587  85.380117   \n",
       "\n",
       "purpose        wedding  \n",
       "loan_status             \n",
       "Charged Off   9.955257  \n",
       "Fully Paid   90.044743  "
      ]
     },
     "execution_count": 161,
     "metadata": {},
     "output_type": "execute_result"
    }
   ],
   "source": [
    "# percentage of defaulter and non-defaulter w.r.t term months \n",
    "percentages = calculate_percentage_bin(df, on='loan_status', against='purpose')\n",
    "percentages"
   ]
  },
  {
   "cell_type": "code",
   "execution_count": 162,
   "metadata": {},
   "outputs": [
    {
     "data": {
      "image/png": "[encoded data removed]",
      "text/plain": [
       "<Figure size 720x360 with 1 Axes>"
      ]
     },
     "metadata": {
      "needs_background": "light"
     },
     "output_type": "display_data"
    }
   ],
   "source": [
    "fig, ax = plt.subplots(figsize=(10,5))\n",
    "percentages.loc['Charged Off'].plot.bar(color=sns.color_palette('husl', 16), ax=ax)\n",
    "plt.show()"
   ]
  },
  {
   "cell_type": "markdown",
   "metadata": {},
   "source": [
    "### Inference\n",
    "- Default customer with purpose small business has high percentage (26.7 %)"
   ]
  },
  {
   "cell_type": "markdown",
   "metadata": {},
   "source": [
    "### Defaulters w.r.t terms month"
   ]
  },
  {
   "cell_type": "code",
   "execution_count": 163,
   "metadata": {},
   "outputs": [
    {
     "data": {
      "text/html": [
       "<div>\n",
       "<style scoped>\n",
       "    .dataframe tbody tr th:only-of-type {\n",
       "        vertical-align: middle;\n",
       "    }\n",
       "\n",
       "    .dataframe tbody tr th {\n",
       "        vertical-align: top;\n",
       "    }\n",
       "\n",
       "    .dataframe thead th {\n",
       "        text-align: right;\n",
       "    }\n",
       "</style>\n",
       "<table border=\"1\" class=\"dataframe\">\n",
       "  <thead>\n",
       "    <tr style=\"text-align: right;\">\n",
       "      <th>term_months</th>\n",
       "      <th>36.0</th>\n",
       "      <th>60.0</th>\n",
       "    </tr>\n",
       "    <tr>\n",
       "      <th>loan_status</th>\n",
       "      <th></th>\n",
       "      <th></th>\n",
       "    </tr>\n",
       "  </thead>\n",
       "  <tbody>\n",
       "    <tr>\n",
       "      <td>Charged Off</td>\n",
       "      <td>10.710402</td>\n",
       "      <td>25.126931</td>\n",
       "    </tr>\n",
       "    <tr>\n",
       "      <td>Fully Paid</td>\n",
       "      <td>89.289598</td>\n",
       "      <td>74.873069</td>\n",
       "    </tr>\n",
       "  </tbody>\n",
       "</table>\n",
       "</div>"
      ],
      "text/plain": [
       "term_months       36.0       60.0\n",
       "loan_status                      \n",
       "Charged Off  10.710402  25.126931\n",
       "Fully Paid   89.289598  74.873069"
      ]
     },
     "execution_count": 163,
     "metadata": {},
     "output_type": "execute_result"
    }
   ],
   "source": [
    "# percentage of defaulter and non-defaulter w.r.t term months \n",
    "percentages = calculate_percentage_bin(df, on='loan_status', against='term_months')\n",
    "percentages"
   ]
  },
  {
   "cell_type": "code",
   "execution_count": 164,
   "metadata": {},
   "outputs": [
    {
     "data": {
      "image/png": "[encoded data removed]",
      "text/plain": [
       "<Figure size 720x360 with 1 Axes>"
      ]
     },
     "metadata": {
      "needs_background": "light"
     },
     "output_type": "display_data"
    }
   ],
   "source": [
    "fig, ax = plt.subplots(figsize=(10,5))\n",
    "percentages.loc['Charged Off'].plot.bar(color=sns.color_palette('husl', 16), ax=ax)\n",
    "plt.show()"
   ]
  },
  {
   "cell_type": "markdown",
   "metadata": {},
   "source": [
    "### Inference\n",
    "- Default customer with terms 60 month (24.9 %) have more percentage than 30 month (10.5 %)\n",
    "- Term month with 60 are seems to be high risky"
   ]
  },
  {
   "cell_type": "markdown",
   "metadata": {},
   "source": [
    "### Defaulters w.r.t grade"
   ]
  },
  {
   "cell_type": "code",
   "execution_count": 165,
   "metadata": {},
   "outputs": [
    {
     "data": {
      "text/html": [
       "<div>\n",
       "<style scoped>\n",
       "    .dataframe tbody tr th:only-of-type {\n",
       "        vertical-align: middle;\n",
       "    }\n",
       "\n",
       "    .dataframe tbody tr th {\n",
       "        vertical-align: top;\n",
       "    }\n",
       "\n",
       "    .dataframe thead th {\n",
       "        text-align: right;\n",
       "    }\n",
       "</style>\n",
       "<table border=\"1\" class=\"dataframe\">\n",
       "  <thead>\n",
       "    <tr style=\"text-align: right;\">\n",
       "      <th>grade</th>\n",
       "      <th>A</th>\n",
       "      <th>B</th>\n",
       "      <th>C</th>\n",
       "      <th>D</th>\n",
       "      <th>E</th>\n",
       "      <th>F</th>\n",
       "      <th>G</th>\n",
       "    </tr>\n",
       "    <tr>\n",
       "      <th>loan_status</th>\n",
       "      <th></th>\n",
       "      <th></th>\n",
       "      <th></th>\n",
       "      <th></th>\n",
       "      <th></th>\n",
       "      <th></th>\n",
       "      <th></th>\n",
       "    </tr>\n",
       "  </thead>\n",
       "  <tbody>\n",
       "    <tr>\n",
       "      <td>Charged Off</td>\n",
       "      <td>5.799538</td>\n",
       "      <td>11.892377</td>\n",
       "      <td>16.751269</td>\n",
       "      <td>21.610518</td>\n",
       "      <td>26.692456</td>\n",
       "      <td>32.521186</td>\n",
       "      <td>33.783784</td>\n",
       "    </tr>\n",
       "    <tr>\n",
       "      <td>Fully Paid</td>\n",
       "      <td>94.200462</td>\n",
       "      <td>88.107623</td>\n",
       "      <td>83.248731</td>\n",
       "      <td>78.389482</td>\n",
       "      <td>73.307544</td>\n",
       "      <td>67.478814</td>\n",
       "      <td>66.216216</td>\n",
       "    </tr>\n",
       "  </tbody>\n",
       "</table>\n",
       "</div>"
      ],
      "text/plain": [
       "grade                A          B          C          D          E          F  \\\n",
       "loan_status                                                                     \n",
       "Charged Off   5.799538  11.892377  16.751269  21.610518  26.692456  32.521186   \n",
       "Fully Paid   94.200462  88.107623  83.248731  78.389482  73.307544  67.478814   \n",
       "\n",
       "grade                G  \n",
       "loan_status             \n",
       "Charged Off  33.783784  \n",
       "Fully Paid   66.216216  "
      ]
     },
     "execution_count": 165,
     "metadata": {},
     "output_type": "execute_result"
    }
   ],
   "source": [
    "# percentage of defaulter and non-defaulter w.r.t grade\n",
    "percentages = calculate_percentage_bin(df, on='loan_status', against='grade')\n",
    "percentages"
   ]
  },
  {
   "cell_type": "code",
   "execution_count": 166,
   "metadata": {},
   "outputs": [
    {
     "data": {
      "image/png": "[encoded data removed]",
      "text/plain": [
       "<Figure size 720x360 with 1 Axes>"
      ]
     },
     "metadata": {
      "needs_background": "light"
     },
     "output_type": "display_data"
    }
   ],
   "source": [
    "fig, ax = plt.subplots(figsize=(10,5))\n",
    "percentages.loc['Charged Off'].plot.bar(color=sns.color_palette('husl', 16), ax=ax)\n",
    "plt.show()"
   ]
  },
  {
   "cell_type": "markdown",
   "metadata": {},
   "source": [
    "### Inference\n",
    "- E, F and G grade have high percentage of defaulter\n",
    "- E, F and G grade seems to be high risky"
   ]
  },
  {
   "cell_type": "markdown",
   "metadata": {},
   "source": [
    "## Defaulter w.r.t emp_length"
   ]
  },
  {
   "cell_type": "code",
   "execution_count": 167,
   "metadata": {},
   "outputs": [
    {
     "data": {
      "text/html": [
       "<div>\n",
       "<style scoped>\n",
       "    .dataframe tbody tr th:only-of-type {\n",
       "        vertical-align: middle;\n",
       "    }\n",
       "\n",
       "    .dataframe tbody tr th {\n",
       "        vertical-align: top;\n",
       "    }\n",
       "\n",
       "    .dataframe thead th {\n",
       "        text-align: right;\n",
       "    }\n",
       "</style>\n",
       "<table border=\"1\" class=\"dataframe\">\n",
       "  <thead>\n",
       "    <tr style=\"text-align: right;\">\n",
       "      <th>emp_length_years</th>\n",
       "      <th>0.0</th>\n",
       "      <th>1.0</th>\n",
       "      <th>2.0</th>\n",
       "      <th>3.0</th>\n",
       "      <th>4.0</th>\n",
       "      <th>5.0</th>\n",
       "      <th>6.0</th>\n",
       "      <th>7.0</th>\n",
       "      <th>8.0</th>\n",
       "      <th>9.0</th>\n",
       "      <th>10.0</th>\n",
       "    </tr>\n",
       "    <tr>\n",
       "      <th>loan_status</th>\n",
       "      <th></th>\n",
       "      <th></th>\n",
       "      <th></th>\n",
       "      <th></th>\n",
       "      <th></th>\n",
       "      <th></th>\n",
       "      <th></th>\n",
       "      <th></th>\n",
       "      <th></th>\n",
       "      <th></th>\n",
       "      <th></th>\n",
       "    </tr>\n",
       "  </thead>\n",
       "  <tbody>\n",
       "    <tr>\n",
       "      <td>Charged Off</td>\n",
       "      <td>14.098134</td>\n",
       "      <td>14.364641</td>\n",
       "      <td>13.216068</td>\n",
       "      <td>13.895216</td>\n",
       "      <td>13.648772</td>\n",
       "      <td>14.362543</td>\n",
       "      <td>14.09176</td>\n",
       "      <td>15.275311</td>\n",
       "      <td>14.184397</td>\n",
       "      <td>12.903226</td>\n",
       "      <td>15.569363</td>\n",
       "    </tr>\n",
       "    <tr>\n",
       "      <td>Fully Paid</td>\n",
       "      <td>85.901866</td>\n",
       "      <td>85.635359</td>\n",
       "      <td>86.783932</td>\n",
       "      <td>86.104784</td>\n",
       "      <td>86.351228</td>\n",
       "      <td>85.637457</td>\n",
       "      <td>85.90824</td>\n",
       "      <td>84.724689</td>\n",
       "      <td>85.815603</td>\n",
       "      <td>87.096774</td>\n",
       "      <td>84.430637</td>\n",
       "    </tr>\n",
       "  </tbody>\n",
       "</table>\n",
       "</div>"
      ],
      "text/plain": [
       "emp_length_years       0.0        1.0        2.0        3.0        4.0   \\\n",
       "loan_status                                                               \n",
       "Charged Off       14.098134  14.364641  13.216068  13.895216  13.648772   \n",
       "Fully Paid        85.901866  85.635359  86.783932  86.104784  86.351228   \n",
       "\n",
       "emp_length_years       5.0       6.0        7.0        8.0        9.0   \\\n",
       "loan_status                                                              \n",
       "Charged Off       14.362543  14.09176  15.275311  14.184397  12.903226   \n",
       "Fully Paid        85.637457  85.90824  84.724689  85.815603  87.096774   \n",
       "\n",
       "emp_length_years       10.0  \n",
       "loan_status                  \n",
       "Charged Off       15.569363  \n",
       "Fully Paid        84.430637  "
      ]
     },
     "execution_count": 167,
     "metadata": {},
     "output_type": "execute_result"
    }
   ],
   "source": [
    "# percentage of defaulter and non-defaulter w.r.t emp_length_years\n",
    "percentages = calculate_percentage_bin(df, on='loan_status', against='emp_length_years')\n",
    "percentages"
   ]
  },
  {
   "cell_type": "code",
   "execution_count": 168,
   "metadata": {},
   "outputs": [
    {
     "data": {
      "image/png": "[encoded data removed]",
      "text/plain": [
       "<Figure size 720x360 with 1 Axes>"
      ]
     },
     "metadata": {
      "needs_background": "light"
     },
     "output_type": "display_data"
    }
   ],
   "source": [
    "fig, ax = plt.subplots(figsize=(10,5))\n",
    "percentages.loc['Charged Off'].plot.bar(color=sns.color_palette('husl', 16), ax=ax)\n",
    "plt.show()"
   ]
  },
  {
   "cell_type": "markdown",
   "metadata": {},
   "source": [
    "### Inference\n",
    "- There is no much difference in the defaulters with respect to years of experience"
   ]
  },
  {
   "cell_type": "markdown",
   "metadata": {},
   "source": [
    "### Loan status vs Purpose"
   ]
  },
  {
   "cell_type": "code",
   "execution_count": 169,
   "metadata": {},
   "outputs": [
    {
     "data": {
      "image/png": "[encoded data removed]",
      "text/plain": [
       "<Figure size 720x360 with 1 Axes>"
      ]
     },
     "metadata": {
      "needs_background": "light"
     },
     "output_type": "display_data"
    }
   ],
   "source": [
    "plt.figure(figsize=(10,5))\n",
    "sns.countplot(x='purpose', hue='loan_status', data=df)\n",
    "plt.title('No of loans granted for various purpose')\n",
    "plt.xticks(rotation=90)\n",
    "plt.show()"
   ]
  },
  {
   "cell_type": "markdown",
   "metadata": {},
   "source": [
    "### Inference\n",
    "- If you see the trend of the defaulters purpose for loan of most of the people are debt_consolidation, credit_card and home_improvement\n"
   ]
  },
  {
   "cell_type": "markdown",
   "metadata": {},
   "source": [
    "### Default users w.r.t issue year and verification_status"
   ]
  },
  {
   "cell_type": "code",
   "execution_count": 170,
   "metadata": {},
   "outputs": [
    {
     "data": {
      "image/png": "[encoded data removed]",
      "text/plain": [
       "<Figure size 720x360 with 1 Axes>"
      ]
     },
     "metadata": {
      "needs_background": "light"
     },
     "output_type": "display_data"
    }
   ],
   "source": [
    "# Defaulters users w.r.t issue year and verification_status\n",
    "plt.figure(figsize=(10,5))\n",
    "ax = sns.barplot(x='issue_d_year', y='loan_amnt', hue='verification_status',data=df, estimator=np.mean)\n",
    "ax.set(title = 'Defaulters users w.r.t issue year and verification_status')\n",
    "plt.show()"
   ]
  },
  {
   "cell_type": "markdown",
   "metadata": {},
   "source": [
    "Lending company really need to improve its verification process.\n",
    "As we can see in graph, There is a lot money stuck under not verified \n"
   ]
  },
  {
   "cell_type": "code",
   "execution_count": null,
   "metadata": {},
   "outputs": [],
   "source": []
  },
  {
   "cell_type": "code",
   "execution_count": null,
   "metadata": {},
   "outputs": [],
   "source": []
  },
  {
   "cell_type": "code",
   "execution_count": 85,
   "metadata": {},
   "outputs": [
    {
     "data": {
      "text/plain": [
       "(0.5, 18219.685113037754)"
      ]
     },
     "execution_count": 85,
     "metadata": {},
     "output_type": "execute_result"
    },
    {
     "data": {
      "image/png": "[encoded data removed]",
      "text/plain": [
       "<Figure size 1080x1080 with 2 Axes>"
      ]
     },
     "metadata": {
      "needs_background": "light"
     },
     "output_type": "display_data"
    }
   ],
   "source": [
    "plt.figure(figsize=(15,15))\n",
    "variables= ['loan_amnt', 'int_rate_percentage', 'installment',\n",
    "       'emp_length_years', 'annual_inc', 'dti', 'term_months',\n",
    "       ]\n",
    "corr = df[variables].corr()\n",
    "sns.heatmap(corr, annot=True, center=0.5)\n",
    "bottom, top = ax.get_ylim()\n",
    "ax.set_ylim(bottom + 0.5, top - 0.5)"
   ]
  },
  {
   "cell_type": "markdown",
   "metadata": {},
   "source": []
  },
  {
   "cell_type": "markdown",
   "metadata": {},
   "source": [
    "## Conslusion\n",
    "After studying and analyzing all the data , we conclude following  categorical and quantitative fields which are impacting defaulters and increased risk factor to lending company.\n",
    "\n",
    "- ```Term```: Duration of loan having 60 month  is impacting more as compare to 36 month.\n",
    "- ```Verification```: Lending company really need to improve its verification process. Non verified customers are more in number \n",
    "- ```Grade```: E, F, G grade has high percentage of defaulter which seems to be risky.\n",
    "- ```Purpose```: Customer having purpose as Small business , house , renewable energy  seems to be more defaulters.\n",
    "- ```Annual Income```: Annual income in range of 0 to 50K are seems to be more defaulter\n",
    "- There is no much difference in the defaulters with respect to employee years of experience\n",
    "- Most of the loans are from California(CA), following that is from Newyork(NY) and Florida(FL)state"
   ]
  },
  {
   "cell_type": "code",
   "execution_count": null,
   "metadata": {},
   "outputs": [],
   "source": []
  },
  {
   "cell_type": "code",
   "execution_count": null,
   "metadata": {},
   "outputs": [],
   "source": []
  },
  {
   "cell_type": "code",
   "execution_count": null,
   "metadata": {},
   "outputs": [],
   "source": []
  },
  {
   "cell_type": "code",
   "execution_count": null,
   "metadata": {},
   "outputs": [],
   "source": []
  }
 ],
 "metadata": {
  "kernelspec": {
   "display_name": "Python 3",
   "language": "python",
   "name": "python3"
  },
  "language_info": {
   "codemirror_mode": {
    "name": "ipython",
    "version": 3
   },
   "file_extension": ".py",
   "mimetype": "text/x-python",
   "name": "python",
   "nbconvert_exporter": "python",
   "pygments_lexer": "ipython3",
   "version": "3.7.4"
  }
 },
 "nbformat": 4,
 "nbformat_minor": 2
}
