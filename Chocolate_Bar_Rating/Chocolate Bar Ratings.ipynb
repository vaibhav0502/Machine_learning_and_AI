{
 "cells": [
  {
   "cell_type": "markdown",
   "metadata": {},
   "source": [
    "# Context\n",
    "Chocolate is one of the most popular candies in the world. Each year, residents of the United States collectively eat more than 2.8 billions pounds. However, not all chocolate bars are created equal! This dataset contains expert ratings of over 1,700 individual chocolate bars, along with information on their regional origin, percentage of cocoa, the variety of chocolate bean \n",
    "used and where the beans were grown.\n",
    "\n",
    "### Flavors of Cacao Rating System:\n",
    "- 5 = Elite (Transcending beyond the ordinary limits)\n",
    "- 4 = Premium (Superior flavor development, character and style)\n",
    "- 3 = Satisfactory(3.0) to praiseworthy(3.75) (well made with special qualities)\n",
    "- 2 = Disappointing (Passable but contains at least one significant flaw)\n",
    "- 1 = Unpleasant (mostly unpalatable)\n",
    "\n",
    "\n",
    "Each chocolate is evaluated from a combination of both objective qualities and subjective interpretation. A rating here only represents an experience with one bar from one batch. "
   ]
  },
  {
   "cell_type": "markdown",
   "metadata": {},
   "source": [
    "### Inspiration\n",
    "\n",
    "- Where are the best cocoa beans grown?\n",
    "- Which countries produce the highest-rated bars?\n",
    "- What’s the relationship between cocoa solids percentage and rating?"
   ]
  },
  {
   "cell_type": "markdown",
   "metadata": {
    "id": "rVUuP5EmA-q-"
   },
   "source": [
    "## Importing required Libraries"
   ]
  },
  {
   "cell_type": "code",
   "execution_count": 1,
   "metadata": {
    "id": "w5ECf68xA4hN"
   },
   "outputs": [
    {
     "name": "stderr",
     "output_type": "stream",
     "text": [
      "C:\\Users\\Vaibhav\\Anaconda3\\lib\\site-packages\\statsmodels\\tools\\_testing.py:19: FutureWarning: pandas.util.testing is deprecated. Use the functions in the public API at pandas.testing instead.\n",
      "  import pandas.util.testing as tm\n"
     ]
    }
   ],
   "source": [
    "import os\n",
    "import pandas as pd\n",
    "import numpy as np\n",
    "import matplotlib.pyplot as plt\n",
    "import seaborn as sns\n",
    "\n",
    "import warnings\n",
    "warnings.filterwarnings(\"ignore\")\n",
    "\n",
    "pd.set_option('display.max_columns', 250)\n",
    "pd.set_option('display.max_rows', 250)"
   ]
  },
  {
   "cell_type": "markdown",
   "metadata": {
    "id": "bIYrOeSukj4E"
   },
   "source": [
    "## Load dataset"
   ]
  },
  {
   "cell_type": "code",
   "execution_count": 2,
   "metadata": {
    "id": "ys2GM-XO8ubI"
   },
   "outputs": [],
   "source": [
    "# Load the dataset\n",
    "cacao_df = pd.read_csv('flavors_of_cacao.csv')\n",
    "# cacao_df = pd.read_csv('flavors_of_cacao.csv', encoding = \"ISO-8859-1\")"
   ]
  },
  {
   "cell_type": "code",
   "execution_count": 3,
   "metadata": {},
   "outputs": [
    {
     "data": {
      "text/plain": [
       "(1795, 9)"
      ]
     },
     "execution_count": 3,
     "metadata": {},
     "output_type": "execute_result"
    }
   ],
   "source": [
    "cacao_df.shape"
   ]
  },
  {
   "cell_type": "code",
   "execution_count": 4,
   "metadata": {
    "colab": {
     "base_uri": "https://localhost:8080/",
     "height": 224
    },
    "id": "cFuuNhdq8ubJ",
    "outputId": "6d3c60ab-a74d-4faa-9aef-556d0b3822d7"
   },
   "outputs": [
    {
     "data": {
      "text/html": [
       "<div>\n",
       "<style scoped>\n",
       "    .dataframe tbody tr th:only-of-type {\n",
       "        vertical-align: middle;\n",
       "    }\n",
       "\n",
       "    .dataframe tbody tr th {\n",
       "        vertical-align: top;\n",
       "    }\n",
       "\n",
       "    .dataframe thead th {\n",
       "        text-align: right;\n",
       "    }\n",
       "</style>\n",
       "<table border=\"1\" class=\"dataframe\">\n",
       "  <thead>\n",
       "    <tr style=\"text-align: right;\">\n",
       "      <th></th>\n",
       "      <th>Company \\n(Maker-if known)</th>\n",
       "      <th>Specific Bean Origin\\nor Bar Name</th>\n",
       "      <th>REF</th>\n",
       "      <th>Review\\nDate</th>\n",
       "      <th>Cocoa\\nPercent</th>\n",
       "      <th>Company\\nLocation</th>\n",
       "      <th>Rating</th>\n",
       "      <th>Bean\\nType</th>\n",
       "      <th>Broad Bean\\nOrigin</th>\n",
       "    </tr>\n",
       "  </thead>\n",
       "  <tbody>\n",
       "    <tr>\n",
       "      <th>0</th>\n",
       "      <td>A. Morin</td>\n",
       "      <td>Agua Grande</td>\n",
       "      <td>1876</td>\n",
       "      <td>2016</td>\n",
       "      <td>63%</td>\n",
       "      <td>France</td>\n",
       "      <td>3.75</td>\n",
       "      <td></td>\n",
       "      <td>Sao Tome</td>\n",
       "    </tr>\n",
       "    <tr>\n",
       "      <th>1</th>\n",
       "      <td>A. Morin</td>\n",
       "      <td>Kpime</td>\n",
       "      <td>1676</td>\n",
       "      <td>2015</td>\n",
       "      <td>70%</td>\n",
       "      <td>France</td>\n",
       "      <td>2.75</td>\n",
       "      <td></td>\n",
       "      <td>Togo</td>\n",
       "    </tr>\n",
       "    <tr>\n",
       "      <th>2</th>\n",
       "      <td>A. Morin</td>\n",
       "      <td>Atsane</td>\n",
       "      <td>1676</td>\n",
       "      <td>2015</td>\n",
       "      <td>70%</td>\n",
       "      <td>France</td>\n",
       "      <td>3.00</td>\n",
       "      <td></td>\n",
       "      <td>Togo</td>\n",
       "    </tr>\n",
       "    <tr>\n",
       "      <th>3</th>\n",
       "      <td>A. Morin</td>\n",
       "      <td>Akata</td>\n",
       "      <td>1680</td>\n",
       "      <td>2015</td>\n",
       "      <td>70%</td>\n",
       "      <td>France</td>\n",
       "      <td>3.50</td>\n",
       "      <td></td>\n",
       "      <td>Togo</td>\n",
       "    </tr>\n",
       "    <tr>\n",
       "      <th>4</th>\n",
       "      <td>A. Morin</td>\n",
       "      <td>Quilla</td>\n",
       "      <td>1704</td>\n",
       "      <td>2015</td>\n",
       "      <td>70%</td>\n",
       "      <td>France</td>\n",
       "      <td>3.50</td>\n",
       "      <td></td>\n",
       "      <td>Peru</td>\n",
       "    </tr>\n",
       "  </tbody>\n",
       "</table>\n",
       "</div>"
      ],
      "text/plain": [
       "  Company \\n(Maker-if known) Specific Bean Origin\\nor Bar Name   REF  \\\n",
       "0                   A. Morin                       Agua Grande  1876   \n",
       "1                   A. Morin                             Kpime  1676   \n",
       "2                   A. Morin                            Atsane  1676   \n",
       "3                   A. Morin                             Akata  1680   \n",
       "4                   A. Morin                            Quilla  1704   \n",
       "\n",
       "   Review\\nDate Cocoa\\nPercent Company\\nLocation  Rating Bean\\nType  \\\n",
       "0          2016            63%            France    3.75              \n",
       "1          2015            70%            France    2.75              \n",
       "2          2015            70%            France    3.00              \n",
       "3          2015            70%            France    3.50              \n",
       "4          2015            70%            France    3.50              \n",
       "\n",
       "  Broad Bean\\nOrigin  \n",
       "0           Sao Tome  \n",
       "1               Togo  \n",
       "2               Togo  \n",
       "3               Togo  \n",
       "4               Peru  "
      ]
     },
     "execution_count": 4,
     "metadata": {},
     "output_type": "execute_result"
    }
   ],
   "source": [
    "cacao_df.head()"
   ]
  },
  {
   "cell_type": "code",
   "execution_count": 5,
   "metadata": {},
   "outputs": [
    {
     "data": {
      "text/plain": [
       "Index(['Company \\n(Maker-if known)', 'Specific Bean Origin\\nor Bar Name',\n",
       "       'REF', 'Review\\nDate', 'Cocoa\\nPercent', 'Company\\nLocation', 'Rating',\n",
       "       'Bean\\nType', 'Broad Bean\\nOrigin'],\n",
       "      dtype='object')"
      ]
     },
     "execution_count": 5,
     "metadata": {},
     "output_type": "execute_result"
    }
   ],
   "source": [
    "cacao_df.columns"
   ]
  },
  {
   "cell_type": "code",
   "execution_count": 6,
   "metadata": {},
   "outputs": [],
   "source": [
    "#renaming the column\n",
    "cacao_df.rename({\n",
    "    'Company\\xa0\\n(Maker-if known)': 'Company', 'Specific Bean Origin\\nor Bar Name': 'Bean_Bar_Origin', 'Review\\nDate': 'Review_year',\n",
    "    'Cocoa\\nPercent': 'Cocoa_percent', 'Company\\nLocation': 'Company_location', 'Bean\\nType': 'Bean_type',  'Broad Bean\\nOrigin':  'Bean_origin'\n",
    "}, axis=1,inplace=True)"
   ]
  },
  {
   "cell_type": "code",
   "execution_count": 7,
   "metadata": {},
   "outputs": [
    {
     "data": {
      "text/html": [
       "<div>\n",
       "<style scoped>\n",
       "    .dataframe tbody tr th:only-of-type {\n",
       "        vertical-align: middle;\n",
       "    }\n",
       "\n",
       "    .dataframe tbody tr th {\n",
       "        vertical-align: top;\n",
       "    }\n",
       "\n",
       "    .dataframe thead th {\n",
       "        text-align: right;\n",
       "    }\n",
       "</style>\n",
       "<table border=\"1\" class=\"dataframe\">\n",
       "  <thead>\n",
       "    <tr style=\"text-align: right;\">\n",
       "      <th></th>\n",
       "      <th>Company</th>\n",
       "      <th>Bean_Bar_Origin</th>\n",
       "      <th>REF</th>\n",
       "      <th>Review_year</th>\n",
       "      <th>Cocoa_percent</th>\n",
       "      <th>Company_location</th>\n",
       "      <th>Rating</th>\n",
       "      <th>Bean_type</th>\n",
       "      <th>Bean_origin</th>\n",
       "    </tr>\n",
       "  </thead>\n",
       "  <tbody>\n",
       "    <tr>\n",
       "      <th>0</th>\n",
       "      <td>A. Morin</td>\n",
       "      <td>Agua Grande</td>\n",
       "      <td>1876</td>\n",
       "      <td>2016</td>\n",
       "      <td>63%</td>\n",
       "      <td>France</td>\n",
       "      <td>3.75</td>\n",
       "      <td></td>\n",
       "      <td>Sao Tome</td>\n",
       "    </tr>\n",
       "    <tr>\n",
       "      <th>1</th>\n",
       "      <td>A. Morin</td>\n",
       "      <td>Kpime</td>\n",
       "      <td>1676</td>\n",
       "      <td>2015</td>\n",
       "      <td>70%</td>\n",
       "      <td>France</td>\n",
       "      <td>2.75</td>\n",
       "      <td></td>\n",
       "      <td>Togo</td>\n",
       "    </tr>\n",
       "    <tr>\n",
       "      <th>2</th>\n",
       "      <td>A. Morin</td>\n",
       "      <td>Atsane</td>\n",
       "      <td>1676</td>\n",
       "      <td>2015</td>\n",
       "      <td>70%</td>\n",
       "      <td>France</td>\n",
       "      <td>3.00</td>\n",
       "      <td></td>\n",
       "      <td>Togo</td>\n",
       "    </tr>\n",
       "    <tr>\n",
       "      <th>3</th>\n",
       "      <td>A. Morin</td>\n",
       "      <td>Akata</td>\n",
       "      <td>1680</td>\n",
       "      <td>2015</td>\n",
       "      <td>70%</td>\n",
       "      <td>France</td>\n",
       "      <td>3.50</td>\n",
       "      <td></td>\n",
       "      <td>Togo</td>\n",
       "    </tr>\n",
       "    <tr>\n",
       "      <th>4</th>\n",
       "      <td>A. Morin</td>\n",
       "      <td>Quilla</td>\n",
       "      <td>1704</td>\n",
       "      <td>2015</td>\n",
       "      <td>70%</td>\n",
       "      <td>France</td>\n",
       "      <td>3.50</td>\n",
       "      <td></td>\n",
       "      <td>Peru</td>\n",
       "    </tr>\n",
       "  </tbody>\n",
       "</table>\n",
       "</div>"
      ],
      "text/plain": [
       "    Company Bean_Bar_Origin   REF  Review_year Cocoa_percent Company_location  \\\n",
       "0  A. Morin     Agua Grande  1876         2016           63%           France   \n",
       "1  A. Morin           Kpime  1676         2015           70%           France   \n",
       "2  A. Morin          Atsane  1676         2015           70%           France   \n",
       "3  A. Morin           Akata  1680         2015           70%           France   \n",
       "4  A. Morin          Quilla  1704         2015           70%           France   \n",
       "\n",
       "   Rating Bean_type Bean_origin  \n",
       "0    3.75              Sao Tome  \n",
       "1    2.75                  Togo  \n",
       "2    3.00                  Togo  \n",
       "3    3.50                  Togo  \n",
       "4    3.50                  Peru  "
      ]
     },
     "execution_count": 7,
     "metadata": {},
     "output_type": "execute_result"
    }
   ],
   "source": [
    "cacao_df.head()"
   ]
  },
  {
   "cell_type": "code",
   "execution_count": 8,
   "metadata": {
    "colab": {
     "base_uri": "https://localhost:8080/",
     "height": 1000
    },
    "id": "g4jVgjnFSjjK",
    "outputId": "573ce3ee-324e-4941-fbd1-1a6e3511ce22"
   },
   "outputs": [
    {
     "data": {
      "text/html": [
       "<div>\n",
       "<style scoped>\n",
       "    .dataframe tbody tr th:only-of-type {\n",
       "        vertical-align: middle;\n",
       "    }\n",
       "\n",
       "    .dataframe tbody tr th {\n",
       "        vertical-align: top;\n",
       "    }\n",
       "\n",
       "    .dataframe thead th {\n",
       "        text-align: right;\n",
       "    }\n",
       "</style>\n",
       "<table border=\"1\" class=\"dataframe\">\n",
       "  <thead>\n",
       "    <tr style=\"text-align: right;\">\n",
       "      <th></th>\n",
       "      <th>count</th>\n",
       "      <th>mean</th>\n",
       "      <th>std</th>\n",
       "      <th>min</th>\n",
       "      <th>25%</th>\n",
       "      <th>50%</th>\n",
       "      <th>75%</th>\n",
       "      <th>max</th>\n",
       "    </tr>\n",
       "  </thead>\n",
       "  <tbody>\n",
       "    <tr>\n",
       "      <th>REF</th>\n",
       "      <td>1795.0</td>\n",
       "      <td>1035.904735</td>\n",
       "      <td>552.886365</td>\n",
       "      <td>5.0</td>\n",
       "      <td>576.000</td>\n",
       "      <td>1069.00</td>\n",
       "      <td>1502.0</td>\n",
       "      <td>1952.0</td>\n",
       "    </tr>\n",
       "    <tr>\n",
       "      <th>Review_year</th>\n",
       "      <td>1795.0</td>\n",
       "      <td>2012.325348</td>\n",
       "      <td>2.927210</td>\n",
       "      <td>2006.0</td>\n",
       "      <td>2010.000</td>\n",
       "      <td>2013.00</td>\n",
       "      <td>2015.0</td>\n",
       "      <td>2017.0</td>\n",
       "    </tr>\n",
       "    <tr>\n",
       "      <th>Rating</th>\n",
       "      <td>1795.0</td>\n",
       "      <td>3.185933</td>\n",
       "      <td>0.478062</td>\n",
       "      <td>1.0</td>\n",
       "      <td>2.875</td>\n",
       "      <td>3.25</td>\n",
       "      <td>3.5</td>\n",
       "      <td>5.0</td>\n",
       "    </tr>\n",
       "  </tbody>\n",
       "</table>\n",
       "</div>"
      ],
      "text/plain": [
       "              count         mean         std     min       25%      50%  \\\n",
       "REF          1795.0  1035.904735  552.886365     5.0   576.000  1069.00   \n",
       "Review_year  1795.0  2012.325348    2.927210  2006.0  2010.000  2013.00   \n",
       "Rating       1795.0     3.185933    0.478062     1.0     2.875     3.25   \n",
       "\n",
       "                75%     max  \n",
       "REF          1502.0  1952.0  \n",
       "Review_year  2015.0  2017.0  \n",
       "Rating          3.5     5.0  "
      ]
     },
     "execution_count": 8,
     "metadata": {},
     "output_type": "execute_result"
    }
   ],
   "source": [
    "cacao_df.describe().T"
   ]
  },
  {
   "cell_type": "code",
   "execution_count": 9,
   "metadata": {},
   "outputs": [
    {
     "data": {
      "text/plain": [
       "Company              object\n",
       "Bean_Bar_Origin      object\n",
       "REF                   int64\n",
       "Review_year           int64\n",
       "Cocoa_percent        object\n",
       "Company_location     object\n",
       "Rating              float64\n",
       "Bean_type            object\n",
       "Bean_origin          object\n",
       "dtype: object"
      ]
     },
     "execution_count": 9,
     "metadata": {},
     "output_type": "execute_result"
    }
   ],
   "source": [
    "# Check categorical and numerical features\n",
    "cacao_df.dtypes"
   ]
  },
  {
   "cell_type": "code",
   "execution_count": 10,
   "metadata": {},
   "outputs": [
    {
     "data": {
      "text/html": [
       "<div>\n",
       "<style scoped>\n",
       "    .dataframe tbody tr th:only-of-type {\n",
       "        vertical-align: middle;\n",
       "    }\n",
       "\n",
       "    .dataframe tbody tr th {\n",
       "        vertical-align: top;\n",
       "    }\n",
       "\n",
       "    .dataframe thead th {\n",
       "        text-align: right;\n",
       "    }\n",
       "</style>\n",
       "<table border=\"1\" class=\"dataframe\">\n",
       "  <thead>\n",
       "    <tr style=\"text-align: right;\">\n",
       "      <th></th>\n",
       "      <th>Company</th>\n",
       "      <th>Bean_Bar_Origin</th>\n",
       "      <th>REF</th>\n",
       "      <th>Review_year</th>\n",
       "      <th>Cocoa_percent</th>\n",
       "      <th>Company_location</th>\n",
       "      <th>Rating</th>\n",
       "      <th>Bean_type</th>\n",
       "      <th>Bean_origin</th>\n",
       "    </tr>\n",
       "  </thead>\n",
       "  <tbody>\n",
       "    <tr>\n",
       "      <th>0</th>\n",
       "      <td>A. Morin</td>\n",
       "      <td>Agua Grande</td>\n",
       "      <td>1876</td>\n",
       "      <td>2016</td>\n",
       "      <td>63%</td>\n",
       "      <td>France</td>\n",
       "      <td>3.75</td>\n",
       "      <td></td>\n",
       "      <td>Sao Tome</td>\n",
       "    </tr>\n",
       "    <tr>\n",
       "      <th>1</th>\n",
       "      <td>A. Morin</td>\n",
       "      <td>Kpime</td>\n",
       "      <td>1676</td>\n",
       "      <td>2015</td>\n",
       "      <td>70%</td>\n",
       "      <td>France</td>\n",
       "      <td>2.75</td>\n",
       "      <td></td>\n",
       "      <td>Togo</td>\n",
       "    </tr>\n",
       "    <tr>\n",
       "      <th>2</th>\n",
       "      <td>A. Morin</td>\n",
       "      <td>Atsane</td>\n",
       "      <td>1676</td>\n",
       "      <td>2015</td>\n",
       "      <td>70%</td>\n",
       "      <td>France</td>\n",
       "      <td>3.00</td>\n",
       "      <td></td>\n",
       "      <td>Togo</td>\n",
       "    </tr>\n",
       "    <tr>\n",
       "      <th>3</th>\n",
       "      <td>A. Morin</td>\n",
       "      <td>Akata</td>\n",
       "      <td>1680</td>\n",
       "      <td>2015</td>\n",
       "      <td>70%</td>\n",
       "      <td>France</td>\n",
       "      <td>3.50</td>\n",
       "      <td></td>\n",
       "      <td>Togo</td>\n",
       "    </tr>\n",
       "    <tr>\n",
       "      <th>4</th>\n",
       "      <td>A. Morin</td>\n",
       "      <td>Quilla</td>\n",
       "      <td>1704</td>\n",
       "      <td>2015</td>\n",
       "      <td>70%</td>\n",
       "      <td>France</td>\n",
       "      <td>3.50</td>\n",
       "      <td></td>\n",
       "      <td>Peru</td>\n",
       "    </tr>\n",
       "  </tbody>\n",
       "</table>\n",
       "</div>"
      ],
      "text/plain": [
       "    Company Bean_Bar_Origin   REF  Review_year Cocoa_percent Company_location  \\\n",
       "0  A. Morin     Agua Grande  1876         2016           63%           France   \n",
       "1  A. Morin           Kpime  1676         2015           70%           France   \n",
       "2  A. Morin          Atsane  1676         2015           70%           France   \n",
       "3  A. Morin           Akata  1680         2015           70%           France   \n",
       "4  A. Morin          Quilla  1704         2015           70%           France   \n",
       "\n",
       "   Rating Bean_type Bean_origin  \n",
       "0    3.75              Sao Tome  \n",
       "1    2.75                  Togo  \n",
       "2    3.00                  Togo  \n",
       "3    3.50                  Togo  \n",
       "4    3.50                  Peru  "
      ]
     },
     "execution_count": 10,
     "metadata": {},
     "output_type": "execute_result"
    }
   ],
   "source": [
    "cacao_df.head()"
   ]
  },
  {
   "cell_type": "code",
   "execution_count": null,
   "metadata": {},
   "outputs": [],
   "source": []
  },
  {
   "cell_type": "markdown",
   "metadata": {
    "id": "hEZZvIiySVK7"
   },
   "source": [
    "## **1. Data Cleaning**"
   ]
  },
  {
   "cell_type": "markdown",
   "metadata": {},
   "source": [
    "### 1.1 Remove  `%` from Cocoa_percent column\n",
    "\n",
    "As we can see that Cocoa_percent column contain `%`, so let's remove it"
   ]
  },
  {
   "cell_type": "code",
   "execution_count": 11,
   "metadata": {},
   "outputs": [
    {
     "data": {
      "text/html": [
       "<div>\n",
       "<style scoped>\n",
       "    .dataframe tbody tr th:only-of-type {\n",
       "        vertical-align: middle;\n",
       "    }\n",
       "\n",
       "    .dataframe tbody tr th {\n",
       "        vertical-align: top;\n",
       "    }\n",
       "\n",
       "    .dataframe thead th {\n",
       "        text-align: right;\n",
       "    }\n",
       "</style>\n",
       "<table border=\"1\" class=\"dataframe\">\n",
       "  <thead>\n",
       "    <tr style=\"text-align: right;\">\n",
       "      <th></th>\n",
       "      <th>Company</th>\n",
       "      <th>Bean_Bar_Origin</th>\n",
       "      <th>REF</th>\n",
       "      <th>Review_year</th>\n",
       "      <th>Cocoa_percent</th>\n",
       "      <th>Company_location</th>\n",
       "      <th>Rating</th>\n",
       "      <th>Bean_type</th>\n",
       "      <th>Bean_origin</th>\n",
       "    </tr>\n",
       "  </thead>\n",
       "  <tbody>\n",
       "    <tr>\n",
       "      <th>0</th>\n",
       "      <td>A. Morin</td>\n",
       "      <td>Agua Grande</td>\n",
       "      <td>1876</td>\n",
       "      <td>2016</td>\n",
       "      <td>0.63</td>\n",
       "      <td>France</td>\n",
       "      <td>3.75</td>\n",
       "      <td></td>\n",
       "      <td>Sao Tome</td>\n",
       "    </tr>\n",
       "    <tr>\n",
       "      <th>1</th>\n",
       "      <td>A. Morin</td>\n",
       "      <td>Kpime</td>\n",
       "      <td>1676</td>\n",
       "      <td>2015</td>\n",
       "      <td>0.70</td>\n",
       "      <td>France</td>\n",
       "      <td>2.75</td>\n",
       "      <td></td>\n",
       "      <td>Togo</td>\n",
       "    </tr>\n",
       "    <tr>\n",
       "      <th>2</th>\n",
       "      <td>A. Morin</td>\n",
       "      <td>Atsane</td>\n",
       "      <td>1676</td>\n",
       "      <td>2015</td>\n",
       "      <td>0.70</td>\n",
       "      <td>France</td>\n",
       "      <td>3.00</td>\n",
       "      <td></td>\n",
       "      <td>Togo</td>\n",
       "    </tr>\n",
       "    <tr>\n",
       "      <th>3</th>\n",
       "      <td>A. Morin</td>\n",
       "      <td>Akata</td>\n",
       "      <td>1680</td>\n",
       "      <td>2015</td>\n",
       "      <td>0.70</td>\n",
       "      <td>France</td>\n",
       "      <td>3.50</td>\n",
       "      <td></td>\n",
       "      <td>Togo</td>\n",
       "    </tr>\n",
       "    <tr>\n",
       "      <th>4</th>\n",
       "      <td>A. Morin</td>\n",
       "      <td>Quilla</td>\n",
       "      <td>1704</td>\n",
       "      <td>2015</td>\n",
       "      <td>0.70</td>\n",
       "      <td>France</td>\n",
       "      <td>3.50</td>\n",
       "      <td></td>\n",
       "      <td>Peru</td>\n",
       "    </tr>\n",
       "  </tbody>\n",
       "</table>\n",
       "</div>"
      ],
      "text/plain": [
       "    Company Bean_Bar_Origin   REF  Review_year  Cocoa_percent  \\\n",
       "0  A. Morin     Agua Grande  1876         2016           0.63   \n",
       "1  A. Morin           Kpime  1676         2015           0.70   \n",
       "2  A. Morin          Atsane  1676         2015           0.70   \n",
       "3  A. Morin           Akata  1680         2015           0.70   \n",
       "4  A. Morin          Quilla  1704         2015           0.70   \n",
       "\n",
       "  Company_location  Rating Bean_type Bean_origin  \n",
       "0           France    3.75              Sao Tome  \n",
       "1           France    2.75                  Togo  \n",
       "2           France    3.00                  Togo  \n",
       "3           France    3.50                  Togo  \n",
       "4           France    3.50                  Peru  "
      ]
     },
     "execution_count": 11,
     "metadata": {},
     "output_type": "execute_result"
    }
   ],
   "source": [
    "# Remove  % from Cocoa_percent\n",
    "cacao_df['Cocoa_percent'].replace(\"%\", \"\", regex=True, inplace=True)\n",
    "cacao_df['Cocoa_percent'] = cacao_df['Cocoa_percent'].astype('float64')/100\n",
    "\n",
    "cacao_df.head()"
   ]
  },
  {
   "cell_type": "markdown",
   "metadata": {},
   "source": [
    "### 1.2 Lets round `Rating` value as 0, 1, 2, 3, 4, and 5"
   ]
  },
  {
   "cell_type": "code",
   "execution_count": 12,
   "metadata": {},
   "outputs": [
    {
     "data": {
      "image/png": "[encoded data removed]",
      "text/plain": [
       "<Figure size 720x360 with 1 Axes>"
      ]
     },
     "metadata": {
      "needs_background": "light"
     },
     "output_type": "display_data"
    }
   ],
   "source": [
    "# cacao_df.Rating.value_counts()\n",
    "plt.figure(figsize=(10,5))\n",
    "cacao_df.Rating.value_counts().plot(kind='bar')\n",
    "plt.show()"
   ]
  },
  {
   "cell_type": "code",
   "execution_count": 13,
   "metadata": {},
   "outputs": [
    {
     "data": {
      "text/plain": [
       "array([3.75, 2.75, 3.  , 3.5 , 4.  , 3.25, 2.5 , 5.  , 1.75, 1.5 , 2.25,\n",
       "       2.  , 1.  ])"
      ]
     },
     "execution_count": 13,
     "metadata": {},
     "output_type": "execute_result"
    }
   ],
   "source": [
    "cacao_df.Rating.unique()"
   ]
  },
  {
   "cell_type": "markdown",
   "metadata": {},
   "source": [
    "#### We can see that rating values are in between 1 to 5, Let' round it as 0,1,2,3,4 and 5"
   ]
  },
  {
   "cell_type": "code",
   "execution_count": 14,
   "metadata": {},
   "outputs": [],
   "source": [
    "cacao_df['Rating'] = cacao_df['Rating'].astype('int32')"
   ]
  },
  {
   "cell_type": "code",
   "execution_count": 15,
   "metadata": {
    "scrolled": true
   },
   "outputs": [
    {
     "data": {
      "image/png": "[encoded data removed]",
      "text/plain": [
       "<Figure size 576x360 with 1 Axes>"
      ]
     },
     "metadata": {
      "needs_background": "light"
     },
     "output_type": "display_data"
    }
   ],
   "source": [
    "plt.figure(figsize=(8,5))\n",
    "cacao_df.Rating.value_counts().plot(kind='bar')\n",
    "plt.show()"
   ]
  },
  {
   "cell_type": "markdown",
   "metadata": {},
   "source": [
    "#### We can see that rating is now rounded as  0, 1, 2, 3, 4, and 5"
   ]
  },
  {
   "cell_type": "markdown",
   "metadata": {},
   "source": [
    "### 1.3 Let's replace `Bean_type` to common type"
   ]
  },
  {
   "cell_type": "code",
   "execution_count": 16,
   "metadata": {},
   "outputs": [
    {
     "data": {
      "text/plain": [
       "array(['\\xa0', 'Criollo', 'Trinitario', 'Forastero (Arriba)', 'Forastero',\n",
       "       'Forastero (Nacional)', 'Criollo, Trinitario',\n",
       "       'Criollo (Porcelana)', 'Blend', 'Trinitario (85% Criollo)',\n",
       "       'Forastero (Catongo)', 'Forastero (Parazinho)',\n",
       "       'Trinitario, Criollo', 'CCN51', 'Criollo (Ocumare)', 'Nacional',\n",
       "       'Criollo (Ocumare 61)', 'Criollo (Ocumare 77)',\n",
       "       'Criollo (Ocumare 67)', 'Criollo (Wild)', 'Beniano', 'Amazon mix',\n",
       "       'Trinitario, Forastero', 'Forastero (Arriba) ASS', 'Criollo, +',\n",
       "       'Amazon', 'Amazon, ICS', 'EET', 'Blend-Forastero,Criollo',\n",
       "       'Trinitario (Scavina)', 'Criollo, Forastero', 'Matina',\n",
       "       'Forastero(Arriba, CCN)', 'Nacional (Arriba)',\n",
       "       'Forastero (Arriba) ASSS', 'Forastero, Trinitario',\n",
       "       'Forastero (Amelonado)', nan, 'Trinitario, Nacional',\n",
       "       'Trinitario (Amelonado)', 'Trinitario, TCGA', 'Criollo (Amarru)'],\n",
       "      dtype=object)"
      ]
     },
     "execution_count": 16,
     "metadata": {},
     "output_type": "execute_result"
    }
   ],
   "source": [
    "cacao_df[\"Bean_type\"].unique()"
   ]
  },
  {
   "cell_type": "markdown",
   "metadata": {},
   "source": [
    "- **From above list we can see different type of Bean_type, so replace it as follow**"
   ]
  },
  {
   "cell_type": "code",
   "execution_count": 17,
   "metadata": {},
   "outputs": [],
   "source": [
    "criollo_list = [\n",
    "    'Criollo', 'Criollo, Trinitario', 'Criollo (Porcelana)', 'Trinitario (85% Criollo)', 'Trinitario, Criollo', 'Criollo (Ocumare)', \n",
    "    'Criollo (Ocumare 61)', 'Criollo (Ocumare 77)', 'Criollo (Ocumare 67)', 'Criollo (Wild)', 'Criollo, +', \n",
    "    'Criollo, Forastero', 'Criollo (Amarru)']\n",
    "\n",
    "forastero_list = [\n",
    "    'Forastero', 'Forastero (Arriba)', 'Forastero (Nacional)', 'Forastero (Catongo)', 'Forastero (Parazinho)',\n",
    "    'Forastero (Arriba) ASS', 'Forastero(Arriba, CCN)', 'Forastero (Arriba) ASSS', 'Forastero, Trinitario',\n",
    "    'Forastero (Amelonado)']\n",
    "\n",
    "trinitario_list = [\n",
    "    'Trinitario', 'Trinitario (85% Criollo)', 'Trinitario, Criollo', 'Trinitario, Forastero',\n",
    "    'Trinitario (Scavina)', 'Trinitario, Nacional', 'Trinitario (Amelonado)', 'Trinitario, TCGA']\n",
    "\n",
    "amazon_list = ['Amazon mix', 'Amazon', 'Amazon, ICS']\n",
    "blend_list = ['Blend', 'Blend-Forastero,Criollo']\n",
    "\n",
    "nacional_list = ['Nacional (Arriba)', 'Nacional']\n",
    "unknown_list = ['\\xa0', np.nan]"
   ]
  },
  {
   "cell_type": "code",
   "execution_count": 18,
   "metadata": {},
   "outputs": [],
   "source": [
    "# function to replace bean_type\n",
    "def replace_bean_type(bean_list, to_replace):\n",
    "    for bean in bean_list:\n",
    "        cacao_df['Bean_type'].replace(bean, to_replace, inplace=True)"
   ]
  },
  {
   "cell_type": "code",
   "execution_count": 19,
   "metadata": {},
   "outputs": [],
   "source": [
    "replace_bean_type(criollo_list, 'Criollo')\n",
    "replace_bean_type(forastero_list, 'Forastero')\n",
    "replace_bean_type(trinitario_list, 'Trinitario')\n",
    "replace_bean_type(amazon_list, 'Amazon')\n",
    "replace_bean_type(blend_list, 'Blend')\n",
    "replace_bean_type(nacional_list, 'Nacional')\n",
    "replace_bean_type(unknown_list, 'Other')"
   ]
  },
  {
   "cell_type": "code",
   "execution_count": 20,
   "metadata": {},
   "outputs": [
    {
     "data": {
      "text/plain": [
       "array(['Other', 'Criollo', 'Trinitario', 'Forastero', 'Blend', 'CCN51',\n",
       "       'Nacional', 'Beniano', 'Amazon', 'EET', 'Matina'], dtype=object)"
      ]
     },
     "execution_count": 20,
     "metadata": {},
     "output_type": "execute_result"
    }
   ],
   "source": [
    "cacao_df[\"Bean_type\"].unique()"
   ]
  },
  {
   "cell_type": "code",
   "execution_count": 21,
   "metadata": {
    "scrolled": true
   },
   "outputs": [
    {
     "data": {
      "text/plain": [
       "Other         888\n",
       "Trinitario    425\n",
       "Criollo       224\n",
       "Forastero     196\n",
       "Blend          42\n",
       "Nacional        5\n",
       "Amazon          5\n",
       "Matina          3\n",
       "Beniano         3\n",
       "EET             3\n",
       "CCN51           1\n",
       "Name: Bean_type, dtype: int64"
      ]
     },
     "execution_count": 21,
     "metadata": {},
     "output_type": "execute_result"
    }
   ],
   "source": [
    "cacao_df['Bean_type'].value_counts()"
   ]
  },
  {
   "cell_type": "markdown",
   "metadata": {},
   "source": [
    "**We can see that `Bean_type` are imputed with common Bean types**"
   ]
  },
  {
   "cell_type": "markdown",
   "metadata": {},
   "source": [
    "### 1.4 Cleaning the  `Company_location` column"
   ]
  },
  {
   "cell_type": "code",
   "execution_count": 22,
   "metadata": {},
   "outputs": [
    {
     "data": {
      "text/plain": [
       "60"
      ]
     },
     "execution_count": 22,
     "metadata": {},
     "output_type": "execute_result"
    }
   ],
   "source": [
    "len(list(cacao_df.Company_location.unique()))"
   ]
  },
  {
   "cell_type": "code",
   "execution_count": 23,
   "metadata": {},
   "outputs": [
    {
     "name": "stdout",
     "output_type": "stream",
     "text": [
      "['Amsterdam', 'Argentina', 'Australia', 'Austria', 'Belgium', 'Bolivia', 'Brazil', 'Canada', 'Chile', 'Colombia', 'Costa Rica', 'Czech Republic', 'Denmark', 'Domincan Republic', 'Ecuador', 'Eucador', 'Fiji', 'Finland', 'France', 'Germany', 'Ghana', 'Grenada', 'Guatemala', 'Honduras', 'Hungary', 'Iceland', 'India', 'Ireland', 'Israel', 'Italy', 'Japan', 'Lithuania', 'Madagascar', 'Martinique', 'Mexico', 'Netherlands', 'New Zealand', 'Niacragua', 'Nicaragua', 'Peru', 'Philippines', 'Poland', 'Portugal', 'Puerto Rico', 'Russia', 'Sao Tome', 'Scotland', 'Singapore', 'South Africa', 'South Korea', 'Spain', 'St. Lucia', 'Suriname', 'Sweden', 'Switzerland', 'U.K.', 'U.S.A.', 'Venezuela', 'Vietnam', 'Wales']\n"
     ]
    }
   ],
   "source": [
    "print(sorted(list(cacao_df.Company_location.unique())))"
   ]
  },
  {
   "cell_type": "markdown",
   "metadata": {},
   "source": [
    "**We can see that we have two misspelled entries for `Niacragua` and `Nicaragua`\n",
    "Similarly for `Eucador' and 'Ecuador`**\n",
    "\n",
    "**Lets replace misspelled entry with correct one**"
   ]
  },
  {
   "cell_type": "code",
   "execution_count": 24,
   "metadata": {},
   "outputs": [],
   "source": [
    "cacao_df['Company_location'].replace({ 'Niacragua':'Nicaragua',\n",
    "                                      'Eucador':'Ecuador', \n",
    "                                      'U.S.A.': 'USA', \n",
    "                                      'U.K.': 'UK'}, inplace=True)"
   ]
  },
  {
   "cell_type": "code",
   "execution_count": 25,
   "metadata": {},
   "outputs": [
    {
     "data": {
      "text/plain": [
       "58"
      ]
     },
     "execution_count": 25,
     "metadata": {},
     "output_type": "execute_result"
    }
   ],
   "source": [
    "len(list(cacao_df.Company_location.unique()))"
   ]
  },
  {
   "cell_type": "markdown",
   "metadata": {},
   "source": [
    "### 1.5 Cleaning the  `Company` column "
   ]
  },
  {
   "cell_type": "code",
   "execution_count": 26,
   "metadata": {},
   "outputs": [
    {
     "data": {
      "text/plain": [
       "['A. Morin',\n",
       " 'AMMA',\n",
       " 'Acalli',\n",
       " 'Adi',\n",
       " 'Aequare (Gianduja)',\n",
       " 'Ah Cacao',\n",
       " \"Akesson's (Pralus)\",\n",
       " 'Alain Ducasse',\n",
       " 'Alexandre',\n",
       " 'Altus aka Cao Artisan',\n",
       " 'Amano',\n",
       " 'Amatller (Simon Coll)',\n",
       " 'Amazona',\n",
       " 'Ambrosia',\n",
       " 'Amedei',\n",
       " 'Anahata',\n",
       " 'Animas',\n",
       " 'Ara',\n",
       " 'Arete',\n",
       " 'Artisan du Chocolat',\n",
       " 'Artisan du Chocolat (Casa Luker)',\n",
       " 'Askinosie',\n",
       " 'Bahen & Co.',\n",
       " 'Bakau',\n",
       " 'Bar Au Chocolat',\n",
       " \"Baravelli's\",\n",
       " 'Batch',\n",
       " 'Beau Cacao',\n",
       " 'Beehive',\n",
       " 'Belcolade',\n",
       " 'Bellflower',\n",
       " 'Belyzium',\n",
       " 'Benoit Nihant',\n",
       " 'Bernachon',\n",
       " 'Beschle (Felchlin)',\n",
       " 'Bisou',\n",
       " 'Bittersweet Origins',\n",
       " 'Black Mountain',\n",
       " 'Black River (A. Morin)',\n",
       " 'Blanxart',\n",
       " 'Blue Bandana',\n",
       " 'Bonnat',\n",
       " 'Bouga Cacao (Tulicorp)',\n",
       " 'Bowler Man',\n",
       " \"Brasstown aka It's Chocolate\",\n",
       " 'Brazen',\n",
       " 'Breeze Mill',\n",
       " 'Bright',\n",
       " 'Britarev',\n",
       " 'Bronx Grrl Chocolate',\n",
       " 'Burnt Fork Bend',\n",
       " 'C-Amaro',\n",
       " 'Cacao Arabuco',\n",
       " 'Cacao Atlanta',\n",
       " 'Cacao Barry',\n",
       " 'Cacao Hunters',\n",
       " 'Cacao Market',\n",
       " 'Cacao Prieto',\n",
       " 'Cacao Sampaka',\n",
       " 'Cacao Store',\n",
       " 'Cacao de Origen',\n",
       " 'Cacao de Origin',\n",
       " 'Cacaosuyo (Theobroma Inversiones)',\n",
       " 'Cacaoyere (Ecuatoriana)',\n",
       " 'Callebaut',\n",
       " 'Cao',\n",
       " 'Caoni (Tulicorp)',\n",
       " 'Captain Pembleton',\n",
       " 'Caribeans',\n",
       " 'Carlotta Chocolat',\n",
       " 'Castronovo',\n",
       " 'Cello',\n",
       " 'Cemoi',\n",
       " 'Chaleur B',\n",
       " 'Charm School',\n",
       " 'Chchukululu (Tulicorp)',\n",
       " 'Chequessett',\n",
       " 'Chloe Chocolat',\n",
       " 'Chocablog',\n",
       " 'Choco Del Sol',\n",
       " 'Choco Dong',\n",
       " 'ChocoReko',\n",
       " \"Chocola'te\",\n",
       " 'Chocolarder',\n",
       " 'Chocolate Alchemist-Philly',\n",
       " 'Chocolate Con Amor',\n",
       " 'Chocolate Conspiracy',\n",
       " 'Chocolate Makers',\n",
       " 'Chocolate Tree, The',\n",
       " 'Chocolats Privilege',\n",
       " 'Chocosol',\n",
       " 'Chocovic',\n",
       " 'Chocovivo',\n",
       " 'Choklat',\n",
       " 'Chokolat Elot (Girard)',\n",
       " 'Choocsol',\n",
       " 'Christopher Morel (Felchlin)',\n",
       " 'Chuao Chocolatier',\n",
       " 'Chuao Chocolatier (Pralus)',\n",
       " 'Claudio Corallo',\n",
       " 'Cloudforest',\n",
       " 'Coleman & Davis',\n",
       " 'Compania de Chocolate (Salgado)',\n",
       " 'Condor',\n",
       " 'Confluence',\n",
       " 'Coppeneur',\n",
       " \"Cote d' Or (Kraft)\",\n",
       " 'Cravve',\n",
       " 'Creo',\n",
       " 'DAR',\n",
       " 'Daintree',\n",
       " 'Dalloway',\n",
       " 'Damson',\n",
       " 'Dandelion',\n",
       " 'Danta',\n",
       " 'Dark Forest',\n",
       " 'Davis',\n",
       " 'De Mendes',\n",
       " 'De Villiers',\n",
       " 'DeVries',\n",
       " 'Dean and Deluca (Belcolade)',\n",
       " 'Debauve & Gallais (Michel Cluizel)',\n",
       " 'Desbarres',\n",
       " 'Dick Taylor',\n",
       " 'Doble & Bignall',\n",
       " 'Dole (Guittard)',\n",
       " 'Dolfin (Belcolade)',\n",
       " 'Domori',\n",
       " 'Dormouse',\n",
       " \"Duffy's\",\n",
       " 'Dulcinea',\n",
       " 'Durand',\n",
       " 'Durci',\n",
       " 'ENNA',\n",
       " 'East Van Roasters',\n",
       " 'Eau de Rose',\n",
       " 'Eclat (Felchlin)',\n",
       " 'Edelmond',\n",
       " 'El Ceibo',\n",
       " 'El Rey',\n",
       " 'Emerald Estate',\n",
       " \"Emily's\",\n",
       " 'Enric Rovira (Claudio Corallo)',\n",
       " 'Erithaj (A. Morin)',\n",
       " 'Escazu',\n",
       " \"Ethel's Artisan (Mars)\",\n",
       " 'Ethereal',\n",
       " 'Fearless (AMMA)',\n",
       " 'Feitoria Cacao',\n",
       " 'Felchlin',\n",
       " 'Finca',\n",
       " 'Forever Cacao',\n",
       " 'Forteza (Cortes)',\n",
       " 'Fossa',\n",
       " 'Franceschi',\n",
       " 'Frederic Blondeel',\n",
       " 'French Broad',\n",
       " 'Fresco',\n",
       " 'Friis Holm',\n",
       " 'Friis Holm (Bonnat)',\n",
       " 'Fruition',\n",
       " 'Garden Island',\n",
       " 'Georgia Ramon',\n",
       " 'Glennmade',\n",
       " 'Goodnow Farms',\n",
       " 'Grand Place',\n",
       " \"Green & Black's (ICAM)\",\n",
       " 'Green Bean to Bar',\n",
       " 'Grenada Chocolate Co.',\n",
       " 'Guido Castagna',\n",
       " 'Guittard',\n",
       " 'Habitual',\n",
       " 'Hachez',\n",
       " 'Hacienda El Castillo',\n",
       " 'Haigh',\n",
       " 'Harper Macaw',\n",
       " 'Heilemann',\n",
       " 'Heirloom Cacao Preservation (Brasstown)',\n",
       " 'Heirloom Cacao Preservation (Fruition)',\n",
       " 'Heirloom Cacao Preservation (Guittard)',\n",
       " 'Heirloom Cacao Preservation (Manoa)',\n",
       " 'Heirloom Cacao Preservation (Millcreek)',\n",
       " 'Heirloom Cacao Preservation (Mindo)',\n",
       " 'Heirloom Cacao Preservation (Zokoko)',\n",
       " 'Hogarth',\n",
       " 'Hoja Verde (Tulicorp)',\n",
       " 'Holy Cacao',\n",
       " 'Honest',\n",
       " 'Hotel Chocolat',\n",
       " 'Hotel Chocolat (Coppeneur)',\n",
       " 'Hummingbird',\n",
       " 'Idilio (Felchlin)',\n",
       " 'Indah',\n",
       " 'Indaphoria',\n",
       " 'Indi',\n",
       " 'Isidro',\n",
       " 'Izard',\n",
       " 'Jacque Torres',\n",
       " 'Jordis',\n",
       " 'Just Good Chocolate',\n",
       " \"K'ul\",\n",
       " 'Kah Kow',\n",
       " 'Kakao',\n",
       " 'Kallari (Ecuatoriana)',\n",
       " 'Kaoka (Cemoi)',\n",
       " 'Kerchner',\n",
       " \"Ki' Xocolatl\",\n",
       " 'Kiskadee',\n",
       " 'Kto',\n",
       " 'Kyya',\n",
       " \"L'Amourette\",\n",
       " 'L.A. Burdick (Felchlin)',\n",
       " 'La Chocolaterie Nanairo',\n",
       " 'La Maison du Chocolat (Valrhona)',\n",
       " 'La Oroquidea',\n",
       " 'La Pepa de Oro',\n",
       " 'Laia aka Chat-Noir',\n",
       " 'Lajedo do Ouro',\n",
       " 'Lake Champlain (Callebaut)',\n",
       " 'Letterpress',\n",
       " 'Levy',\n",
       " 'Lilla',\n",
       " 'Lillie Belle',\n",
       " 'Lindt & Sprungli',\n",
       " 'Loiza',\n",
       " 'Lonohana',\n",
       " 'Love Bar',\n",
       " 'Luker',\n",
       " 'Machu Picchu Trading Co.',\n",
       " 'Madecasse (Cinagra)',\n",
       " 'Madre',\n",
       " 'Maglio',\n",
       " 'Majani',\n",
       " 'Malagasy (Chocolaterie Robert)',\n",
       " 'Malagos',\n",
       " 'Malie Kai (Guittard)',\n",
       " 'Malmo',\n",
       " 'Mana',\n",
       " 'Manifesto Cacao',\n",
       " 'Manoa',\n",
       " 'Manufaktura Czekolady',\n",
       " 'Map Chocolate',\n",
       " 'Marana',\n",
       " \"Marigold's Finest\",\n",
       " 'Marou',\n",
       " 'Mars',\n",
       " 'Marsatta',\n",
       " 'Martin Mayer',\n",
       " 'Mast Brothers',\n",
       " 'Matale',\n",
       " 'Maverick',\n",
       " 'Mayacama',\n",
       " 'Meadowlands',\n",
       " 'Menakao (aka Cinagra)',\n",
       " 'Mesocacao',\n",
       " 'Metiisto',\n",
       " 'Metropolitan',\n",
       " 'Michel Cluizel',\n",
       " 'Middlebury',\n",
       " 'Millcreek Cacao Roasters',\n",
       " 'Mindo',\n",
       " 'Minimal',\n",
       " 'Mission',\n",
       " 'Mita',\n",
       " 'Moho',\n",
       " 'Molucca',\n",
       " 'Momotombo',\n",
       " 'Monarque',\n",
       " 'Monsieur Truffe',\n",
       " 'Montecristi',\n",
       " 'Muchomas (Mesocacao)',\n",
       " 'Mutari',\n",
       " 'Nahua',\n",
       " 'Naive',\n",
       " 'Nanea',\n",
       " 'Nathan Miller',\n",
       " 'Na�ve',\n",
       " 'Neuhaus (Callebaut)',\n",
       " 'Nibble',\n",
       " 'Night Owl',\n",
       " 'Noble Bean aka Jerjobo',\n",
       " \"Noir d' Ebine\",\n",
       " 'Nova Monda',\n",
       " 'Nuance',\n",
       " 'Nugali',\n",
       " 'Oakland Chocolate Co.',\n",
       " 'Obolo',\n",
       " 'Ocelot',\n",
       " 'Ocho',\n",
       " 'Ohiyo',\n",
       " 'Oialla by Bojessen (Malmo)',\n",
       " 'Olive and Sinclair',\n",
       " 'Olivia',\n",
       " 'Omanhene',\n",
       " 'Omnom',\n",
       " 'Original Beans (Felchlin)',\n",
       " 'Original Hawaiin Chocolate Factory',\n",
       " 'Orquidea',\n",
       " 'Pacari',\n",
       " 'Palette de Bine',\n",
       " 'Pangea',\n",
       " 'Park 75',\n",
       " 'Parliament',\n",
       " 'Pascha',\n",
       " 'Patric',\n",
       " 'Paul Young',\n",
       " 'Peppalo',\n",
       " 'Pierre Marcolini',\n",
       " 'Pinellas',\n",
       " 'Pitch Dark',\n",
       " 'Pomm (aka Dead Dog)',\n",
       " 'Potomac',\n",
       " 'Pralus',\n",
       " 'Pump Street Bakery',\n",
       " 'Pura Delizia',\n",
       " 'Q Chocolate',\n",
       " 'Quetzalli (Wolter)',\n",
       " 'Raaka',\n",
       " 'Rain Republic',\n",
       " 'Rancho San Jacinto',\n",
       " 'Ranger',\n",
       " 'Raoul Boulanger',\n",
       " 'Raw Cocoa',\n",
       " 'Republica del Cacao (aka Confecta)',\n",
       " 'Ritual',\n",
       " 'Roasting Masters',\n",
       " 'Robert (aka Chocolaterie Robert)',\n",
       " 'Rococo (Grenada Chocolate Co.)',\n",
       " 'Rogue',\n",
       " 'Rozsavolgyi',\n",
       " 'S.A.I.D.',\n",
       " 'SRSLY',\n",
       " 'Sacred',\n",
       " 'Salgado',\n",
       " 'Santander (Compania Nacional)',\n",
       " 'Santome',\n",
       " 'Scharffen Berger',\n",
       " 'Seaforth',\n",
       " 'Shark Mountain',\n",
       " \"Shark's\",\n",
       " 'Shattel',\n",
       " 'Shattell',\n",
       " 'Sibu',\n",
       " 'Sibu Sura',\n",
       " 'Silvio Bessone',\n",
       " 'Sirene',\n",
       " 'Sjolinds',\n",
       " 'Smooth Chocolator, The',\n",
       " 'Snake & Butterfly',\n",
       " 'Sol Cacao',\n",
       " 'Solkiki',\n",
       " 'Solomons Gold',\n",
       " 'Solstice',\n",
       " 'Soma',\n",
       " 'Somerville',\n",
       " 'Soul',\n",
       " 'Spagnvola',\n",
       " 'Spencer',\n",
       " 'Sprungli (Felchlin)',\n",
       " 'StRita Supreme',\n",
       " 'Starchild',\n",
       " 'Stella (aka Bernrain)',\n",
       " 'Stone Grindz',\n",
       " 'Sublime Origins',\n",
       " 'Summerbird',\n",
       " 'Suruca Chocolate',\n",
       " 'Svenska Kakaobolaget',\n",
       " 'Szanto Tibor',\n",
       " 'TCHO',\n",
       " 'Tabal',\n",
       " 'Tablette (aka Vanillabeans)',\n",
       " 'Tan Ban Skrati',\n",
       " 'Taza',\n",
       " 'Tejas',\n",
       " 'Terroir',\n",
       " 'The Barn',\n",
       " 'Theo',\n",
       " 'Theobroma',\n",
       " 'Timo A. Meyer',\n",
       " \"To'ak (Ecuatoriana)\",\n",
       " 'Tobago Estate (Pralus)',\n",
       " 'Tocoti',\n",
       " 'Treehouse',\n",
       " 'Tsara (Cinagra)',\n",
       " 'Two Ravens',\n",
       " 'Un Dimanche A Paris',\n",
       " 'Undone',\n",
       " 'Upchurch',\n",
       " 'Urzi',\n",
       " 'Valrhona',\n",
       " 'Vanleer (Barry Callebaut)',\n",
       " 'Vao Vao (Chocolaterie Robert)',\n",
       " 'Vicuna',\n",
       " 'Videri',\n",
       " 'Vietcacao (A. Morin)',\n",
       " 'Vintage Plantations',\n",
       " 'Vintage Plantations (Tulicorp)',\n",
       " 'Violet Sky',\n",
       " 'Vivra',\n",
       " 'Wellington Chocolate Factory',\n",
       " 'Whittakers',\n",
       " \"Wilkie's Organic\",\n",
       " \"Willie's Cacao\",\n",
       " 'Wm',\n",
       " 'Woodblock',\n",
       " 'Xocolat',\n",
       " 'Xocolla',\n",
       " \"Zak's\",\n",
       " 'Zart Pralinen',\n",
       " 'Zokoko',\n",
       " 'Zotter',\n",
       " 'hello cocoa',\n",
       " 'hexx',\n",
       " 'iQ Chocolate',\n",
       " 'organicfair',\n",
       " 'twenty-four blackbirds']"
      ]
     },
     "execution_count": 26,
     "metadata": {},
     "output_type": "execute_result"
    }
   ],
   "source": [
    "sorted(list(cacao_df.Company.unique()))"
   ]
  },
  {
   "cell_type": "code",
   "execution_count": 27,
   "metadata": {},
   "outputs": [],
   "source": [
    "cacao_df['Company'].replace('Na�ve','Naive',inplace=True)"
   ]
  },
  {
   "cell_type": "markdown",
   "metadata": {},
   "source": [
    "### 1.6 Cleaning the  `Bean_origin` column "
   ]
  },
  {
   "cell_type": "code",
   "execution_count": 28,
   "metadata": {},
   "outputs": [
    {
     "data": {
      "text/plain": [
       "1"
      ]
     },
     "execution_count": 28,
     "metadata": {},
     "output_type": "execute_result"
    }
   ],
   "source": [
    "cacao_df['Bean_origin'].isna().sum()"
   ]
  },
  {
   "cell_type": "markdown",
   "metadata": {},
   "source": [
    "Replace `Nan` with `Unknown`"
   ]
  },
  {
   "cell_type": "code",
   "execution_count": 29,
   "metadata": {},
   "outputs": [],
   "source": [
    "cacao_df['Bean_origin'].replace(np.nan,'Unknown',inplace=True)"
   ]
  },
  {
   "cell_type": "code",
   "execution_count": 30,
   "metadata": {},
   "outputs": [
    {
     "data": {
      "text/plain": [
       "101"
      ]
     },
     "execution_count": 30,
     "metadata": {},
     "output_type": "execute_result"
    }
   ],
   "source": [
    "len(cacao_df['Bean_origin'].unique())"
   ]
  },
  {
   "cell_type": "code",
   "execution_count": 31,
   "metadata": {},
   "outputs": [
    {
     "name": "stdout",
     "output_type": "stream",
     "text": [
      "['Africa, Carribean, C. Am.', 'Australia', 'Belize', 'Bolivia', 'Brazil', 'Burma', 'Cameroon', 'Carribean', 'Carribean(DR/Jam/Tri)', 'Central and S. America', 'Colombia', 'Colombia, Ecuador', 'Congo', 'Cost Rica, Ven', 'Costa Rica', 'Cuba', 'DR, Ecuador, Peru', 'Dom. Rep., Madagascar', 'Domincan Republic', 'Dominican Rep., Bali', 'Dominican Republic', 'Ecuador', 'Ecuador, Costa Rica', 'Ecuador, Mad., PNG', 'El Salvador', 'Fiji', 'Gabon', 'Ghana', 'Ghana & Madagascar', 'Ghana, Domin. Rep', 'Ghana, Panama, Ecuador', 'Gre., PNG, Haw., Haiti, Mad', 'Grenada', 'Guat., D.R., Peru, Mad., PNG', 'Guatemala', 'Haiti', 'Hawaii', 'Honduras', 'India', 'Indonesia', 'Indonesia, Ghana', 'Ivory Coast', 'Jamaica', 'Liberia', 'Mad., Java, PNG', 'Madagascar', 'Madagascar & Ecuador', 'Malaysia', 'Martinique', 'Mexico', 'Nicaragua', 'Nigeria', 'PNG, Vanuatu, Mad', 'Panama', 'Papua New Guinea', 'Peru', 'Peru(SMartin,Pangoa,nacional)', 'Peru, Belize', 'Peru, Dom. Rep', 'Peru, Ecuador', 'Peru, Ecuador, Venezuela', 'Peru, Mad., Dom. Rep.', 'Peru, Madagascar', 'Philippines', 'Principe', 'Puerto Rico', 'Samoa', 'Sao Tome', 'Sao Tome & Principe', 'Solomon Islands', 'South America', 'South America, Africa', 'Sri Lanka', 'St. Lucia', 'Suriname', 'Tanzania', 'Tobago', 'Togo', 'Trinidad', 'Trinidad, Ecuador', 'Trinidad, Tobago', 'Trinidad-Tobago', 'Uganda', 'Unknown', 'Vanuatu', 'Ven, Bolivia, D.R.', 'Ven, Trinidad, Ecuador', 'Ven., Indonesia, Ecuad.', 'Ven., Trinidad, Mad.', 'Ven.,Ecu.,Peru,Nic.', 'Venez,Africa,Brasil,Peru,Mex', 'Venezuela', 'Venezuela, Carribean', 'Venezuela, Dom. Rep.', 'Venezuela, Ghana', 'Venezuela, Java', 'Venezuela, Trinidad', 'Venezuela/ Ghana', 'Vietnam', 'West Africa', '\\xa0']\n"
     ]
    }
   ],
   "source": [
    "print(sorted(list(cacao_df['Bean_origin'].unique())))"
   ]
  },
  {
   "cell_type": "markdown",
   "metadata": {},
   "source": [
    "**We can see that we have two misspelled entries for**\n",
    "\n",
    "- 'Domincan Republic':'Dominican Republic', \n",
    "- 'Trinidad, Tobago':'Trinidad-Tobago',\n",
    "- 'Venezuela, Ghana':'Venezuela/ Ghana',\n",
    "\n",
    "\n",
    "**Lets replace misspelled entry with correct one**"
   ]
  },
  {
   "cell_type": "code",
   "execution_count": 32,
   "metadata": {},
   "outputs": [],
   "source": [
    "cacao_df['Bean_origin'].replace({\n",
    "    'Domincan Republic':'Dominican Republic', \n",
    "    'Trinidad, Tobago':'Trinidad-Tobago',\n",
    "    'Venezuela, Ghana':'Venezuela/ Ghana',\n",
    "    '\\xa0': 'Unknown'}, inplace=True)"
   ]
  },
  {
   "cell_type": "code",
   "execution_count": 33,
   "metadata": {},
   "outputs": [
    {
     "data": {
      "text/plain": [
       "97"
      ]
     },
     "execution_count": 33,
     "metadata": {},
     "output_type": "execute_result"
    }
   ],
   "source": [
    "len(cacao_df.Bean_origin.unique())"
   ]
  },
  {
   "cell_type": "markdown",
   "metadata": {},
   "source": [
    "### 1.7 Cleaning the  `Bean_Bar_Origin` column "
   ]
  },
  {
   "cell_type": "code",
   "execution_count": 34,
   "metadata": {},
   "outputs": [
    {
     "name": "stdout",
     "output_type": "stream",
     "text": [
      "['\"heirloom\", Arriba Nacional', '100 percent', '2009 Hapa Nibby', 'A case of the Xerces Blues, triple roast', 'ABOCFA Coop', 'Abinao', 'Abstract S. w/ Jamaica nibs,batch abs60323.0', 'Acarigua, w/ nibs', 'Acopagro', 'Acul-du-Nord, 2015', 'Africa', 'Africa meets Latina', 'AgroCriso Plantation', 'Agua Fria; Sucre region', 'Agua Grande', 'Akata', 'Akesson Estate', 'Akesson P.', \"Akesson's E., Sambirano V.\", \"Akesson's Estate\", \"Akesson's, batch 4411\", 'Akessons Estate, Sambirano, 2013', 'Akessons Estate, Sambirano, Ambanja', 'Akosombo', 'Almendra Blanca, batch 1004', 'Alpaco', 'Alta Verapaz, 2014', 'Alto Beni', 'Alto Beni, Covendo Region', 'Alto Beni, Cru Savage', 'Alto Beni, Palos Blanco', 'Alto Beni, Palos Blancos', 'Alto Beni, Upper Rio Beni, 2014', 'Alto Beni, Upper Rio Beni, 2015', 'Alto Beni, Wild Bolivian', 'Alto Beni, Wild Harvest, Itenez R. 24hr c.', 'Alto Beni, Wild Harvest, Itenez R., 60hr c.', 'Alto Beni, Wild Harvest, Limited Ed.', 'Amazon Basin Blend', 'Amazonas', 'Amazonas Frucht', 'Amazonas w/ nibs', 'Amazonia', 'Ambanja, Sambirano Valley', 'Ambanja, Tsara Valley', 'Ambanja, batch 1 SRB', 'Ambolikapiky', 'Ambolikapiky P.', 'Ambolikapkly P.', 'Amina', 'Andoa, Grand Cru blend', 'Ankasa', 'Anselmo Paraiso Estate', 'Antigua, Special Reserve', 'Antilles (Trin/Gren/DR/Ven)', 'Apurimac', 'Apurimac, El Quinacho Co-op', 'Aragua, Trincheras', 'Araguani', 'Aranama', 'Arauca', 'Arawak', 'Arhuacos', 'Arriba', 'Asajaya E, NW Borneo, b. #132/4500', 'Asante', 'Asochivite, batch 1005', 'Atsane', 'Australia', 'Autumn, Primary Harvest, 2012', 'Ayacucho, \"El Guinacho\"', 'Ba Lai', 'Ba Ria', 'Ba Ria Vung Tau Province', \"Bachelor's Hall E., St. Thomas Parish\", 'Bahia', 'Bahia Black, batch bra50722.1', 'Bahia Brazil, Fazenda Sao Pedro', 'Bahia Superior', 'Bahia, Agri-Forestal Plantation, 2010', 'Bahia, Batch 148', 'Bahia, Fazenda Camboa', 'Bahia, Fazenda Venturosa', 'Bahia, Floresta Azul,Good Friends Reserve#3', 'Bahia, Scavina', 'Bahia, batch a1213', 'Baking', 'Bali', 'Bali (west), Sukrama Family, Melaya area', 'Bali, Jembrana', 'Bali, Singaraja', 'Bali, Sukrama Bros. Farm, Melaya, 62hr C', 'Balinese, Java', 'Bambamarca, 2015', 'Baracoa', 'Baracoa, Cuba', 'Barba, Xoco', 'Barinas', 'Barlovento, Venezuela', 'Bayou Blend', 'Belize', 'Belize south', 'Belize south, low fermentation', 'Belize, 2013', 'Belize, 2014 Harvest, Batch 9', 'Belize, Batch 2', 'Belize, med roast', 'Bellavista Coop, #225, LR, MC, CG Exclusive', 'Bellavista Gran Pajeten, San Martin', 'Ben Tre', 'Ben Tre, Dong Nai', 'Ben Tre, Mekong Delta', 'Ben Tre, Mekong Delta, MoCay', 'Ben Tre, Surprise Valley', 'Beniamo', 'Birmanie', 'Bittersweet', 'Black Science Blend 1', 'Blend', 'Blend No. 1', 'Blue Mountain', 'Blue Mountain Region', 'Bocas del Toro', 'Bocas del Toro, Cocabo Co-op', 'Bocas del Toro, Tierra Oscura', 'Bolivar', 'Bolivar, Arriba', 'Bolivar, Guaranda', 'Bolivia', 'Bolivia, Bo-nib-ia, w/ nibs', 'Bolivia, Wild Thing', 'Bolivian', 'Boyaca, Aprocampa Coop, Pauna', 'Brazil', 'Brazil Blend', 'Brazil Rio Doce', 'Brazil, Batch 20316', 'Brazil, Mitzi Blue', 'Brazilian', 'Brooklyn Blend', 'Bundibugyo', 'Bundibugyo District', 'Buto', 'CIAAB Coop', 'CSB Chama', 'Cabosse', 'Cacao Blanco', 'Cacao Nacional W.F.', 'Cacao Nib Crunch', 'Cacao Verapaz', 'Cahabon', 'Cahabon Region', 'Camahogne', 'Camino Verde', 'Camino Verde P., 2012, Balao, Guayas', 'Camino Verde P., Balao, 2015 harvest, batch8', 'Camino Verde P., Balao, Guayas', 'Camino Verde P., Balao, Guayas, \"Floral\"', 'Camino Verde P., Balao, Guayas, \"Fruity\"', 'Camino Verde P., Balao, Guayas, 2012', 'Camino Verde P., Balao, Guayas, 2013', 'Camino Verde P., Balao, Guayas, 2014', 'Camino Verde, Balao, Guayas', 'Camino Verde, Black S., batch cvu6030.0', 'Camino Verde, Guayas', 'Campesino w/ nibs', 'Canoabo', 'Canoabo, 2013', 'Canoabo, Hacienda San Jose', 'Capistrano', 'Capistrano*', 'Caracas, Venezuela and Ghana', 'Caraibe', 'Caranero, Choc. Garage Exclusive', 'Caraque', 'Carenero', 'Carenero S., Barlovento, Grand Cru', 'Carenero Superior', 'Carenero Superior, #203, MR, SC', 'Carenero Superior, Apamate', 'Carenero Superior, Bucare', 'Carenero Superior, Concepcion', 'Carenero Superior, Gran Saman', 'Carenero Superior, Mijao', 'Carenero Superior, Urrutia, Barlovento', 'Carenero, Empyrean Sabor', 'Carenero, Guapiles, Ocumare blend', 'Caribe', 'Carre Amer', 'Carre Grand Noir', 'Carribean', 'Carribean-Raw', 'Carupano, H. San Jose', 'Castillo, Hispaniola, unroasted', 'Catongo', 'Cedeno, lot 271', 'Cesar', 'Ceylan', 'Chanchamayo Province', 'Chanchamayo, Pichanadi, 2012, 60hr c.', \"Chef's Blend\", 'Chiapan', 'Chiapas', 'Chiapas, Lacandon Jungle', 'Chiapas, Lacandon Jungle, Oaxacom Mtn', 'Chiapas, Mokaya P.', 'Chiapas, Triple Cacao', 'Chimelb, Lanquin, Alta Verapaz, b-GUA001', 'Chocoan Rainforest, Teroro Escondido, ESM', 'Chocolatey-beta', 'Choobua, Kona', 'Choroni', 'Choroni, Finca Torres, 48hr c.', 'Chuao', 'Chuao 100hr', 'Chuao 2002 P.', 'Chuao 70hr', 'Chuao, #217, DR, MC', 'Chuao, #218, MR, MC', 'Chuao, Aragua region', 'Chuao, Dark Roast', 'Chuao, Hacienda San Jose', 'Chuao, Light Roast', 'Chuao, Mantuano blend', 'Chuao, Med. Roast', 'Chuao, Venezuela', 'Chuao, batch 3', 'Chucuri', 'Chulucanas, Batch 1', 'Chulucanas, El Platanal', 'Chuno', 'Chuno, San Jose de Bocay, Pantasma R.,B.S.', 'Chuno, Xoco', 'Chuno, double turned, Xoco', 'Chuno, triple turned, Xoco', 'Citrus-beta', 'Classic', 'Claudio Corallo w/ nibs', 'Colombia', 'Colombia, Batch 9', 'Colombia, Casa Luker', 'Colombian', 'Colombian 2008', 'Colombian Dark', 'Colombian Semi Dark', 'Colombian w/ nibs', 'Colombie', 'Complexite', 'Conacado', 'Conacado Coop', 'Conacado, #212, LR, SC', 'Conacado, #213, DR, -C', 'Conacado, #223, MR, SC', 'Conacado, #224, MR, MC', 'Conacado, 2012, 120hr c.', 'Conacado, Manifesto', 'Concepcion', 'Concepcion*', 'Congo', 'Congo w/ nibs', 'Congo, Gorilla bar', 'Congo, Grand Cru', 'Coopertiva Amazona', 'Coopertiva Amazona w/ nibs', 'Cooproagro', 'Corazon del Ecuador, Calceta beans', 'Cordoba', 'Corona Arriba', 'Cortes', 'Costa Esmeraldas', 'Costa Rica', 'Costa Rica, Oscuro', 'Cota Brus, Terciopelo, 2015', 'Coto Brus', 'Coto Brus, Heirloom, Batch 1', 'Coto Brus, Terciopelo', 'Coucher du Soleil', 'Crayfish Bay Estate, 2014', 'Crayfish Bay aka Non Pariel Estate', 'Crazy 88', 'Criollo Blend', 'Criollo, Dominican Republic', 'Criollo, Hawaii', 'Crudo', 'Cuana, 2008', 'Cuana, 2013', 'Cuba', 'Cuba, Batch 59/100', 'Cumbia', 'Cumboto, farmer Jose Lugo', 'Cusco', 'Cusco, Cacao Cusco', 'Cuyagua', 'Cuyagua Village', 'Cuyagua, 2013', 'D.R. Congo, Cru Virunga', 'DUO, batch 002', 'Daintree Estates, N. Queensland', 'Dak Lak, Batch 2451', 'Dancing in Your Head, 5 bean blend', 'Dark', 'Dark 67', 'Dark 75', 'Dark, Stone Ground', 'Davao', 'Davao, Mt. Talamo foothills', 'Diego 48hr/ W.F. blend prototype', 'Diego 60hr/ W.F. blend prototype', 'Diego/ original micro', 'Djakarta, Java and Ghana', 'Djual Island', 'Dominican', 'Dominican Republic', 'Dominican Republic prototype', 'Dominican Republic w/ nibs', 'Dominican Republic, \"Love Bar\"', 'Dominican Republic, Batch 3', 'Dominican Republic, Batch 31616', 'Dominican Republic, Batch D2', 'Dominican Republic, Coop', 'Dominican Republic, batch 7', 'Dominican Republic, lot D82R', 'Dominican Republic, rustic', 'Dominican Republic-Organic', 'Dominican Republicm, rustic', 'Don Homero- Cerecita Valley', 'Dong Nai', 'Dos Rios', 'Downtown London', 'Dual Origins, Sambirano, Elvesia', 'Duarte Province', 'Duarte, Batch 360', 'Duo- Gran Couva & Camino Verde', 'Eastern Promises', 'Ecuador', 'Ecuador Puristique', 'Ecuador, 2013', 'Ecuador, Batch 1', 'Ecuador, Batch 31516', 'Ecuador, Bob Bar', 'Ecuador, Choc. Garage Exclusive', 'Ecuador, Midnight Dark', 'Ecuador, Puristique', 'Ecuador, Twilght Dark', 'Ecuador, lot E432314L', 'Ecuador, raw', 'Ecuador, w/ nibs', 'El Carmen, batch 1003', 'El Ceibo Coop', 'El Oro', 'El Oro, Hacienda de Oro', 'El Salvador', 'Elvesia', 'Elvesia P.', 'Elvesia P., Batch 32', 'Elvesia P., Black Science', 'Elvesia, 2011', 'Emerald Estate', 'Epique, Blend No. 49', 'Equateur', 'Equator', 'Esmeraldas', 'Esmeraldas, Salazar Farm', 'Espada', \"Espiritu Santo, 'Smoke Monster'\", 'Excellence (US Version)', 'Extra Dark', 'Fazenda Camboa', 'Fazenda Camboa, Bahia', 'Fazenda Leolinda', 'Fazenda Sempre Firme P., Bahia', 'Fazenda Sempre Firme, Bahia', 'Finisterra', 'Fleur de Cacao', 'Fortissima', 'French Laundry 20th Anniversary', 'Fruity-beta', 'Gabon', 'Garaua', 'Ghana', 'Ghana Puristique', 'Ghana prototype', 'Ghana, #211, MR, MC', 'Ghana, 2013', 'Ghana, 2013, batch 129', 'Ghana, Kumasi', 'Ghana, Panama, Ecuador', 'Ghana, prototype', 'Goddess Blend', 'Goodman Estate', 'Gran Blanco', 'Gran Couva', 'Gran Couva 2005 P.', \"Grand 'Anse\", 'Grand Cru Blend No.1, 5 yr. Anniversary Ed', 'Grand Cru Dominican Republic', 'Grand Cru Ecuador', 'Grand Cru Ghana', 'Granella', 'Grenada', 'Grenada, Black Science', 'Grenade', 'Gru Grococo, St. Andrews', 'Gruppo Salinas', 'Guadalcanal', 'Guadeloupe', 'Guanaja', 'Guaniamo', 'Guaniamo, Amazonas', 'Guantupi River', 'Guapiles', 'Guasare', 'Guasare, La Sierra de Perija, batch gua001', 'Guasare, Zulia Prov.', 'Guasare, Zulia Prov., 2015, batch 124', 'Guatemala', 'Guayas', 'Guyave', 'Hacienda Las Trincheras', 'Hacienda Victoria', 'Hacienda la Trinidad', 'Haiti', \"Haleiwa E, O'ahu, 2014\", \"Haleiwa, O'ahu; Lonohana E., Kanahiku\", 'Ham Luong', 'Hamakua Coast, Kokoleka', 'Hamakua, Hawaiian Crown, #176', 'Haut Penja, w/ nibs', \"Hawai'i, Kona Estate Grown\", \"Hawai'i, Kona Grand Cru E.\", 'Hawaiian Crown, Kona Vanilla', 'Hawaiian, Big Island', 'Hilo', 'Hilo, w/ added cocoa butter', 'Hispaniola', 'Hispaniola w/ nibs', 'Hispaniola, 2008', 'Hispaniola, 2013', 'Hispaniola, batch 170104', 'Honduras', 'House Blend, Batch 2', 'Houseblend', 'Huallabamba, 2015', 'Huila', 'Huiwani Coop', 'IL100, H. San Jose', 'Ilblend', 'India', 'India (south)', 'Indianer, Raw', 'Indigena Amazonia, Grand Cru, Quizas', 'Indio Rojo, Xoco', 'Indonesia', 'Island Growers, 120hr c.', 'Island Growers, 2012, 120hr c.', 'Island Growers, 96hr c.', 'Ivory Coast', 'Ivory Coast, Batch 56/100', 'Jamaica', \"Jamaica a l'ancienne\", 'Jamaica, #204, DR, SC', 'Jamaica, #205, DR, MC', 'Jamaica, #206, DR, LC', 'Jamaica, #209, DR, SC', 'Jamaica, #210, DR, MC', 'Jamaique', 'Java', 'Java, Grand Cru', 'Java, Indonesian Black', 'Java, Indonesie', 'Java, Javablond', 'Johe', 'Johe, Xoco', 'Juliana', 'Jutiapa, lot 050916D', 'Kafupbo, Petit Bourg, De Borgnes', 'Kakao Kamili, Kilombero Valley', 'Kakoa Kamili, Both Man & Bird & Beast', 'Kaori', \"Kaua'I, Alea Estate +world\", \"Kaua'i\", 'Kendari', 'Kendem Lembu, Java', 'Kerala State', 'Kilombero Valley', 'Kilombero, batch 41', 'Kokoa Kamili', 'Kokoa Kamili Coop', 'Kokoa Kamili Coop, Kilombero', 'Kokoa Kamili, batch 1 SRB', 'Kolumbia', 'Kongo, Highlands', 'Kpime', 'Kulili Estate', 'Kulili P., 2013', 'Kumasi Sambirano', 'Kuruba', 'La Bahia, w/ cane juice', 'La Bahia, w/ cane sugar', 'La Dalia', 'La Dalia, Matagalpa', 'La Dalia, Matagalpa,cacao Bisesto,green label', 'La Dorado, light roast', 'La Masica, Batch 1, FHIA Research Center', 'La Masica, Batch 7, FHIA', 'La Masica, FHIA', 'La Patriota, cacao Indio, purple label', 'La Red', 'La Red de Guanconejo, N. Highlands coop', 'La Red, 2011', 'La Red, Guaconejo', 'La Red, Guanconjeco', 'La Red, Project Reserva, Guaconejo', 'La Selva', 'La Tronca, Matagalpa', 'Lachua', 'Lachua w/ cane sugar', 'Lachua w/ maple sugar, batch 5', \"Lachua, Q'egchi families\", 'Lacri Blend', 'Lago di Como, Blu', 'Lam Dong', 'Lam Dong, Batch 153', 'LamasdelChanka, San Martin, Oro Verde coop', 'Lanquin Estate', 'Las Acacias E.', 'Las Islas', 'Latino', 'Le Chocolat Chaud', 'Le Noir Amer', 'Le Noir Extra Amer', 'Lever du Soleil', 'Libanio', 'Liberia', 'Liberia, #174', 'Little Big Man', 'Loma Los Pinos, Yacao region, D.R.', 'Loma Sotavento', 'Loma Sotavento, 2013', 'Los Ancones P.', 'Los Colorados, Santo Domingo, Equateur', 'Los Llanos', 'Los Rios', 'Los Rios, H. Iara', 'Los Rios, H. Iara, 2012', 'Los Rios, H. Iara, 2012, 120hr c.', 'Los Rios, H. Iara, 96hr c.', 'Los Rios, Hacienda Limon, Heirloom', 'Los Rios, Hacienda Limon, Orecao, 2014', 'Los Rios, Hacienda Limon, Orecao, 2015', 'Los Rios, Puerto Romero, Equateur', 'Los Rios, Quevedo', 'Los Rios, Quevedo, Arriba', 'Los Rios, Rancho Grande 2004/2007', 'Los Rios, Rancho Grande 2007', 'Los Rios, Vinces', 'Los Ujuxtes', 'Lumas, 2015 Harvest, Batch 6, brown sugar', 'Lumas, 2015 Harvest, Batch 7', 'Mababa', 'Machu Pichu', 'Macondo', 'Macuare; Miranda; Chloe formula', 'Madagared', 'Madagascar', 'Madagascar w/ nibs', 'Madagascar, 100% criollo', 'Madagascar, Ambolikapiky P.', 'Madagascar, Batch 2', 'Madagascar, Batch 59/100', 'Madagascar, Batch 8', 'Madagascar, Grand Cru', 'Madagascar, Nosy Be Isle.', 'Madagascar, Sassy Bar', 'Madagascar, lot M0403R', 'Madagascar, w/ shell', 'Mahali, Kasai', 'Makwale Village, Kyela', 'Maleku', 'Malekula Island', 'Malekula P., 2013', 'Malgascio', 'Manabi', 'Mangaro P.', 'Manhattan', 'Manickchand Estate', 'Manjari', 'Mantuano', 'Mantuano, 2012', 'Mara', 'Marabel Farms', 'Maracaibo', 'Maracaibo Clasificado', 'Maracaibo, El Rosario', 'Maracaibo, El Vigia', 'Maragda', 'Maragnam', 'Maralumi P.', 'Maranon', 'Maranon Canyon', 'Maranon Canyon, Fortunato No. 4', 'Maranon, #227, LR, MC', 'Maranon, #228, MR, SC', 'Maranon, #229, MR, LC', 'Maranon, #230, DR, LC', 'Maranon, 2014', 'Maranon, Cajamarca', 'Maranon, Fortunato No. 4', 'Maranon, Good & Evil, w/ nibs', 'Maranon, Joya Rara', 'Maranon, batch 2', 'Maranura', 'Marcial, single Cote, 2012', 'Markham Valley', 'Markham Valley, #219, LR, MC', 'Markham Valley, #220, MR, MC', 'Markham Valley, #221, DR, MC', 'Markham Valley, #222, LR, 0C', 'Matagalpa', 'Matagalpa, Cacao Bisiesto', 'Matasawalevu', 'Matiguas', 'Matina 1-6, prototype', \"Maunawili, O'ahu, Agri Research C., 2014\", \"Maunawili, O'ahu, Agri Research C., 2015\", 'Maya Belize', 'Maya Mountain', 'Maya Mountain w/ nibs', 'Maya Mountain, Toledo, Batch 29', 'Maya Mtn', 'Maya Mtn, Batch 18, Heirloom', 'Maya Mtn, Batch 454, Heirloom', 'Maya Mtn, Moho R., Toledo D.', 'Maya Mtn, Moho R., Toledo D., 2015', 'Maya Mtn., Break Bar- Snark', 'Medagla, Xoco', 'Mekong Delta & Dong Nai', 'Mekong Delta, early 2014 Harvest', 'Mexico', 'Mexico, Lot 28022016', 'Mid Mountain, 2014', 'Midnight', 'Millot P., Ambanja', 'Millot Plantation', 'Mindo', 'Misterio', 'Moho River', 'Moho River Valley', 'Moho Valley', 'Mombacho', 'Momotombo', 'Montanya', 'Monte Alegre (Itacare), Brazil', 'Monte Alegre, 3 diff. plantations', 'Monte Alegre, D. Badaro, Raw, Organic', 'Monte Alegre, D. Badero', 'Monte Alegre, Diego Badero', 'Montubia', 'Mora Mora 2006', 'Morobe', 'Morogoro', 'Morropon, Norandiono Coop, Piura', 'Moxos', 'Nacional', 'Namau Village', 'Namau Village, N. Taileva P., batch a2812', 'Napa', 'Nativo, Varzea', 'Nature', 'New Ireland', 'Nibby', 'Nicaliso, Xoco', 'Nicalizo', 'Nicaragua', 'Nicaragua, American style', 'Nicaragua, w/ inbs', 'Nicaraqua', 'Nigeria', 'Nine', 'Nocturne', 'Noir', 'Noir Infini', 'Non Pariel Estate', 'Norandino, batch 161208', 'Noula Coop', 'Nourish', 'Nube- prototype', 'Nutty-beta', 'Nyangbo', \"O'Payo\", \"O'ahu\", \"O'ahu, N. Shore, Waialua E., Kakoleka\", \"O'ahu, N. Shore, Waialua Estate\", \"O'ahu, N. Shore, Waialua Estate w/ nibs\", \"O'payo, Waslala\", 'Oahu, Winward, #151, Maunawili district', 'Ocumare', 'Ocumare 61', 'Ocumare 61, Puertomar', 'Ocumare 67, Puertofino', 'Ocumare 77', 'Ocumare de la Costa', 'Ocumare, Cumboto', 'Ocumare, H. Cata, 48hr c.', 'Ocumare, H. Cata, w/ nibs', 'Ocumare, Premier Cru, Quizas No. 2', 'Ocumare, Puerto Cabello', 'Ocumare, Puerto Cabello, Venezuela', 'Ocumare, Venezuela', 'Ocumare, prototype', 'Oko Caribe', 'Oko Caribe, DOR005', 'Oko Caribe, Duarte P.', 'Oko Caribe, Duarte P., Collab w Chocosol', 'Oko Caribe, Duarte Province, 2016 H.', 'Oko Caribe, batch 1 SRB', 'One Hundred', 'Onyx', \"Opaeula Estate, O'ahu, Ele'ele\", \"Opaeula Estate, O'ahu, Nene, CG Exclusive\", 'Organic Dark', 'Orinoco', 'Orinoqua Region, Arauca', 'Oro', 'Oscuro', 'Oscuro, Finca Chimelb', 'Otucan, Grand Cru', 'PNG, Devotion', 'PNG, Nib Bar', 'PNG, Revolution', 'PNG, Voodoo', 'Pablino', 'Palo Blanco w/ panela, Chulucanas', 'Palo Blanco, Chulucanas', 'Palos Blancos', 'Palos Blancos + nibs', 'Panama', 'Panama, Raven', 'Pangoa', 'Pangoa, w/ nibs', 'Papaua New Guinea', 'Papouasie', 'Papua', 'Papua Kerafat', 'Papua New Guinea', 'Papua New Guinea, Batch 2', 'Papua New Guinea, triple roast, batch 1', 'Paramaribo, batch 20160043-01', 'Patanemo', 'Patanemo Vil., Carabobo State, Tisano family', 'Patanemo, Epoch, Donaldo', 'Pepiniere, single Cote', 'Perfect Illusion', 'Perla Negra', 'Peru', 'Peru + nibs', 'Peru Brutus', 'Peru, Awagum bar', 'Peru, Batch 1', 'Peru, Batch 51/100', 'Peru, Las Pampas P.', 'Peru, Madagascar', 'Peru- Ecuador', 'Peruvian', 'Peruvian Amazon', 'Phantom', 'Philly Blend, 5 plantations', 'Piaroa, Amazonas, Batch 350', 'Pichincha', 'Pinchincha, Mindo, Coop Nueva Esper., 2015', 'Pisa', 'Piura', 'Piura Blanco', 'Piura Blanco, Norandino', 'Piura Select, Cacao Blanc', 'Piura, Apotequil, \"Porcelana\" 72hr c.', 'Piura, Blanco de Criollo', 'Piura, Choc. Garage Exclusive', 'Piura, Illanka, Quemazon', 'Piura, Perou', 'Porcelana', 'Porcelana, Apotequil', 'Porcelana, Batch 5163', 'Porcelana, Colombia, Amazonas', 'Porcelana, Maracaibo, Palmira P. 2005', 'Porcelana, Maracaibo, Palmira P. 2006', 'Porcelana, Pariguan', 'Porcelana, Pedegral', 'Porcelana, Premier Cru, Quizas No. 1', 'Porcelana, S. of Lake Maracaibo', 'Porcelana, Sorotaima,Machiques,batch pcl001', 'Porcelana, Tabasco', 'Porcelana, Tabasco, Finca La Joya', 'Porcelana, Tabasco, La Joya', 'Porcelana, Tabasco, Limited Ed.', 'Porcelana, Tabasco, Marfil de Blanco', 'Porcelana, Tabasco, Mexico', 'Porcelana, Venezuela', 'Porcelana, Zulia', 'Presidio', 'Principe', 'Puerto Cabello', 'Puerto Cabello, Mantuano', 'Puerto Plata', 'Puerto Quito, heirloom', 'Puerto Rico', 'Punta Galera, cacao Nacional, gold label', 'Purple Haze', 'Quetzalcoatl', 'Quilla', 'Quito', 'ROIG', 'ROIG, 2014', 'Rainforest', 'Raw', 'Red Mayan, Xoco', 'Red Vanilla', 'Rico Rugoso, Xoco', 'Rio Arriba', 'Rio Caribe', 'Rio Caribe Superior, Paria Penninsula', 'Rio Caribe, Batch 7', 'Rio Caribe, Cariaco', 'Rio Caribe, Macuro', 'Rio Caribe, Paria Penninsula', 'Rio Caribe, Tepui Treasure', 'Rio Dulce, Xoco', 'Rio Eni', 'Rio Peripa H.', 'Rio Tuma', 'Rizek Cacao, Cibao Valley, Domin. Rep.', 'Rizek Cacao, Domin. Rep.', 'Roberto', 'Robson Estate', 'Roxborough, Tobago', 'Rugoso', 'Rugoso, Bad Fermentation', 'Rugoso, Xoco', 'Saidor Estate, Madang P.', 'Samana', 'Samar, East Visayas region', 'Sambirano', 'Sambirano 2006', 'Sambirano Valley', 'Sambirano Valley, #214, LR, MC', 'Sambirano Valley, #215, MR, MC', 'Sambirano Valley, #216, MR, LC', 'Sambirano Valley, 2012', 'Sambirano Valley, Black Science, B-60307.0', 'Sambirano Valley, Le 100%', 'Sambirano Valley, batch 2477', 'Sambirano, 2008', 'Sambirano, 2009', 'Sambirano, Akesson Estate', 'Sambirano, Ambanja', 'Sambirano, Ambanja, Madagascar', 'Sambirano, Ampamakia 2005, Millot P.', 'Sambirano, Menava P.', 'Sambirano, batch 170102', 'San Andres', 'San Andres, American style', 'San Andres, silk', 'San Francisco de Macoris, Cibao region', 'San Joaquin', 'San Jose', 'San Jose del Tambo', 'San Juan', 'San Juan Estate', 'San Juan Estate, Cherry Blossoms at Night', 'San Juan Estate, Gran Couva', 'San Juan de Cheni', 'San Martin', 'San Martin, Amazonian Highlands', 'San Martin, Batch 2', 'San Martin, Bellavista Coop, #226, DR, MC', 'Sang Yum Coop', 'Sangre Grande P., Trinidad', 'Santander', 'Santo Domingo', 'Sao Tome', 'Sao Tome & Principe', 'Sao Tome, Batch 151', 'Satipo Pangoa region, 16hr conche', 'Satipo Pangoa region, 20hr conche', 'Satipo region, white label', 'Selva', 'Selva Maya', 'Selvagem, Jari', 'Semisweet', 'Sensations Intense', 'Serian E., NW Borneo, b. #134/3800', 'Shake Shack', 'Sharkey', 'Sierra Nevada', 'Sierra Nevada, Tutu Iku', 'Signature Blend', 'Silvestre, Batch 1, 2011', 'Silvestre, Batch 7, 2013', 'Silvestre, La Paz, Beni', 'Sisa 36hr/ W. F. blend prototype', \"Sisa's Secret/ original micro\", 'Solomon Island', 'Solomon Island w/ nibs', 'Somia Plantation', 'Somia Plantation, 2012', 'Somia Plantation, Akesson, 2012', 'Somia Plantation, Sambirano, 70hr C', 'Somia, 2013', 'South America', 'South America and Africa', 'Special Maker Reserve', 'Spring, Secondary Harvest, 2012', 'Sri Lanka', 'St. Lucia', 'Star of Ecuador', 'Star of Peru', 'Suchitepequez E.', 'Supremo- SF', 'Sur del Lago', 'Sur del Lago Classificado', 'Sur del Lago, Amiari Meridena, Zulia, 48hr c.', 'Sur del Lago, Amiari Meridena, Zulia, w/ nibs', 'Sur del Lago, Merida', 'Surfin', 'Sylvestre, Oialla', 'TCHOPro 60.5', 'TCHOPro 68', 'Tabasco', 'Taino Secret', 'Tainori', 'Talamanca, Raul-Kekoldo community', 'Tamarina', 'Tan Phu Dong Island, Heart of Darkness', 'Tan Phu Dong, Treasure Island', 'Tangara', 'Tanzania', 'Tanzania, Party Bar', 'Tanzania, batch a1', 'Tapanti, light roast', 'Tarakan', 'Tawau, Oct. 2015 Harvest', 'Tenende, Uwate', 'Tenor', 'Terreiro Velho P.', 'Terreiro Velho P. w/ sugar crystals', 'Teyuna', 'The Other One, Grand Cru', 'Three Amigos(Chuao, Wild Bolivia, D.R.)', 'Tien Giang', 'Tien Giang, 2015, batch 10-2-16', 'Tien Giang, Black S., batch VIT60420.0', 'Tien Giang, Gao Co-op', 'Tien Giang, batch 1 SRB', 'Tingo Maria', 'Tobago', 'Tokiala', 'Toledo District', 'Toledo District, 2015 Harvest', 'Toledo District, Maya', 'Toledo District, w/ nibs', 'Tome Acu', 'Tome Acu E., Amazon Rainforest', 'Toscano Black', 'Tranquilidad, Batch 1', 'Tranquilidad, Baures', 'Tres Hombres', 'Trinatario Treasure', 'Trincheras', 'Trinidad', 'Trinidad & Tobago', 'Trinidad, Heritage, Limited ed.', 'Trinidad-Tobago', 'Trinitario', 'Trinite', 'Trintade, Sao Tome', 'Tsaranta', 'Tumaco', 'Tumbes', 'Tumbes Coop', 'Tumbes, \"Zarumilla\"', 'Tumbes, 2013 Harvest, Batch 8', 'Tumbes, Batch 2', 'Tumbes, Dear Mr. Finley, 2014', 'Tumbes, Norandino', 'Twilight', 'UNOCACE', 'Uba Budo', 'Uganda', 'Umoho R., Toledo District, San Felipe', 'Upala', 'Upala w/ nibs', 'Upala, Batch 12', 'Upala, Batch 18', 'Uranga, Lot 22032016', 'Vale do Juliana E., Atlantic Forest', 'Vale do Juliana, w/ nibs', 'Vanua Levu', 'Vanua Levu, Ami-Ami-CA', 'Vanua Levu, Toto-A', 'Vanuatu', 'Vanuatu, batch 2410', 'Venezuela', 'Venezuela, Trinidad', 'Venezuela, batch 122', 'Venezuela; Barinos, Merida, Tachron', 'Venzuela', 'Vietnam', 'Vietnam, Batch 50/100', 'Vila Gracinda', 'Villa Andina', 'Vinces', 'Virunga', \"Waiahole, O'ahu\", 'Wampusirpi Region', 'Wampusirpi, batch 007', 'Wasatch', 'West Africa', 'Wild Beni, Lower Rio Beni, Tranquilidad, 2014', 'Wild Beni, Lower Rio Beni, Tranquilidad, 2015', 'Wild Beniano, 2016, batch 128, Heirloom', 'Wild Bolivia', 'Wild Bolivian', 'Wild Bolivian, Batch 2', 'Wild Bolivian, Jungle Love', 'Wild Thing', 'Winak Coop, Napo', 'Winak, Sumaco', 'Xoconusco', 'Xoconusco, Chiapas', 'Xoconusco, cacao Real', 'Xocunusco, Chiapas, Pichucalco', 'Zorzal Reserva', 'Zorzal Reserva w/ Charles Kerchner', 'Zorzal Reserva, 2015 H., Kerchner', 'black label', 'la Amistad', 'one hundred', 'single estate', 'the lost city, gracias a dias, batch 362']\n"
     ]
    }
   ],
   "source": [
    "print(sorted(list(cacao_df['Bean_Bar_Origin'].unique())))"
   ]
  },
  {
   "cell_type": "code",
   "execution_count": 35,
   "metadata": {},
   "outputs": [],
   "source": [
    "# pd.DataFrame(cacao_df['Bean_Bar_Origin'].unique()).head(200)"
   ]
  },
  {
   "cell_type": "markdown",
   "metadata": {
    "id": "OqmY2XRkDV10"
   },
   "source": [
    "### **1.8 Segregating columns into Categorical and Numerical columns**"
   ]
  },
  {
   "cell_type": "markdown",
   "metadata": {},
   "source": [
    "Check categorical and numerical features"
   ]
  },
  {
   "cell_type": "markdown",
   "metadata": {},
   "source": [
    "#### a. Categorical columns"
   ]
  },
  {
   "cell_type": "code",
   "execution_count": 36,
   "metadata": {},
   "outputs": [
    {
     "name": "stdout",
     "output_type": "stream",
     "text": [
      "Categorical features in dataset: ['Company', 'Bean_Bar_Origin', 'Company_location', 'Bean_type', 'Bean_origin']\n",
      "Numerical features in dataset: ['REF', 'Review_year', 'Cocoa_percent', 'Rating']\n"
     ]
    },
    {
     "data": {
      "text/html": [
       "<div>\n",
       "<style scoped>\n",
       "    .dataframe tbody tr th:only-of-type {\n",
       "        vertical-align: middle;\n",
       "    }\n",
       "\n",
       "    .dataframe tbody tr th {\n",
       "        vertical-align: top;\n",
       "    }\n",
       "\n",
       "    .dataframe thead th {\n",
       "        text-align: right;\n",
       "    }\n",
       "</style>\n",
       "<table border=\"1\" class=\"dataframe\">\n",
       "  <thead>\n",
       "    <tr style=\"text-align: right;\">\n",
       "      <th></th>\n",
       "      <th>Company</th>\n",
       "      <th>Bean_Bar_Origin</th>\n",
       "      <th>REF</th>\n",
       "      <th>Review_year</th>\n",
       "      <th>Cocoa_percent</th>\n",
       "      <th>Company_location</th>\n",
       "      <th>Rating</th>\n",
       "      <th>Bean_type</th>\n",
       "      <th>Bean_origin</th>\n",
       "    </tr>\n",
       "  </thead>\n",
       "  <tbody>\n",
       "    <tr>\n",
       "      <th>0</th>\n",
       "      <td>A. Morin</td>\n",
       "      <td>Agua Grande</td>\n",
       "      <td>1876</td>\n",
       "      <td>2016</td>\n",
       "      <td>0.63</td>\n",
       "      <td>France</td>\n",
       "      <td>3</td>\n",
       "      <td>Other</td>\n",
       "      <td>Sao Tome</td>\n",
       "    </tr>\n",
       "    <tr>\n",
       "      <th>1</th>\n",
       "      <td>A. Morin</td>\n",
       "      <td>Kpime</td>\n",
       "      <td>1676</td>\n",
       "      <td>2015</td>\n",
       "      <td>0.70</td>\n",
       "      <td>France</td>\n",
       "      <td>2</td>\n",
       "      <td>Other</td>\n",
       "      <td>Togo</td>\n",
       "    </tr>\n",
       "    <tr>\n",
       "      <th>2</th>\n",
       "      <td>A. Morin</td>\n",
       "      <td>Atsane</td>\n",
       "      <td>1676</td>\n",
       "      <td>2015</td>\n",
       "      <td>0.70</td>\n",
       "      <td>France</td>\n",
       "      <td>3</td>\n",
       "      <td>Other</td>\n",
       "      <td>Togo</td>\n",
       "    </tr>\n",
       "    <tr>\n",
       "      <th>3</th>\n",
       "      <td>A. Morin</td>\n",
       "      <td>Akata</td>\n",
       "      <td>1680</td>\n",
       "      <td>2015</td>\n",
       "      <td>0.70</td>\n",
       "      <td>France</td>\n",
       "      <td>3</td>\n",
       "      <td>Other</td>\n",
       "      <td>Togo</td>\n",
       "    </tr>\n",
       "    <tr>\n",
       "      <th>4</th>\n",
       "      <td>A. Morin</td>\n",
       "      <td>Quilla</td>\n",
       "      <td>1704</td>\n",
       "      <td>2015</td>\n",
       "      <td>0.70</td>\n",
       "      <td>France</td>\n",
       "      <td>3</td>\n",
       "      <td>Other</td>\n",
       "      <td>Peru</td>\n",
       "    </tr>\n",
       "  </tbody>\n",
       "</table>\n",
       "</div>"
      ],
      "text/plain": [
       "    Company Bean_Bar_Origin   REF  Review_year  Cocoa_percent  \\\n",
       "0  A. Morin     Agua Grande  1876         2016           0.63   \n",
       "1  A. Morin           Kpime  1676         2015           0.70   \n",
       "2  A. Morin          Atsane  1676         2015           0.70   \n",
       "3  A. Morin           Akata  1680         2015           0.70   \n",
       "4  A. Morin          Quilla  1704         2015           0.70   \n",
       "\n",
       "  Company_location  Rating Bean_type Bean_origin  \n",
       "0           France       3     Other    Sao Tome  \n",
       "1           France       2     Other        Togo  \n",
       "2           France       3     Other        Togo  \n",
       "3           France       3     Other        Togo  \n",
       "4           France       3     Other        Peru  "
      ]
     },
     "execution_count": 36,
     "metadata": {},
     "output_type": "execute_result"
    }
   ],
   "source": [
    "categorical = cacao_df.select_dtypes(include='object')\n",
    "print(f\"Categorical features in dataset: {list(categorical.columns)}\")\n",
    "\n",
    "numerical = cacao_df.select_dtypes(exclude='object')\n",
    "print(f\"Numerical features in dataset: {list(numerical.columns)}\")\n",
    "\n",
    "cacao_df.head()"
   ]
  },
  {
   "cell_type": "code",
   "execution_count": 37,
   "metadata": {},
   "outputs": [
    {
     "data": {
      "text/plain": [
       "Company              415\n",
       "Bean_Bar_Origin     1039\n",
       "REF                  440\n",
       "Review_year           12\n",
       "Cocoa_percent         45\n",
       "Company_location      58\n",
       "Rating                 5\n",
       "Bean_type             11\n",
       "Bean_origin           97\n",
       "dtype: int64"
      ]
     },
     "execution_count": 37,
     "metadata": {},
     "output_type": "execute_result"
    }
   ],
   "source": [
    "# unique \n",
    "cacao_df.nunique()"
   ]
  },
  {
   "cell_type": "code",
   "execution_count": 38,
   "metadata": {},
   "outputs": [
    {
     "data": {
      "text/plain": [
       "Company             0\n",
       "Bean_Bar_Origin     0\n",
       "REF                 0\n",
       "Review_year         0\n",
       "Cocoa_percent       0\n",
       "Company_location    0\n",
       "Rating              0\n",
       "Bean_type           0\n",
       "Bean_origin         0\n",
       "dtype: int64"
      ]
     },
     "execution_count": 38,
     "metadata": {},
     "output_type": "execute_result"
    }
   ],
   "source": [
    "cacao_df.isnull().sum()"
   ]
  },
  {
   "cell_type": "code",
   "execution_count": 39,
   "metadata": {},
   "outputs": [
    {
     "data": {
      "text/html": [
       "<div>\n",
       "<style scoped>\n",
       "    .dataframe tbody tr th:only-of-type {\n",
       "        vertical-align: middle;\n",
       "    }\n",
       "\n",
       "    .dataframe tbody tr th {\n",
       "        vertical-align: top;\n",
       "    }\n",
       "\n",
       "    .dataframe thead th {\n",
       "        text-align: right;\n",
       "    }\n",
       "</style>\n",
       "<table border=\"1\" class=\"dataframe\">\n",
       "  <thead>\n",
       "    <tr style=\"text-align: right;\">\n",
       "      <th></th>\n",
       "      <th>Company</th>\n",
       "      <th>Bean_Bar_Origin</th>\n",
       "      <th>REF</th>\n",
       "      <th>Review_year</th>\n",
       "      <th>Cocoa_percent</th>\n",
       "      <th>Company_location</th>\n",
       "      <th>Rating</th>\n",
       "      <th>Bean_type</th>\n",
       "      <th>Bean_origin</th>\n",
       "    </tr>\n",
       "  </thead>\n",
       "  <tbody>\n",
       "    <tr>\n",
       "      <th>0</th>\n",
       "      <td>A. Morin</td>\n",
       "      <td>Agua Grande</td>\n",
       "      <td>1876</td>\n",
       "      <td>2016</td>\n",
       "      <td>0.63</td>\n",
       "      <td>France</td>\n",
       "      <td>3</td>\n",
       "      <td>Other</td>\n",
       "      <td>Sao Tome</td>\n",
       "    </tr>\n",
       "    <tr>\n",
       "      <th>1</th>\n",
       "      <td>A. Morin</td>\n",
       "      <td>Kpime</td>\n",
       "      <td>1676</td>\n",
       "      <td>2015</td>\n",
       "      <td>0.70</td>\n",
       "      <td>France</td>\n",
       "      <td>2</td>\n",
       "      <td>Other</td>\n",
       "      <td>Togo</td>\n",
       "    </tr>\n",
       "    <tr>\n",
       "      <th>2</th>\n",
       "      <td>A. Morin</td>\n",
       "      <td>Atsane</td>\n",
       "      <td>1676</td>\n",
       "      <td>2015</td>\n",
       "      <td>0.70</td>\n",
       "      <td>France</td>\n",
       "      <td>3</td>\n",
       "      <td>Other</td>\n",
       "      <td>Togo</td>\n",
       "    </tr>\n",
       "    <tr>\n",
       "      <th>3</th>\n",
       "      <td>A. Morin</td>\n",
       "      <td>Akata</td>\n",
       "      <td>1680</td>\n",
       "      <td>2015</td>\n",
       "      <td>0.70</td>\n",
       "      <td>France</td>\n",
       "      <td>3</td>\n",
       "      <td>Other</td>\n",
       "      <td>Togo</td>\n",
       "    </tr>\n",
       "    <tr>\n",
       "      <th>4</th>\n",
       "      <td>A. Morin</td>\n",
       "      <td>Quilla</td>\n",
       "      <td>1704</td>\n",
       "      <td>2015</td>\n",
       "      <td>0.70</td>\n",
       "      <td>France</td>\n",
       "      <td>3</td>\n",
       "      <td>Other</td>\n",
       "      <td>Peru</td>\n",
       "    </tr>\n",
       "  </tbody>\n",
       "</table>\n",
       "</div>"
      ],
      "text/plain": [
       "    Company Bean_Bar_Origin   REF  Review_year  Cocoa_percent  \\\n",
       "0  A. Morin     Agua Grande  1876         2016           0.63   \n",
       "1  A. Morin           Kpime  1676         2015           0.70   \n",
       "2  A. Morin          Atsane  1676         2015           0.70   \n",
       "3  A. Morin           Akata  1680         2015           0.70   \n",
       "4  A. Morin          Quilla  1704         2015           0.70   \n",
       "\n",
       "  Company_location  Rating Bean_type Bean_origin  \n",
       "0           France       3     Other    Sao Tome  \n",
       "1           France       2     Other        Togo  \n",
       "2           France       3     Other        Togo  \n",
       "3           France       3     Other        Togo  \n",
       "4           France       3     Other        Peru  "
      ]
     },
     "execution_count": 39,
     "metadata": {},
     "output_type": "execute_result"
    }
   ],
   "source": [
    "cacao_df.head()"
   ]
  },
  {
   "cell_type": "markdown",
   "metadata": {},
   "source": [
    "## 2.EDA"
   ]
  },
  {
   "cell_type": "code",
   "execution_count": 45,
   "metadata": {},
   "outputs": [
    {
     "data": {
      "text/plain": [
       "[]"
      ]
     },
     "execution_count": 45,
     "metadata": {},
     "output_type": "execute_result"
    },
    {
     "data": {
      "image/png": "[encoded data removed]",
      "text/plain": [
       "<Figure size 720x432 with 1 Axes>"
      ]
     },
     "metadata": {
      "needs_background": "light"
     },
     "output_type": "display_data"
    }
   ],
   "source": [
    "plt.figure(figsize=(10,6))\n",
    "sns.countplot(x = cacao_df['Review_year'])\n",
    "plt.plot()"
   ]
  },
  {
   "cell_type": "code",
   "execution_count": 117,
   "metadata": {},
   "outputs": [
    {
     "data": {
      "image/png": "[encoded data removed]",
      "text/plain": [
       "<Figure size 1080x288 with 1 Axes>"
      ]
     },
     "metadata": {
      "needs_background": "light"
     },
     "output_type": "display_data"
    }
   ],
   "source": [
    "plt.figure(figsize=(15,4))\n",
    "sns.countplot('Cocoa_percent', data=cacao_df[cacao_df['Cocoa_percent'] > 0.4], palette='ocean')\n",
    "plt.show()"
   ]
  },
  {
   "cell_type": "code",
   "execution_count": 74,
   "metadata": {},
   "outputs": [
    {
     "data": {
      "text/html": [
       "<div>\n",
       "<style scoped>\n",
       "    .dataframe tbody tr th:only-of-type {\n",
       "        vertical-align: middle;\n",
       "    }\n",
       "\n",
       "    .dataframe tbody tr th {\n",
       "        vertical-align: top;\n",
       "    }\n",
       "\n",
       "    .dataframe thead th {\n",
       "        text-align: right;\n",
       "    }\n",
       "</style>\n",
       "<table border=\"1\" class=\"dataframe\">\n",
       "  <thead>\n",
       "    <tr style=\"text-align: right;\">\n",
       "      <th></th>\n",
       "      <th>Company</th>\n",
       "      <th>Bean_Bar_Origin</th>\n",
       "      <th>REF</th>\n",
       "      <th>Review_year</th>\n",
       "      <th>Cocoa_percent</th>\n",
       "      <th>Company_location</th>\n",
       "      <th>Rating</th>\n",
       "      <th>Bean_type</th>\n",
       "      <th>Bean_origin</th>\n",
       "    </tr>\n",
       "  </thead>\n",
       "  <tbody>\n",
       "    <tr>\n",
       "      <th>0</th>\n",
       "      <td>A. Morin</td>\n",
       "      <td>Agua Grande</td>\n",
       "      <td>1876</td>\n",
       "      <td>2016</td>\n",
       "      <td>0.63</td>\n",
       "      <td>France</td>\n",
       "      <td>3</td>\n",
       "      <td>Other</td>\n",
       "      <td>Sao Tome</td>\n",
       "    </tr>\n",
       "    <tr>\n",
       "      <th>1</th>\n",
       "      <td>A. Morin</td>\n",
       "      <td>Kpime</td>\n",
       "      <td>1676</td>\n",
       "      <td>2015</td>\n",
       "      <td>0.70</td>\n",
       "      <td>France</td>\n",
       "      <td>2</td>\n",
       "      <td>Other</td>\n",
       "      <td>Togo</td>\n",
       "    </tr>\n",
       "    <tr>\n",
       "      <th>2</th>\n",
       "      <td>A. Morin</td>\n",
       "      <td>Atsane</td>\n",
       "      <td>1676</td>\n",
       "      <td>2015</td>\n",
       "      <td>0.70</td>\n",
       "      <td>France</td>\n",
       "      <td>3</td>\n",
       "      <td>Other</td>\n",
       "      <td>Togo</td>\n",
       "    </tr>\n",
       "    <tr>\n",
       "      <th>3</th>\n",
       "      <td>A. Morin</td>\n",
       "      <td>Akata</td>\n",
       "      <td>1680</td>\n",
       "      <td>2015</td>\n",
       "      <td>0.70</td>\n",
       "      <td>France</td>\n",
       "      <td>3</td>\n",
       "      <td>Other</td>\n",
       "      <td>Togo</td>\n",
       "    </tr>\n",
       "    <tr>\n",
       "      <th>4</th>\n",
       "      <td>A. Morin</td>\n",
       "      <td>Quilla</td>\n",
       "      <td>1704</td>\n",
       "      <td>2015</td>\n",
       "      <td>0.70</td>\n",
       "      <td>France</td>\n",
       "      <td>3</td>\n",
       "      <td>Other</td>\n",
       "      <td>Peru</td>\n",
       "    </tr>\n",
       "  </tbody>\n",
       "</table>\n",
       "</div>"
      ],
      "text/plain": [
       "    Company Bean_Bar_Origin   REF  Review_year  Cocoa_percent  \\\n",
       "0  A. Morin     Agua Grande  1876         2016           0.63   \n",
       "1  A. Morin           Kpime  1676         2015           0.70   \n",
       "2  A. Morin          Atsane  1676         2015           0.70   \n",
       "3  A. Morin           Akata  1680         2015           0.70   \n",
       "4  A. Morin          Quilla  1704         2015           0.70   \n",
       "\n",
       "  Company_location  Rating Bean_type Bean_origin  \n",
       "0           France       3     Other    Sao Tome  \n",
       "1           France       2     Other        Togo  \n",
       "2           France       3     Other        Togo  \n",
       "3           France       3     Other        Togo  \n",
       "4           France       3     Other        Peru  "
      ]
     },
     "execution_count": 74,
     "metadata": {},
     "output_type": "execute_result"
    }
   ],
   "source": [
    "cacao_df.head()"
   ]
  },
  {
   "cell_type": "code",
   "execution_count": 118,
   "metadata": {},
   "outputs": [
    {
     "data": {
      "image/png": "[encoded data removed]",
      "text/plain": [
       "<Figure size 504x360 with 1 Axes>"
      ]
     },
     "metadata": {
      "needs_background": "light"
     },
     "output_type": "display_data"
    }
   ],
   "source": [
    "col = 'Rating'\n",
    "plt.figure(figsize=(7,5))\n",
    "a = pd.DataFrame(cacao_df[col].value_counts()[:15]).reset_index()\n",
    "sns.barplot(x='index', y=col, data=a, palette='ocean')\n",
    "plt.show()"
   ]
  },
  {
   "cell_type": "code",
   "execution_count": 124,
   "metadata": {},
   "outputs": [
    {
     "data": {
      "image/png": "[encoded data removed]",
      "text/plain": [
       "<Figure size 576x432 with 1 Axes>"
      ]
     },
     "metadata": {
      "needs_background": "light"
     },
     "output_type": "display_data"
    }
   ],
   "source": [
    "col = 'Review_year'\n",
    "plt.figure(figsize=(8,6))\n",
    "a = pd.DataFrame(cacao_df[col].value_counts()[:15]).reset_index()\n",
    "sns.barplot(x='index', y=col, data=a)\n",
    "plt.show()"
   ]
  },
  {
   "cell_type": "code",
   "execution_count": 123,
   "metadata": {},
   "outputs": [
    {
     "data": {
      "image/png": "[encoded data removed]",
      "text/plain": [
       "<Figure size 576x432 with 1 Axes>"
      ]
     },
     "metadata": {
      "needs_background": "light"
     },
     "output_type": "display_data"
    }
   ],
   "source": [
    "col = 'Bean_type'\n",
    "plt.figure(figsize=(8,6))\n",
    "a = pd.DataFrame(cacao_df[col].value_counts()[:6]).reset_index()\n",
    "sns.barplot(x='index', y=col, data=a)\n",
    "plt.show()"
   ]
  },
  {
   "cell_type": "code",
   "execution_count": 122,
   "metadata": {},
   "outputs": [
    {
     "data": {
      "image/png": "[encoded data removed]",
      "text/plain": [
       "<Figure size 720x360 with 1 Axes>"
      ]
     },
     "metadata": {
      "needs_background": "light"
     },
     "output_type": "display_data"
    }
   ],
   "source": [
    "col = 'Bean_origin'\n",
    "plt.figure(figsize=(10,5))\n",
    "a = pd.DataFrame(cacao_df[col].value_counts()[:15]).reset_index()\n",
    "sns.barplot(y='index', x=col, data=a)\n",
    "plt.show()"
   ]
  },
  {
   "cell_type": "code",
   "execution_count": 116,
   "metadata": {},
   "outputs": [
    {
     "data": {
      "image/png": "[encoded data removed]",
      "text/plain": [
       "<Figure size 720x360 with 1 Axes>"
      ]
     },
     "metadata": {
      "needs_background": "light"
     },
     "output_type": "display_data"
    }
   ],
   "source": [
    "col = 'Bean_Bar_Origin'\n",
    "plt.figure(figsize=(10,5))\n",
    "a = pd.DataFrame(cacao_df[col].value_counts()[:15]).reset_index()\n",
    "sns.barplot(y='index', x=col, data=a)\n",
    "plt.show()"
   ]
  },
  {
   "cell_type": "code",
   "execution_count": null,
   "metadata": {},
   "outputs": [],
   "source": []
  },
  {
   "cell_type": "code",
   "execution_count": null,
   "metadata": {},
   "outputs": [],
   "source": []
  },
  {
   "cell_type": "code",
   "execution_count": null,
   "metadata": {},
   "outputs": [],
   "source": []
  },
  {
   "cell_type": "code",
   "execution_count": null,
   "metadata": {},
   "outputs": [],
   "source": []
  },
  {
   "cell_type": "code",
   "execution_count": null,
   "metadata": {},
   "outputs": [],
   "source": []
  }
 ],
 "metadata": {
  "interpreter": {
   "hash": "6ace13e61ce3de3b06427a7ec45493e011c9b4deda0cc4d80d8e288107ab820d"
  },
  "kernelspec": {
   "display_name": "Python 3",
   "language": "python",
   "name": "python3"
  },
  "language_info": {
   "codemirror_mode": {
    "name": "ipython",
    "version": 3
   },
   "file_extension": ".py",
   "mimetype": "text/x-python",
   "name": "python",
   "nbconvert_exporter": "python",
   "pygments_lexer": "ipython3",
   "version": "3.7.4"
  }
 },
 "nbformat": 4,
 "nbformat_minor": 2
}
